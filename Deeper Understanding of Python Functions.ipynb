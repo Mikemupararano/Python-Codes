{
 "cells": [
  {
   "cell_type": "code",
   "execution_count": null,
   "id": "221f0931",
   "metadata": {},
   "outputs": [],
   "source": [
    "country=\"USA\"\n",
    "city=\"Seattle\"\n"
   ]
  },
  {
   "cell_type": "code",
   "execution_count": 10,
   "id": "b0f2fb17",
   "metadata": {},
   "outputs": [],
   "source": [
    "def some_fn():\n",
    "    print(\"Country: \", country)\n",
    "    print(\"City:    \",city)"
   ]
  },
  {
   "cell_type": "code",
   "execution_count": 11,
   "id": "a83ff004",
   "metadata": {},
   "outputs": [
    {
     "name": "stdout",
     "output_type": "stream",
     "text": [
      "Country:  USA\n",
      "City:     Seattle\n"
     ]
    }
   ],
   "source": [
    "some_fn()\n"
   ]
  },
  {
   "cell_type": "code",
   "execution_count": 10,
   "id": "79d25068",
   "metadata": {},
   "outputs": [],
   "source": [
    "country=\"Rhodesia\"\n",
    "city=\"Salisbury\""
   ]
  },
  {
   "cell_type": "code",
   "execution_count": 14,
   "id": "1ab39a49",
   "metadata": {},
   "outputs": [],
   "source": [
    "def some_fn():\n",
    "        print(\"Country: \", country+ \"-Zimbabwe\")\n",
    "        print(\"City:    \",city +\"-Harare\")"
   ]
  },
  {
   "cell_type": "code",
   "execution_count": 15,
   "id": "f02f8bbb",
   "metadata": {},
   "outputs": [
    {
     "name": "stdout",
     "output_type": "stream",
     "text": [
      "Country:  Rhodesia-Zimbabwe\n",
      "City:     Salisbury-Harare\n"
     ]
    }
   ],
   "source": [
    "some_fn()"
   ]
  },
  {
   "cell_type": "code",
   "execution_count": null,
   "id": "c72d7644",
   "metadata": {},
   "outputs": [],
   "source": [
    "#name=\"Lancelot\"\n",
    "#surname=\"Nyauyanga\""
   ]
  },
  {
   "cell_type": "code",
   "execution_count": 1,
   "id": "969c9575",
   "metadata": {},
   "outputs": [],
   "source": [
    "#def family_details():\n",
    "   # name=name + \"Ndikiye\"\n",
    "    #surname=\"Chipanzvi\"\n",
    "   # global name; surname\n",
    "    #print(\"Name: \", name + \"-Mupararano\")\n",
    "   # print(\"Surname: \", surname)"
   ]
  },
  {
   "cell_type": "code",
   "execution_count": 2,
   "id": "79521e81",
   "metadata": {},
   "outputs": [],
   "source": [
    "#family_details()"
   ]
  },
  {
   "cell_type": "code",
   "execution_count": null,
   "id": "63c083ef",
   "metadata": {},
   "outputs": [],
   "source": []
  },
  {
   "cell_type": "code",
   "execution_count": 7,
   "id": "55b9ce98",
   "metadata": {},
   "outputs": [
    {
     "name": "stdout",
     "output_type": "stream",
     "text": [
      "Outside the function ['Kuda', 'Kudzai', 'Tatenda']\n",
      "Inside the function ['Kuda', 'Kudzai', 'Tatenda', 'Alfred']\n"
     ]
    }
   ],
   "source": [
    "vana_list= [\"Kuda\", \"Kudzai\", \"Tatenda\"]\n",
    "def chn(vana_list):\n",
    "    vana_list.append(\"Alfred\")\n",
    "    print(\"Inside the function\", vana_list)\n",
    "\n",
    "print(\"Outside the function\", vana_list)\n",
    "chn(vana_list)"
   ]
  },
  {
   "cell_type": "code",
   "execution_count": null,
   "id": "96034c4d",
   "metadata": {},
   "outputs": [],
   "source": []
  },
  {
   "cell_type": "code",
   "execution_count": 33,
   "id": "7c2eadca",
   "metadata": {},
   "outputs": [
    {
     "ename": "SyntaxError",
     "evalue": "name 'hill_1' is parameter and global (Temp/ipykernel_16336/2440725589.py, line 4)",
     "output_type": "error",
     "traceback": [
      "\u001b[1;36m  File \u001b[1;32m\"C:\\Users\\1thomas\\AppData\\Local\\Temp/ipykernel_16336/2440725589.py\"\u001b[1;36m, line \u001b[1;32m4\u001b[0m\n\u001b[1;33m    global hill_1\u001b[0m\n\u001b[1;37m    ^\u001b[0m\n\u001b[1;31mSyntaxError\u001b[0m\u001b[1;31m:\u001b[0m name 'hill_1' is parameter and global\n"
     ]
    }
   ],
   "source": [
    "hill_1=\"Nyamsoto\"\n",
    "hill_2=\"Gweregwere\"\n",
    "def hills(hill_1,hill_2):\n",
    "    global hill_1\n",
    "    hill_1=\"Nyamasoto\"\n",
    "    hill_2=\"Gweregwere\"\n",
    "    print(\"Hill number 1 is\", hill_1)\n",
    "    print(\"Hill number 2 is\", hill_2)"
   ]
  },
  {
   "cell_type": "code",
   "execution_count": 37,
   "id": "c82f0b53",
   "metadata": {},
   "outputs": [
    {
     "name": "stdout",
     "output_type": "stream",
     "text": [
      "Hill number 1 is Nyamasoto1\n",
      "Hill number 2 is Gweregwere\n"
     ]
    }
   ],
   "source": [
    "hills(hill_1,hill_2)\n"
   ]
  },
  {
   "cell_type": "code",
   "execution_count": 50,
   "id": "b7f9c077",
   "metadata": {},
   "outputs": [],
   "source": [
    "num_1=30\n",
    "num_2=30\n",
    "def add_numbers():\n",
    "    global num_1\n",
    "    num_1=20\n",
    "    num_2=30\n",
    "    return num_1+num_2\n",
    "    \n",
    "\n",
    "    "
   ]
  },
  {
   "cell_type": "code",
   "execution_count": 51,
   "id": "d7f6407c",
   "metadata": {},
   "outputs": [
    {
     "data": {
      "text/plain": [
       "50"
      ]
     },
     "execution_count": 51,
     "metadata": {},
     "output_type": "execute_result"
    }
   ],
   "source": [
    "add_numbers()"
   ]
  },
  {
   "cell_type": "code",
   "execution_count": 52,
   "id": "69ca75d9",
   "metadata": {},
   "outputs": [
    {
     "name": "stdout",
     "output_type": "stream",
     "text": [
      "\n",
      "Please wait a moment while I gather a list of all available modules...\n",
      "\n"
     ]
    },
    {
     "name": "stderr",
     "output_type": "stream",
     "text": [
      "C:\\Users\\1thomas\\Anaconda3\\lib\\site-packages\\IPython\\kernel\\__init__.py:12: ShimWarning: The `IPython.kernel` package has been deprecated since IPython 4.0.You should import from ipykernel or jupyter_client instead.\n",
      "  warn(\"The `IPython.kernel` package has been deprecated since IPython 4.0.\"\n",
      "WARNING: AstropyDeprecationWarning: The private astropy._erfa module has been made into its own package, pyerfa, which is a dependency of astropy and can be imported directly using \"import erfa\" [astropy._erfa]\n",
      "C:\\Users\\1thomas\\Anaconda3\\lib\\pkgutil.py:93: MatplotlibDeprecationWarning: \n",
      "The matplotlib.compat module was deprecated in Matplotlib 3.3 and will be removed two minor releases later.\n",
      "  __import__(info.name)\n",
      "C:\\Users\\1thomas\\Anaconda3\\lib\\site-packages\\nltk\\twitter\\__init__.py:20: UserWarning: The twython library has not been installed. Some functionality from the twitter package will not be available.\n",
      "  warnings.warn(\n"
     ]
    },
    {
     "name": "stdout",
     "output_type": "stream",
     "text": [
      "Update LANGUAGE_CODES (inside config/base.py) if a new translation has been added to Spyder\n"
     ]
    },
    {
     "name": "stderr",
     "output_type": "stream",
     "text": [
      "QSS file sucessfuly loaded.\n",
      "Found application patches to be applied.\n",
      "No QCoreApplication instance found. Application patches not applied. You have to call load_stylesheet function after instantiation of QApplication to take effect. \n",
      "C:\\Users\\1thomas\\Anaconda3\\lib\\pkgutil.py:108: VisibleDeprecationWarning: zmq.eventloop.minitornado is deprecated in pyzmq 14.0 and will be removed.\n",
      "    Install tornado itself to use zmq with the tornado IOLoop.\n",
      "    \n",
      "  yield from walk_packages(path, info.name+'.', onerror)\n"
     ]
    },
    {
     "name": "stdout",
     "output_type": "stream",
     "text": [
      "Cython              codecs              modulefinder        soupsieve\n",
      "IPython             codeop              more_itertools      sphinx\n",
      "OpenSSL             collections         mpmath              sphinxcontrib\n",
      "PIL                 colorama            msgpack             spyder\n",
      "PyQt5               colorsys            msilib              spyder_kernels\n",
      "TBB                 commctrl            msvcrt              sqlalchemy\n",
      "__future__          compileall          multipledispatch    sqlite3\n",
      "_abc                comtypes            multiprocessing     sre_compile\n",
      "_aix_support        concurrent          munkres             sre_constants\n",
      "_ast                conda               mypy_extensions     sre_parse\n",
      "_asyncio            conda_build         nacl                ssl\n",
      "_bisect             conda_content_trust navigator_updater   sspi\n",
      "_black_version      conda_env           nbclassic           sspicon\n",
      "_blake2             conda_pack          nbclient            stat\n",
      "_bootlocale         conda_package_handling nbconvert           statistics\n",
      "_bootsubprocess     conda_token         nbformat            statsmodels\n",
      "_bz2                conda_verify        nest_asyncio        storemagic\n",
      "_cffi_backend       configparser        netbios             string\n",
      "_codecs             contextlib          netrc               stringprep\n",
      "_codecs_cn          contextlib2         networkx            struct\n",
      "_codecs_hk          contextvars         nltk                subprocess\n",
      "_codecs_iso2022     cookiecutter        nntplib             sunau\n",
      "_codecs_jp          copy                nose                symbol\n",
      "_codecs_kr          copyreg             notebook            sympy\n",
      "_codecs_tw          crypt               nt                  sympyprinting\n",
      "_collections        cryptography        ntpath              symtable\n",
      "_collections_abc    csv                 ntsecuritycon       sys\n",
      "_compat_pickle      ctypes              nturl2path          sysconfig\n",
      "_compression        curl                numba               tables\n",
      "_contextvars        curses              numbers             tabnanny\n",
      "_csv                cwp                 numexpr             tarfile\n",
      "_ctypes             cycler              numpy               tbb\n",
      "_ctypes_test        cython              numpydoc            tblib\n",
      "_daal4py            cythonmagic         odbc                telnetlib\n",
      "_datetime           cytoolz             olefile             tempfile\n",
      "_decimal            daal4py             onedal              terminado\n",
      "_distutils_hack     dask                opcode              test\n",
      "_elementtree        dataclasses         openpyxl            test_pycosat\n",
      "_functools          datetime            operator            testpath\n",
      "_hashlib            dateutil            optparse            tests\n",
      "_heapq              dbi                 os                  text_unidecode\n",
      "_imp                dbm                 packaging           textdistance\n",
      "_io                 dde                 pandas              textwrap\n",
      "_json               debugpy             pandocfilters       this\n",
      "_locale             decimal             paramiko            threading\n",
      "_lsprof             decorator           parser              threadpoolctl\n",
      "_lzma               defusedxml          parso               three_merge\n",
      "_markupbase         diff_match_patch    partd               tifffile\n",
      "_md5                difflib             past                time\n",
      "_msi                dis                 path                timeit\n",
      "_multibytecodec     distributed         pathlib             timer\n",
      "_multiprocessing    distutils           pathlib2            tinycss\n",
      "_nsis               doctest             pathspec            tkinter\n",
      "_onedal4py_host     docutils            patsy               tlz\n",
      "_opcode             email               pdb                 token\n",
      "_operator           encodings           pep8                tokenize\n",
      "_osx_support        ensurepip           perfmon             toml\n",
      "_overlapped         entrypoints         pexpect             toolz\n",
      "_peg_parser         enum                pickle              tornado\n",
      "_pickle             erfa                pickleshare         tqdm\n",
      "_py_abc             errno               pickletools         trace\n",
      "_pydecimal          et_xmlfile          pip                 traceback\n",
      "_pyio               fastcache           pipes               tracemalloc\n",
      "_pyrsistent_version faulthandler        pkg_resources       traitlets\n",
      "_pytest             filecmp             pkginfo             tty\n",
      "_queue              fileinput           pkgutil             turtle\n",
      "_random             filelock            platform            turtledemo\n",
      "_sha1               flake8              plistlib            typed_ast\n",
      "_sha256             flask               pluggy              types\n",
      "_sha3               fnmatch             ply                 typing\n",
      "_sha512             fontTools           poplib              typing_extensions\n",
      "_signal             formatter           posixpath           ujson\n",
      "_sitebuiltins       fractions           poyo                unicodecsv\n",
      "_socket             fsspec              pprint              unicodedata\n",
      "_sqlite3            ftplib              profile             unidecode\n",
      "_sre                functools           prometheus_client   unittest\n",
      "_ssl                future              prompt_toolkit      urllib\n",
      "_stat               gc                  pstats              urllib3\n",
      "_statistics         genericpath         psutil              uu\n",
      "_string             getopt              pty                 uuid\n",
      "_strptime           getpass             ptyprocess          venv\n",
      "_struct             gettext             pvectorc            warnings\n",
      "_symtable           gevent              py                  watchdog\n",
      "_system_path        glob                py_compile          wave\n",
      "_testbuffer         glob2               pyclbr              wcwidth\n",
      "_testcapi           graphlib            pycodestyle         weakref\n",
      "_testconsole        greenlet            pycosat             webbrowser\n",
      "_testimportmultiple gzip                pycparser           webencodings\n",
      "_testinternalcapi   h5py                pycurl              werkzeug\n",
      "_testmultiphase     hashlib             pydoc               wheel\n",
      "_thread             heapdict            pydoc_data          whichcraft\n",
      "_threading_local    heapq               pydocstyle          widgetsnbextension\n",
      "_tkinter            hmac                pyexpat             win2kras\n",
      "_tracemalloc        html                pyflakes            win32api\n",
      "_uuid               html5lib            pygments            win32clipboard\n",
      "_warnings           http                pylab               win32com\n",
      "_weakref            idlelib             pylint              win32con\n",
      "_weakrefset         idna                pyls_spyder         win32console\n",
      "_win32sysloader     imagecodecs         pylsp               win32cred\n",
      "_winapi             imageio             pylsp_black         win32crypt\n",
      "_winxptheme         imagesize           pylsp_jsonrpc       win32cryptcon\n",
      "_xxsubinterpreters  imaplib             pyodbc              win32ctypes\n",
      "_yaml               imghdr              pyparsing           win32event\n",
      "_zoneinfo           imp                 pyreadline          win32evtlog\n",
      "abc                 importlib           pyrsistent          win32evtlogutil\n",
      "adodbapi            importlib_metadata  pytest              win32file\n",
      "afxres              inflection          pythoncom           win32gui\n",
      "aifc                iniconfig           pytz                win32gui_struct\n",
      "alabaster           inspect             pywin               win32help\n",
      "anaconda_navigator  intervaltree        pywin32_bootstrap   win32inet\n",
      "anaconda_project    io                  pywin32_testutil    win32inetcon\n",
      "antigravity         ipaddress           pywintypes          win32job\n",
      "anyio               ipykernel           pywt                win32lz\n",
      "appdirs             ipykernel_launcher  pyximport           win32net\n",
      "argh                ipython_genutils    qdarkstyle          win32netcon\n",
      "argon2              ipywidgets          qstylizer           win32pdh\n",
      "argparse            isapi               qtawesome           win32pdhquery\n",
      "array               isort               qtconsole           win32pdhutil\n",
      "arrow               isympy              qtpy                win32pipe\n",
      "asn1crypto          itertools           queue               win32print\n",
      "ast                 itsdangerous        quopri              win32process\n",
      "astroid             jdcal               random              win32profile\n",
      "astropy             jedi                rasutil             win32ras\n",
      "async_generator     jinja2              re                  win32rcparser\n",
      "asynchat            jinja2_time         readline            win32security\n",
      "asyncio             joblib              regcheck            win32service\n",
      "asyncore            json                regex               win32serviceutil\n",
      "atexit              json5               regutil             win32timezone\n",
      "atomicwrites        jsonschema          repo_cli            win32trace\n",
      "attr                jupyter             reprlib             win32traceutil\n",
      "audioop             jupyter_client      requests            win32transaction\n",
      "autopep8            jupyter_console     rlcompleter         win32ts\n",
      "autoreload          jupyter_core        rmagic              win32ui\n",
      "babel               jupyter_server      rope                win32uiole\n",
      "backcall            jupyterlab          rtree               win32verstamp\n",
      "backports           jupyterlab_pygments ruamel_yaml         win32wnet\n",
      "base64              jupyterlab_server   run                 win_inet_pton\n",
      "bcrypt              jupyterlab_widgets  runpy               win_unicode_console\n",
      "bdb                 jwt                 sched               wincertstore\n",
      "binaryornot         keyring             scipy               winerror\n",
      "binascii            keyword             seaborn             winioctlcon\n",
      "binhex              kiwisolver          secrets             winnt\n",
      "binstar_client      lazy_object_proxy   select              winperf\n",
      "bisect              lib2to3             selectors           winpty\n",
      "bitarray            libarchive          send2trash          winreg\n",
      "bkcharts            libfuturize         servicemanager      winsound\n",
      "black               libpasteurize       setuptools          winxpgui\n",
      "blackd              lief                shelve              winxptheme\n",
      "bleach              linecache           shlex               wrapt\n",
      "blib2to3            llvmlite            shutil              wsgiref\n",
      "bokeh               locale              signal              xdrlib\n",
      "boto                locket              simplegeneric       xlrd\n",
      "bottleneck          logging             singledispatch      xlsxwriter\n",
      "brotli              lxml                sip                 xlwings\n",
      "bs4                 lzma                sipconfig           xlwt\n",
      "builtins            mailbox             sipdistutils        xml\n",
      "bz2                 mailcap             site                xmlrpc\n",
      "cProfile            markupsafe          six                 xmltodict\n",
      "cached_property     marshal             skimage             xxsubtype\n",
      "calendar            math                sklearn             yaml\n",
      "certifi             matplotlib          sklearnex           yapf\n",
      "cffi                matplotlib_inline   slugify             yapftests\n",
      "cgi                 mccabe              smtpd               zict\n",
      "cgitb               menuinst            smtplib             zipapp\n",
      "chardet             mimetypes           sndhdr              zipfile\n",
      "charset_normalizer  mistune             sniffio             zipimport\n",
      "chunk               mkl                 snowballstemmer     zipp\n",
      "click               mkl_fft             socket              zlib\n",
      "cloudpickle         mkl_random          socketserver        zmq\n",
      "clyent              mmap                socks               zoneinfo\n",
      "cmath               mmapfile            sockshandler        zope\n",
      "cmd                 mmsystem            sortedcollections   \n",
      "code                mock                sortedcontainers    \n",
      "\n",
      "Enter any module name to get more help.  Or, type \"modules spam\" to search\n",
      "for modules whose name or summary contain the string \"spam\".\n",
      "\n"
     ]
    }
   ],
   "source": [
    "help (\"modules\")"
   ]
  },
  {
   "cell_type": "code",
   "execution_count": null,
   "id": "8b441fb5",
   "metadata": {},
   "outputs": [],
   "source": []
  },
  {
   "cell_type": "code",
   "execution_count": 81,
   "id": "768c3341",
   "metadata": {},
   "outputs": [],
   "source": [
    "#Fibonaucci sequence\n",
    "def fb(n):\n",
    "    a=0\n",
    "    b=1\n",
    "    while a<n:\n",
    "        print(a,end=\"\")\n",
    "        a=b\n",
    "        b=a+b\n",
    "    #print()\n",
    "        "
   ]
  },
  {
   "cell_type": "code",
   "execution_count": 83,
   "id": "c8d3e565",
   "metadata": {},
   "outputs": [
    {
     "name": "stdout",
     "output_type": "stream",
     "text": [
      "012481632641282565121024"
     ]
    }
   ],
   "source": [
    "fb(2000)"
   ]
  },
  {
   "cell_type": "code",
   "execution_count": 87,
   "id": "4fe83e72",
   "metadata": {},
   "outputs": [
    {
     "name": "stdout",
     "output_type": "stream",
     "text": [
      "3.141592653589793\n"
     ]
    }
   ],
   "source": [
    "import math\n",
    "print(math.pi)"
   ]
  },
  {
   "cell_type": "code",
   "execution_count": 88,
   "id": "d0699daa",
   "metadata": {},
   "outputs": [
    {
     "data": {
      "text/plain": [
       "2.718281828459045"
      ]
     },
     "execution_count": 88,
     "metadata": {},
     "output_type": "execute_result"
    }
   ],
   "source": [
    "math.e"
   ]
  },
  {
   "cell_type": "code",
   "execution_count": 93,
   "id": "b4d06c2d",
   "metadata": {},
   "outputs": [
    {
     "data": {
      "text/plain": [
       "2.718281828459045"
      ]
     },
     "execution_count": 93,
     "metadata": {},
     "output_type": "execute_result"
    }
   ],
   "source": [
    "math.e"
   ]
  },
  {
   "cell_type": "code",
   "execution_count": 95,
   "id": "aea0fab0",
   "metadata": {},
   "outputs": [
    {
     "data": {
      "text/plain": [
       "'C:\\\\Users\\\\1thomas'"
      ]
     },
     "execution_count": 95,
     "metadata": {},
     "output_type": "execute_result"
    }
   ],
   "source": [
    "import os\n",
    "os.getcwd()"
   ]
  },
  {
   "cell_type": "code",
   "execution_count": 96,
   "id": "b26b352f",
   "metadata": {},
   "outputs": [
    {
     "data": {
      "text/plain": [
       "environ{'ALLUSERSPROFILE': 'C:\\\\ProgramData',\n",
       "        'APPDATA': 'C:\\\\Users\\\\1thomas\\\\AppData\\\\Roaming',\n",
       "        'COMMONPROGRAMFILES': 'C:\\\\Program Files\\\\Common Files',\n",
       "        'COMMONPROGRAMFILES(X86)': 'C:\\\\Program Files (x86)\\\\Common Files',\n",
       "        'COMMONPROGRAMW6432': 'C:\\\\Program Files\\\\Common Files',\n",
       "        'COMPUTERNAME': 'DESKTOP-3623R8R',\n",
       "        'COMSPEC': 'C:\\\\windows\\\\system32\\\\cmd.exe',\n",
       "        'CONDA_DEFAULT_ENV': 'base',\n",
       "        'CONDA_EXE': 'C:\\\\Users\\\\1thomas\\\\Anaconda3\\\\Scripts\\\\conda.exe',\n",
       "        'CONDA_PROMPT_MODIFIER': '(base) ',\n",
       "        'CONDA_PYTHON_EXE': 'C:\\\\Users\\\\1thomas\\\\Anaconda3\\\\python.exe',\n",
       "        'CONDA_SHLVL': '1',\n",
       "        'DATAGRIP': 'C:\\\\Users\\\\1thomas\\\\DataGrip 2022.1.5\\\\bin;',\n",
       "        'DATASPELL': 'C:\\\\Program Files\\\\JetBrains\\\\DataSpell 2021.3.3\\\\bin;',\n",
       "        'DRIVERDATA': 'C:\\\\Windows\\\\System32\\\\Drivers\\\\DriverData',\n",
       "        'FPS_BROWSER_APP_PROFILE_STRING': 'Internet Explorer',\n",
       "        'FPS_BROWSER_USER_PROFILE_STRING': 'Default',\n",
       "        'HOMEDRIVE': 'N:',\n",
       "        'HOMEPATH': '\\\\',\n",
       "        'HOMESHARE': '\\\\\\\\FILESERVER1\\\\homedrives$\\\\Staff\\\\1Thomas',\n",
       "        'INTELLIJ IDEA COMMUNITY EDITION': 'C:\\\\Program Files\\\\JetBrains\\\\IntelliJ IDEA Community Edition 2021.3.3\\\\bin;',\n",
       "        'LOCALAPPDATA': 'C:\\\\Users\\\\1thomas\\\\AppData\\\\Local',\n",
       "        'LOGONSERVER': '\\\\\\\\BETHANYDC1',\n",
       "        'NUMBER_OF_PROCESSORS': '8',\n",
       "        'ONEDRIVE': 'C:\\\\Users\\\\1thomas\\\\OneDrive - Bethany School',\n",
       "        'ONEDRIVECOMMERCIAL': 'C:\\\\Users\\\\1thomas\\\\OneDrive - Bethany School',\n",
       "        'OS': 'Windows_NT',\n",
       "        'PATH': 'C:\\\\Users\\\\1thomas\\\\Anaconda3\\\\Lib\\\\site-packages\\\\daal4py\\\\oneapi;C:\\\\Users\\\\1thomas\\\\Anaconda3\\\\lib\\\\site-packages\\\\daal4py\\\\oneapi;C:\\\\Users\\\\1thomas\\\\Anaconda3;C:\\\\Users\\\\1thomas\\\\Anaconda3\\\\Library\\\\mingw-w64\\\\bin;C:\\\\Users\\\\1thomas\\\\Anaconda3\\\\Library\\\\usr\\\\bin;C:\\\\Users\\\\1thomas\\\\Anaconda3\\\\Library\\\\bin;C:\\\\Users\\\\1thomas\\\\Anaconda3\\\\Scripts;C:\\\\Users\\\\1thomas\\\\Anaconda3\\\\bin;C:\\\\Users\\\\1thomas\\\\Anaconda3\\\\condabin;C:\\\\Users\\\\1thomas\\\\Anaconda3;C:\\\\Users\\\\1thomas\\\\Anaconda3\\\\Library\\\\mingw-w64\\\\bin;C:\\\\Users\\\\1thomas\\\\Anaconda3\\\\Library\\\\usr\\\\bin;C:\\\\Users\\\\1thomas\\\\Anaconda3\\\\Library\\\\bin;C:\\\\Users\\\\1thomas\\\\Anaconda3\\\\Scripts;C:\\\\windows\\\\system32;C:\\\\windows;C:\\\\windows\\\\System32\\\\Wbem;C:\\\\windows\\\\System32\\\\WindowsPowerShell\\\\v1.0;C:\\\\windows\\\\System32\\\\OpenSSH;C:\\\\Users\\\\1thomas\\\\AppData\\\\Local\\\\Microsoft\\\\WindowsApps;.;C:\\\\Program Files\\\\JetBrains\\\\PyCharm Community Edition 2021.3.3\\\\bin;.;C:\\\\Program Files\\\\JetBrains\\\\IntelliJ IDEA Community Edition 2021.3.3\\\\bin;.;C:\\\\Program Files\\\\JetBrains\\\\DataSpell 2021.3.3\\\\bin;.;C:\\\\Users\\\\1thomas\\\\DataGrip 2022.1.5\\\\bin;.;C:\\\\Users\\\\1thomas\\\\Anaconda3\\\\Library\\\\bin;C:\\\\Users\\\\1thomas\\\\Anaconda3\\\\lib\\\\site-packages\\\\llvmlite\\\\binding',\n",
       "        'PATHEXT': '.COM;.EXE;.BAT;.CMD;.VBS;.VBE;.JS;.JSE;.WSF;.WSH;.MSC',\n",
       "        'PROCESSOR_ARCHITECTURE': 'AMD64',\n",
       "        'PROCESSOR_IDENTIFIER': 'Intel64 Family 6 Model 142 Stepping 10, GenuineIntel',\n",
       "        'PROCESSOR_LEVEL': '6',\n",
       "        'PROCESSOR_REVISION': '8e0a',\n",
       "        'PROGRAMDATA': 'C:\\\\ProgramData',\n",
       "        'PROGRAMFILES': 'C:\\\\Program Files',\n",
       "        'PROGRAMFILES(X86)': 'C:\\\\Program Files (x86)',\n",
       "        'PROGRAMW6432': 'C:\\\\Program Files',\n",
       "        'PROMPT': '(base) $P$G',\n",
       "        'PSMODULEPATH': 'C:\\\\Program Files\\\\WindowsPowerShell\\\\Modules;C:\\\\windows\\\\system32\\\\WindowsPowerShell\\\\v1.0\\\\Modules',\n",
       "        'PUBLIC': 'C:\\\\Users\\\\Public',\n",
       "        'PYCHARM COMMUNITY EDITION': 'C:\\\\Program Files\\\\JetBrains\\\\PyCharm Community Edition 2021.3.3\\\\bin;',\n",
       "        'SESSIONNAME': 'Console',\n",
       "        'SYSTEMDRIVE': 'C:',\n",
       "        'SYSTEMROOT': 'C:\\\\windows',\n",
       "        'TEMP': 'C:\\\\Users\\\\1thomas\\\\AppData\\\\Local\\\\Temp',\n",
       "        'TMP': 'C:\\\\Users\\\\1thomas\\\\AppData\\\\Local\\\\Temp',\n",
       "        'USERDNSDOMAIN': 'BETHANY.INTERNAL',\n",
       "        'USERDOMAIN': 'BETHANY',\n",
       "        'USERDOMAIN_ROAMINGPROFILE': 'BETHANY',\n",
       "        'USERNAME': '1Thomas',\n",
       "        'USERPROFILE': 'C:\\\\Users\\\\1thomas',\n",
       "        'WINDIR': 'C:\\\\windows',\n",
       "        'CONDA_PREFIX': 'C:\\\\Users\\\\1thomas\\\\Anaconda3',\n",
       "        'CONDA_ROOT': 'C:\\\\Users\\\\1thomas\\\\Anaconda3',\n",
       "        'PYDEVD_USE_FRAME_EVAL': 'NO',\n",
       "        'JPY_INTERRUPT_EVENT': '2648',\n",
       "        'IPY_INTERRUPT_EVENT': '2648',\n",
       "        'JPY_PARENT_PID': '2644',\n",
       "        'TERM': 'xterm-color',\n",
       "        'CLICOLOR': '1',\n",
       "        'PAGER': 'cat',\n",
       "        'GIT_PAGER': 'cat',\n",
       "        'MPLBACKEND': 'module://matplotlib_inline.backend_inline',\n",
       "        'QT_API': 'pyqt5',\n",
       "        'KMP_DUPLICATE_LIB_OK': 'True',\n",
       "        'KMP_INIT_AT_FORK': 'FALSE',\n",
       "        'LANG': 'en'}"
      ]
     },
     "execution_count": 96,
     "metadata": {},
     "output_type": "execute_result"
    }
   ],
   "source": [
    "os.environ"
   ]
  },
  {
   "cell_type": "code",
   "execution_count": 107,
   "id": "85e64715",
   "metadata": {},
   "outputs": [],
   "source": [
    "#os.environ[\"USER\"]\n",
    "#print(\"User: \", user)\n"
   ]
  },
  {
   "cell_type": "code",
   "execution_count": 105,
   "id": "6b533f8e",
   "metadata": {},
   "outputs": [],
   "source": [
    "#import os\n",
    "#os.environ[\"PATH\"]\n",
    "#print(\"The path is: \", path)"
   ]
  },
  {
   "cell_type": "code",
   "execution_count": 106,
   "id": "5a2118d2",
   "metadata": {},
   "outputs": [
    {
     "name": "stdout",
     "output_type": "stream",
     "text": [
      "['DirEntry', 'F_OK', 'GenericAlias', 'Mapping', 'MutableMapping', 'O_APPEND', 'O_BINARY', 'O_CREAT', 'O_EXCL', 'O_NOINHERIT', 'O_RANDOM', 'O_RDONLY', 'O_RDWR', 'O_SEQUENTIAL', 'O_SHORT_LIVED', 'O_TEMPORARY', 'O_TEXT', 'O_TRUNC', 'O_WRONLY', 'P_DETACH', 'P_NOWAIT', 'P_NOWAITO', 'P_OVERLAY', 'P_WAIT', 'PathLike', 'R_OK', 'SEEK_CUR', 'SEEK_END', 'SEEK_SET', 'TMP_MAX', 'W_OK', 'X_OK', '_AddedDllDirectory', '_Environ', '__all__', '__builtins__', '__cached__', '__doc__', '__file__', '__loader__', '__name__', '__package__', '__spec__', '_check_methods', '_execvpe', '_exists', '_exit', '_fspath', '_get_exports_list', '_walk', '_wrap_close', 'abc', 'abort', 'access', 'add_dll_directory', 'altsep', 'chdir', 'chmod', 'close', 'closerange', 'cpu_count', 'curdir', 'defpath', 'device_encoding', 'devnull', 'dup', 'dup2', 'environ', 'error', 'execl', 'execle', 'execlp', 'execlpe', 'execv', 'execve', 'execvp', 'execvpe', 'extsep', 'fdopen', 'fsdecode', 'fsencode', 'fspath', 'fstat', 'fsync', 'ftruncate', 'get_exec_path', 'get_handle_inheritable', 'get_inheritable', 'get_terminal_size', 'getcwd', 'getcwdb', 'getenv', 'getlogin', 'getpid', 'getppid', 'isatty', 'kill', 'linesep', 'link', 'listdir', 'lseek', 'lstat', 'makedirs', 'mkdir', 'name', 'open', 'pardir', 'path', 'pathsep', 'pipe', 'popen', 'putenv', 'read', 'readlink', 'remove', 'removedirs', 'rename', 'renames', 'replace', 'rmdir', 'scandir', 'sep', 'set_handle_inheritable', 'set_inheritable', 'spawnl', 'spawnle', 'spawnv', 'spawnve', 'st', 'startfile', 'stat', 'stat_result', 'statvfs_result', 'strerror', 'supports_bytes_environ', 'supports_dir_fd', 'supports_effective_ids', 'supports_fd', 'supports_follow_symlinks', 'symlink', 'sys', 'system', 'terminal_size', 'times', 'times_result', 'truncate', 'umask', 'uname_result', 'unlink', 'unsetenv', 'urandom', 'utime', 'waitpid', 'waitstatus_to_exitcode', 'walk', 'write']\n"
     ]
    }
   ],
   "source": [
    "import os\n",
    "print(dir(os))"
   ]
  },
  {
   "cell_type": "code",
   "execution_count": 110,
   "id": "118d67ad",
   "metadata": {},
   "outputs": [
    {
     "name": "stdout",
     "output_type": "stream",
     "text": [
      "C:\\Users\\1thomas\n",
      "['.anaconda', '.android', '.astropy', '.conda', '.condarc', '.continuum', '.ipynb_checkpoints', '.ipython', '.jupyter', '.matplotlib', '.ms-ad', '.spyder-py3', '.uc-2680dde522be52b9a0bd81a326d5cffe.1thomas.desktop-3623r8r.tmp', '3D Objects', '4 and a half hours course.ipynb', 'Anaconda3', 'AppData', 'Application Data', 'April 6th .ipynb', 'Bro Code 12 hours.ipynb', 'Classes and Objects.ipynb', 'Conditional Statements.ipynb', 'Contacts', 'Cookies', 'Creative Cloud Files', 'Data Conversions.ipynb', 'DataGrip 2022.1.5', 'Deep Copy & Copy.ipynb', 'Deeper Understanding of Python Functions.ipynb', 'Demos', 'Documents', 'Downloads', 'Favorites', 'For Loops.ipynb', 'Full University Course 13 hours.ipynb', 'Functions.ipynb', 'Handwritten Work.ipynb', 'IntelGraphicsProfiles', 'Introduction to Functions.ipynb', 'July 2022.ipynb', 'Links', 'Local Settings', 'Methods.ipynb', 'Mhike Projects 2022.ipynb', 'More on For Loops.ipynb', 'MT 2022.ipynb', 'MT siblings.docx', 'Music', 'My Documents', 'NetHood', 'NTUSER.DAT', 'ntuser.dat.LOG1', 'ntuser.dat.LOG2', 'NTUSER.DAT{3c8a3731-9da8-11eb-85bc-00155d550328}.TM.blf', 'NTUSER.DAT{3c8a3731-9da8-11eb-85bc-00155d550328}.TMContainer00000000000000000001.regtrans-ms', 'NTUSER.DAT{3c8a3731-9da8-11eb-85bc-00155d550328}.TMContainer00000000000000000002.regtrans-ms', 'ntuser.ini', 'OKIOCAM Files', 'OneDrive', 'OneDrive - Bethany School', 'PrintHood', 'PycharmProjects', 'Python for beginners 1 hr video.ipynb', 'Recent', 'Saved Games', 'Searches', 'SendTo', 'Start Menu', 'Templates', 'TOSHIBA', 'Untitled Folder', 'Untitled.ipynb', 'untitled.txt', 'Untitled1.ipynb', 'Untitled2-Copy1.ipynb', 'Untitled2.ipynb', 'Untitled3.ipynb', 'Untitled4.ipynb', 'Untitled5.ipynb', 'Untitled6.ipynb', 'Videos', 'While & For Loops.ipynb', 'While Loops.ipynb']\n"
     ]
    }
   ],
   "source": [
    "print(os.getcwd())\n",
    "print(os.listdir())"
   ]
  },
  {
   "cell_type": "code",
   "execution_count": 115,
   "id": "c700fbcc",
   "metadata": {},
   "outputs": [
    {
     "data": {
      "text/plain": [
       "0.5568912039186549"
      ]
     },
     "execution_count": 115,
     "metadata": {},
     "output_type": "execute_result"
    }
   ],
   "source": [
    "import random\n",
    "random.random()"
   ]
  },
  {
   "cell_type": "code",
   "execution_count": 116,
   "id": "75cc2193",
   "metadata": {},
   "outputs": [
    {
     "data": {
      "text/plain": [
       "6"
      ]
     },
     "execution_count": 116,
     "metadata": {},
     "output_type": "execute_result"
    }
   ],
   "source": [
    "random.randint(0,10)"
   ]
  },
  {
   "cell_type": "code",
   "execution_count": 118,
   "id": "08727e5a",
   "metadata": {},
   "outputs": [
    {
     "data": {
      "text/plain": [
       "55"
      ]
     },
     "execution_count": 118,
     "metadata": {},
     "output_type": "execute_result"
    }
   ],
   "source": [
    "list_1= [15,25,35, 45,55,65]\n",
    "random.choice(list_1)"
   ]
  },
  {
   "cell_type": "code",
   "execution_count": 122,
   "id": "a3b54801",
   "metadata": {},
   "outputs": [
    {
     "data": {
      "text/plain": [
       "'Tsuro'"
      ]
     },
     "execution_count": 122,
     "metadata": {},
     "output_type": "execute_result"
    }
   ],
   "source": [
    "siblings=[\"Gudo\", \"Tsuro\", \"Mbanje\", \"Tsoka\", \"Rugare\"]\n",
    "random.choice(siblings)\n"
   ]
  },
  {
   "cell_type": "code",
   "execution_count": 123,
   "id": "5a6d7f70",
   "metadata": {},
   "outputs": [
    {
     "data": {
      "text/plain": [
       "datetime.date(2022, 7, 24)"
      ]
     },
     "execution_count": 123,
     "metadata": {},
     "output_type": "execute_result"
    }
   ],
   "source": [
    "import datetime\n",
    "datetime.date.today()"
   ]
  },
  {
   "cell_type": "code",
   "execution_count": 124,
   "id": "f9853abc",
   "metadata": {},
   "outputs": [
    {
     "data": {
      "text/plain": [
       "datetime.datetime(2022, 7, 24, 14, 23, 16, 30117)"
      ]
     },
     "execution_count": 124,
     "metadata": {},
     "output_type": "execute_result"
    }
   ],
   "source": [
    "datetime.datetime.now()"
   ]
  },
  {
   "cell_type": "code",
   "execution_count": null,
   "id": "bd874ad1",
   "metadata": {},
   "outputs": [],
   "source": []
  },
  {
   "cell_type": "code",
   "execution_count": 125,
   "id": "2c4e9790",
   "metadata": {},
   "outputs": [
    {
     "data": {
      "text/plain": [
       "125"
      ]
     },
     "execution_count": 125,
     "metadata": {},
     "output_type": "execute_result"
    }
   ],
   "source": [
    "cube_of=lambda x:x*x*x\n",
    "cube_of(5)"
   ]
  },
  {
   "cell_type": "code",
   "execution_count": 134,
   "id": "6427994a",
   "metadata": {},
   "outputs": [],
   "source": [
    "add=lambda x,y:x+y\n",
    "sub=lambda x,y: y-x\n",
    "div=lambda x,y: y/x\n",
    "mul=lambda x,y: x*y\n",
    "    "
   ]
  },
  {
   "cell_type": "code",
   "execution_count": 165,
   "id": "af1a20b8",
   "metadata": {},
   "outputs": [],
   "source": [
    "\n",
    "def calculate (x,y,operation):\n",
    "    add=lambda x,y:x+y\n",
    "    sub=lambda x,y:y-x\n",
    "    div=lambda x,y: y/x\n",
    "    mul=lambda x,y: x*y\n",
    "    if operation==\"add\":\n",
    "        return add(x,y)\n",
    "    if operation==\"sub\":\n",
    "        return sub(x,y)\n",
    "    if operation==\"div\":\n",
    "        return div(x,y)\n",
    "    if operation==\"mul\":\n",
    "        return mult(x,y)"
   ]
  },
  {
   "cell_type": "code",
   "execution_count": 166,
   "id": "d18a9d38",
   "metadata": {},
   "outputs": [
    {
     "data": {
      "text/plain": [
       "10"
      ]
     },
     "execution_count": 166,
     "metadata": {},
     "output_type": "execute_result"
    }
   ],
   "source": [
    "calculate(2,5,operation=\"mul\")"
   ]
  },
  {
   "cell_type": "code",
   "execution_count": 168,
   "id": "41ee8014",
   "metadata": {},
   "outputs": [],
   "source": [
    "def calculate(*args, operation=add):\n",
    "    return operation (*args)"
   ]
  },
  {
   "cell_type": "code",
   "execution_count": 171,
   "id": "e90e18f1",
   "metadata": {},
   "outputs": [
    {
     "data": {
      "text/plain": [
       "3"
      ]
     },
     "execution_count": 171,
     "metadata": {},
     "output_type": "execute_result"
    }
   ],
   "source": [
    "calculate(2,5, operation=sub)"
   ]
  },
  {
   "cell_type": "code",
   "execution_count": 172,
   "id": "73a19abe",
   "metadata": {},
   "outputs": [
    {
     "data": {
      "text/plain": [
       "8"
      ]
     },
     "execution_count": 172,
     "metadata": {},
     "output_type": "execute_result"
    }
   ],
   "source": [
    "(lambda x: x**3)(2)"
   ]
  },
  {
   "cell_type": "code",
   "execution_count": 173,
   "id": "7b8b91d2",
   "metadata": {},
   "outputs": [
    {
     "data": {
      "text/plain": [
       "10"
      ]
     },
     "execution_count": 173,
     "metadata": {},
     "output_type": "execute_result"
    }
   ],
   "source": [
    "(lambda x,y: x*y)(2,5)"
   ]
  },
  {
   "cell_type": "code",
   "execution_count": 184,
   "id": "98d98d4f",
   "metadata": {},
   "outputs": [
    {
     "name": "stdout",
     "output_type": "stream",
     "text": [
      "[20, 30, 40, 50, 60, 70, 80]\n",
      "[2, 20, 30, 40, 50, 60, 70, 80]\n"
     ]
    }
   ],
   "source": [
    "list_2=[1,2,3,20,30,40,50,60,70,80]\n",
    "response=list(filter(lambda x:x>10, list_2))\n",
    "response1=list(filter(lambda x:x%2==0, list_2))\n",
    "print(response)\n",
    "print(response1)"
   ]
  },
  {
   "cell_type": "code",
   "execution_count": null,
   "id": "ed7edcd9",
   "metadata": {},
   "outputs": [],
   "source": []
  },
  {
   "cell_type": "code",
   "execution_count": 189,
   "id": "218517f9",
   "metadata": {},
   "outputs": [
    {
     "name": "stdout",
     "output_type": "stream",
     "text": [
      "C:\\Users\\1thomas\n"
     ]
    }
   ],
   "source": [
    "import os\n",
    "current_dir=os.getcwd()\n",
    "print(current_dir)"
   ]
  },
  {
   "cell_type": "code",
   "execution_count": 191,
   "id": "892e3d91",
   "metadata": {},
   "outputs": [],
   "source": [
    "#dir_path=os.environ[\"Users\"]\n",
    "#print(dir_path)"
   ]
  },
  {
   "cell_type": "code",
   "execution_count": null,
   "id": "340b2144",
   "metadata": {},
   "outputs": [],
   "source": []
  },
  {
   "cell_type": "code",
   "execution_count": 225,
   "id": "5c24071e",
   "metadata": {},
   "outputs": [
    {
     "name": "stdout",
     "output_type": "stream",
     "text": [
      "['.anaconda', '.android', '.astropy', '.conda', '.condarc', '.continuum', '.ipynb', '.ipynb_checkpoints', '.ipython', '.jupyter', '.matplotlib', '.ms-ad', '.spyder-py3', '.uc-2680dde522be52b9a0bd81a326d5cffe.1thomas.desktop-3623r8r.tmp', '3D Objects', '4 and a half hours course.ipynb', 'Anaconda3', 'AppData', 'Application Data', 'April 6th .ipynb', 'Bro Code 12 hours.ipynb', 'Classes and Objects.ipynb', 'Conditional Statements.ipynb', 'Contacts', 'Cookies', 'Creative Cloud Files', 'Data Conversions.ipynb', 'DataGrip 2022.1.5', 'Deep Copy & Copy.ipynb', 'Deeper Understanding of Python Functions.ipynb', 'Demos', 'Documents', 'Downloads', 'Favorites', 'For Loops.ipynb', 'Full University Course 13 hours.ipynb', 'Functions.ipynb', 'Handwritten Work.ipynb', 'IntelGraphicsProfiles', 'Introduction to Functions.ipynb', 'ipynb', 'July 2022.ipynb', 'Links', 'Local Settings', 'Methods.ipynb', 'Mhike Projects 2022.ipynb', 'Mhike2030', 'More on For Loops.ipynb', 'MT 2022.ipynb', 'MT siblings.docx', 'Music', 'My Documents', 'NetHood', 'NTUSER.DAT', 'ntuser.dat.LOG1', 'ntuser.dat.LOG2', 'NTUSER.DAT{3c8a3731-9da8-11eb-85bc-00155d550328}.TM.blf', 'NTUSER.DAT{3c8a3731-9da8-11eb-85bc-00155d550328}.TMContainer00000000000000000001.regtrans-ms', 'NTUSER.DAT{3c8a3731-9da8-11eb-85bc-00155d550328}.TMContainer00000000000000000002.regtrans-ms', 'ntuser.ini', 'OKIOCAM Files', 'OneDrive', 'OneDrive - Bethany School', 'PrintHood', 'PycharmProjects', 'Python for beginners 1 hr video.ipynb', 'Recent', 'Saved Games', 'Searches', 'SendTo', 'Start Menu', 'Templates', 'text', 'TOSHIBA', 'Untitled Folder', 'Untitled.ipynb', 'untitled.txt', 'Untitled2-Copy1.ipynb', 'Untitled2.ipynb', 'Untitled4.ipynb', 'Videos', 'While & For Loops.ipynb', 'While Loops.ipynb']\n"
     ]
    }
   ],
   "source": [
    "print(os.listdir())"
   ]
  },
  {
   "cell_type": "code",
   "execution_count": 195,
   "id": "d6323152",
   "metadata": {},
   "outputs": [],
   "source": [
    "#print(os.listdir(\"py\"))"
   ]
  },
  {
   "cell_type": "code",
   "execution_count": 198,
   "id": "ca3e0676",
   "metadata": {},
   "outputs": [
    {
     "name": "stdout",
     "output_type": "stream",
     "text": [
      "None\n"
     ]
    }
   ],
   "source": [
    "print(os.mkdir(\".ipynb\"))"
   ]
  },
  {
   "cell_type": "code",
   "execution_count": 212,
   "id": "4141ee9f",
   "metadata": {},
   "outputs": [],
   "source": [
    "os.remove('Untitled6.ipynb')\n"
   ]
  },
  {
   "cell_type": "code",
   "execution_count": 224,
   "id": "58ebfc7e",
   "metadata": {},
   "outputs": [],
   "source": [
    "#os.mkdir(\"Mhike2030\")\n",
    "os.remove('Untitled3.ipynb')"
   ]
  },
  {
   "cell_type": "code",
   "execution_count": null,
   "id": "551342aa",
   "metadata": {},
   "outputs": [],
   "source": []
  }
 ],
 "metadata": {
  "kernelspec": {
   "display_name": "Python 3 (ipykernel)",
   "language": "python",
   "name": "python3"
  },
  "language_info": {
   "codemirror_mode": {
    "name": "ipython",
    "version": 3
   },
   "file_extension": ".py",
   "mimetype": "text/x-python",
   "name": "python",
   "nbconvert_exporter": "python",
   "pygments_lexer": "ipython3",
   "version": "3.9.7"
  }
 },
 "nbformat": 4,
 "nbformat_minor": 5
}
