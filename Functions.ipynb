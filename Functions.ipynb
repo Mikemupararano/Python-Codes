{
 "cells": [
  {
   "cell_type": "code",
   "execution_count": 15,
   "id": "52b4053c",
   "metadata": {},
   "outputs": [],
   "source": [
    "def my_introduction():\n",
    "    print(\"My name is John\")\n",
    "    print(\"I live in Kent\")\n",
    "    print(\" I want to be a data scientist\")\n",
    "    "
   ]
  },
  {
   "cell_type": "code",
   "execution_count": null,
   "id": "3bc280a8",
   "metadata": {},
   "outputs": [],
   "source": []
  },
  {
   "cell_type": "code",
   "execution_count": null,
   "id": "42a97eb6",
   "metadata": {},
   "outputs": [],
   "source": []
  },
  {
   "cell_type": "code",
   "execution_count": null,
   "id": "d82a0fb9",
   "metadata": {},
   "outputs": [],
   "source": []
  },
  {
   "cell_type": "code",
   "execution_count": null,
   "id": "65759fe2",
   "metadata": {},
   "outputs": [],
   "source": []
  },
  {
   "cell_type": "code",
   "execution_count": null,
   "id": "968e51e3",
   "metadata": {},
   "outputs": [],
   "source": []
  },
  {
   "cell_type": "code",
   "execution_count": 16,
   "id": "9355e8ec",
   "metadata": {},
   "outputs": [
    {
     "name": "stdout",
     "output_type": "stream",
     "text": [
      "My name is John\n",
      "I live in Kent\n",
      " I want to be a data scientist\n"
     ]
    }
   ],
   "source": [
    "my_introduction()"
   ]
  },
  {
   "cell_type": "code",
   "execution_count": 20,
   "id": "6d88570e",
   "metadata": {},
   "outputs": [],
   "source": [
    "def a_more_complicated_function():\n",
    "    for i in range(10):\n",
    "        print(\" is now \", i)"
   ]
  },
  {
   "cell_type": "code",
   "execution_count": 21,
   "id": "f1d6ca83",
   "metadata": {},
   "outputs": [
    {
     "name": "stdout",
     "output_type": "stream",
     "text": [
      " is now  0\n",
      " is now  1\n",
      " is now  2\n",
      " is now  3\n",
      " is now  4\n",
      " is now  5\n",
      " is now  6\n",
      " is now  7\n",
      " is now  8\n",
      " is now  9\n"
     ]
    }
   ],
   "source": [
    "a_more_complicated_function()"
   ]
  },
  {
   "cell_type": "code",
   "execution_count": 29,
   "id": "9b4cdf76",
   "metadata": {},
   "outputs": [],
   "source": [
    "def mhike(name):\n",
    "    print(\"My name is \", name)    \n"
   ]
  },
  {
   "cell_type": "code",
   "execution_count": 30,
   "id": "00910db4",
   "metadata": {},
   "outputs": [
    {
     "name": "stdout",
     "output_type": "stream",
     "text": [
      "My name is  Lily\n"
     ]
    }
   ],
   "source": [
    "mhike(\"Lily\")"
   ]
  },
  {
   "cell_type": "code",
   "execution_count": 33,
   "id": "4e468ce9",
   "metadata": {},
   "outputs": [
    {
     "name": "stdout",
     "output_type": "stream",
     "text": [
      "My name is  Mike Thomas.\n"
     ]
    }
   ],
   "source": [
    "mhike(\"Mike Thomas.\")"
   ]
  },
  {
   "cell_type": "code",
   "execution_count": 35,
   "id": "fc11dd4e",
   "metadata": {},
   "outputs": [],
   "source": [
    "def general_introduction(name, city):\n",
    "    print(\"My name is \", name)\n",
    "    print(\"I live and work in \", city)"
   ]
  },
  {
   "cell_type": "code",
   "execution_count": 38,
   "id": "c2ca7486",
   "metadata": {},
   "outputs": [
    {
     "name": "stdout",
     "output_type": "stream",
     "text": [
      "My name is  Mike Thomas.\n",
      "I live and work in  London.\n"
     ]
    }
   ],
   "source": [
    "general_introduction(\"Mike Thomas.\", \"London.\")"
   ]
  },
  {
   "cell_type": "code",
   "execution_count": 19,
   "id": "98d4b291",
   "metadata": {},
   "outputs": [],
   "source": [
    "def square(num):\n",
    "    print(\"The square of\", num, \"is\", num*num,\".\")    \n",
    "    \n",
    "\n"
   ]
  },
  {
   "cell_type": "code",
   "execution_count": 24,
   "id": "7e849cf6",
   "metadata": {},
   "outputs": [
    {
     "name": "stdout",
     "output_type": "stream",
     "text": [
      "The square of 901 is 811801 .\n"
     ]
    }
   ],
   "source": [
    "square(901)"
   ]
  },
  {
   "cell_type": "code",
   "execution_count": 26,
   "id": "63363881",
   "metadata": {},
   "outputs": [],
   "source": [
    "number=25\n",
    "def squr(number):\n",
    "    print(\"The square  of \", number, \"is\", number*number)\n"
   ]
  },
  {
   "cell_type": "code",
   "execution_count": 28,
   "id": "b989f2dd",
   "metadata": {},
   "outputs": [
    {
     "name": "stdout",
     "output_type": "stream",
     "text": [
      "The square  of  8 is 64\n"
     ]
    }
   ],
   "source": [
    "squr(8)"
   ]
  },
  {
   "cell_type": "code",
   "execution_count": 15,
   "id": "319045dd",
   "metadata": {},
   "outputs": [],
   "source": [
    "salary=2000\n",
    "expenses=500\n",
    "def my_savings(salary, expenses):\n",
    "    print(\"This is my saving\", salary-expenses)"
   ]
  },
  {
   "cell_type": "code",
   "execution_count": 17,
   "id": "7cd93adb",
   "metadata": {},
   "outputs": [
    {
     "name": "stdout",
     "output_type": "stream",
     "text": [
      "This is my saving 4000\n"
     ]
    }
   ],
   "source": [
    "my_savings(5000, 1000)\n"
   ]
  },
  {
   "cell_type": "code",
   "execution_count": 18,
   "id": "0501585d",
   "metadata": {},
   "outputs": [
    {
     "name": "stdout",
     "output_type": "stream",
     "text": [
      "This is my saving 2500\n"
     ]
    }
   ],
   "source": [
    "my_savings(3000,500)"
   ]
  },
  {
   "cell_type": "code",
   "execution_count": 31,
   "id": "83fdd13d",
   "metadata": {},
   "outputs": [],
   "source": [
    "def subtraction(a,b):\n",
    "    result=a-b\n",
    "    return result"
   ]
  },
  {
   "cell_type": "code",
   "execution_count": 32,
   "id": "6f14a227",
   "metadata": {},
   "outputs": [
    {
     "data": {
      "text/plain": [
       "3"
      ]
     },
     "execution_count": 32,
     "metadata": {},
     "output_type": "execute_result"
    }
   ],
   "source": [
    "subtraction(10,7)"
   ]
  },
  {
   "cell_type": "code",
   "execution_count": 15,
   "id": "b105668a",
   "metadata": {},
   "outputs": [],
   "source": [
    "def add_subtract(x,y):\n",
    "    add_result=x+y\n",
    "    subtract_result=x-y\n",
    "    return add_result, subtract_result"
   ]
  },
  {
   "cell_type": "code",
   "execution_count": 16,
   "id": "f1674a8e",
   "metadata": {},
   "outputs": [
    {
     "data": {
      "text/plain": [
       "(17, 3)"
      ]
     },
     "execution_count": 16,
     "metadata": {},
     "output_type": "execute_result"
    }
   ],
   "source": [
    "add_subtract(10,7)"
   ]
  },
  {
   "cell_type": "code",
   "execution_count": 22,
   "id": "90ac413a",
   "metadata": {},
   "outputs": [
    {
     "data": {
      "text/plain": [
       "13"
      ]
     },
     "execution_count": 22,
     "metadata": {},
     "output_type": "execute_result"
    }
   ],
   "source": [
    "result_1, result_2=add_subtract(10,3)\n",
    "result_1"
   ]
  },
  {
   "cell_type": "code",
   "execution_count": 25,
   "id": "458ffc89",
   "metadata": {},
   "outputs": [
    {
     "data": {
      "text/plain": [
       "7"
      ]
     },
     "execution_count": 25,
     "metadata": {},
     "output_type": "execute_result"
    }
   ],
   "source": [
    "result_2"
   ]
  },
  {
   "cell_type": "code",
   "execution_count": 27,
   "id": "389ac7d0",
   "metadata": {},
   "outputs": [
    {
     "data": {
      "text/plain": [
       "(13, 7)"
      ]
     },
     "execution_count": 27,
     "metadata": {},
     "output_type": "execute_result"
    }
   ],
   "source": [
    "result_1,_"
   ]
  },
  {
   "cell_type": "code",
   "execution_count": 33,
   "id": "d79dc349",
   "metadata": {},
   "outputs": [],
   "source": [
    "def positive_or_negative(num):\n",
    "    if num>0:\n",
    "        return \"Positive\"\n",
    "    elif num<0:\n",
    "        return \"Negative\"\n",
    "    else:\n",
    "        return \"Zero\""
   ]
  },
  {
   "cell_type": "code",
   "execution_count": 30,
   "id": "f834a692",
   "metadata": {},
   "outputs": [
    {
     "data": {
      "text/plain": [
       "'Positive'"
      ]
     },
     "execution_count": 30,
     "metadata": {},
     "output_type": "execute_result"
    }
   ],
   "source": [
    "positive_or_negative(6)"
   ]
  },
  {
   "cell_type": "code",
   "execution_count": 31,
   "id": "8c04f3c7",
   "metadata": {},
   "outputs": [
    {
     "data": {
      "text/plain": [
       "'Zero or Negative'"
      ]
     },
     "execution_count": 31,
     "metadata": {},
     "output_type": "execute_result"
    }
   ],
   "source": [
    "positive_or_negative(-8)"
   ]
  },
  {
   "cell_type": "code",
   "execution_count": 32,
   "id": "d9400122",
   "metadata": {},
   "outputs": [
    {
     "data": {
      "text/plain": [
       "'Zero or Negative'"
      ]
     },
     "execution_count": 32,
     "metadata": {},
     "output_type": "execute_result"
    }
   ],
   "source": [
    "positive_or_negative(0)"
   ]
  },
  {
   "cell_type": "code",
   "execution_count": 36,
   "id": "646c7010",
   "metadata": {},
   "outputs": [
    {
     "data": {
      "text/plain": [
       "'Positive'"
      ]
     },
     "execution_count": 36,
     "metadata": {},
     "output_type": "execute_result"
    }
   ],
   "source": [
    "positive_or_negative(100)"
   ]
  },
  {
   "cell_type": "code",
   "execution_count": 6,
   "id": "1b23984e",
   "metadata": {},
   "outputs": [],
   "source": [
    "def create_dictionary_representation(name, age, occupation):\n",
    "    dictionary={\n",
    "        \"name\": name,\n",
    "        \"age\": age,\n",
    "        \"occupation\": occupation\n",
    "    }\n",
    "    return dictionary"
   ]
  },
  {
   "cell_type": "code",
   "execution_count": 8,
   "id": "1db43cb2",
   "metadata": {},
   "outputs": [
    {
     "data": {
      "text/plain": [
       "{'name': 'Mike', 'age': 51, 'occupation': 'Teacher'}"
      ]
     },
     "execution_count": 8,
     "metadata": {},
     "output_type": "execute_result"
    }
   ],
   "source": [
    "create_dictionary_representation(\"Mike\", 51, \"Teacher\")"
   ]
  },
  {
   "cell_type": "code",
   "execution_count": 6,
   "id": "47074e5e",
   "metadata": {},
   "outputs": [],
   "source": [
    "def total_score(Biology=56, Chemistry=89, Physics=80):\n",
    "    return total_score\n",
    "\n"
   ]
  },
  {
   "cell_type": "code",
   "execution_count": 3,
   "id": "6052effe",
   "metadata": {},
   "outputs": [
    {
     "data": {
      "text/plain": [
       "<function __main__.total_score(Biology=56, Chemistry=89, Physics=80)>"
      ]
     },
     "execution_count": 3,
     "metadata": {},
     "output_type": "execute_result"
    }
   ],
   "source": [
    "total_score"
   ]
  },
  {
   "cell_type": "code",
   "execution_count": 4,
   "id": "711f39ea",
   "metadata": {},
   "outputs": [
    {
     "data": {
      "text/plain": [
       "<function __main__.total_score(Biology=56, Chemistry=89, Physics=80)>"
      ]
     },
     "execution_count": 4,
     "metadata": {},
     "output_type": "execute_result"
    }
   ],
   "source": [
    "total_score()"
   ]
  },
  {
   "cell_type": "code",
   "execution_count": 8,
   "id": "e2bb147e",
   "metadata": {},
   "outputs": [],
   "source": [
    "def mark_scores(biology, physics, chemistry, maths):\n",
    "    print(\"Biology\", biology, \"Physics\", physics, \"Chemistry\", chemistry, \"Maths\", maths)\n",
    "    return mark_scores"
   ]
  },
  {
   "cell_type": "code",
   "execution_count": 10,
   "id": "4d8b465f",
   "metadata": {},
   "outputs": [
    {
     "name": "stdout",
     "output_type": "stream",
     "text": [
      "Biology 67 Physics 88 Chemistry 55 Maths 86\n"
     ]
    },
    {
     "data": {
      "text/plain": [
       "<function __main__.mark_scores(biology, physics, chemistry, maths)>"
      ]
     },
     "execution_count": 10,
     "metadata": {},
     "output_type": "execute_result"
    }
   ],
   "source": [
    "mark_scores(biology=67,88,55,86)"
   ]
  },
  {
   "cell_type": "code",
   "execution_count": 1,
   "id": "4048fe8e",
   "metadata": {},
   "outputs": [
    {
     "data": {
      "text/plain": [
       "[1, 2, 3, 6, 8, 10]"
      ]
     },
     "execution_count": 1,
     "metadata": {},
     "output_type": "execute_result"
    }
   ],
   "source": [
    "num_list=[8,1,3,2,6,10]\n",
    "sorted(num_list)"
   ]
  },
  {
   "cell_type": "code",
   "execution_count": 3,
   "id": "9e8d1b46",
   "metadata": {},
   "outputs": [
    {
     "data": {
      "text/plain": [
       "[10, 8, 6, 3, 2, 1]"
      ]
     },
     "execution_count": 3,
     "metadata": {},
     "output_type": "execute_result"
    }
   ],
   "source": [
    "sorted(num_list, reverse=True)"
   ]
  },
  {
   "cell_type": "code",
   "execution_count": null,
   "id": "edd2ab8c",
   "metadata": {},
   "outputs": [],
   "source": []
  },
  {
   "cell_type": "code",
   "execution_count": 73,
   "id": "3bdac7c9",
   "metadata": {},
   "outputs": [],
   "source": [
    "def print_student_details(name=\"Mike\",school=\"Kasenzi\", math=80, physics=88, chemistry=87, biology=90, enrolled =False):\n",
    "    total = math + physics + chemistry + biology\n",
    "    print(\"Name :\", name)\n",
    "    print(\"School: \", school, \"Enrolled: \", enrolled)\n",
    "    print(\"Maths: \", math)\n",
    "    print(\"Physics: \", physics)\n",
    "    print(\"Chemistry: \", chemistry)\n",
    "    print(\"Biology: \", biology)\n",
    "    print(\"Total :\", total)   \n"
   ]
  },
  {
   "cell_type": "code",
   "execution_count": 75,
   "id": "0e3c3a60",
   "metadata": {},
   "outputs": [
    {
     "name": "stdout",
     "output_type": "stream",
     "text": [
      "Name : Mike\n",
      "School:  Kasenzi Enrolled:  True\n",
      "Maths:  80\n",
      "Physics:  88\n",
      "Chemistry:  87\n",
      "Biology:  90\n",
      "Total : 345\n"
     ]
    }
   ],
   "source": [
    "print_student_details(enrolled=True)\n"
   ]
  },
  {
   "cell_type": "code",
   "execution_count": 76,
   "id": "4f487ac0",
   "metadata": {},
   "outputs": [
    {
     "name": "stdout",
     "output_type": "stream",
     "text": [
      "Name : Mike\n",
      "School:  Kasenzi Enrolled:  False\n",
      "Maths:  67\n",
      "Physics:  66\n",
      "Chemistry:  90\n",
      "Biology:  99\n",
      "Total : 322\n"
     ]
    }
   ],
   "source": [
    "print_student_details(\"Mike\", \"Kasenzi\", math=67, physics=66,chemistry=90, biology=99, enrolled=False)"
   ]
  },
  {
   "cell_type": "code",
   "execution_count": 89,
   "id": "ae3c1853",
   "metadata": {},
   "outputs": [],
   "source": [
    "def name_list(*names):\n",
    "    print(names)"
   ]
  },
  {
   "cell_type": "code",
   "execution_count": 91,
   "id": "774c1fdc",
   "metadata": {},
   "outputs": [
    {
     "name": "stdout",
     "output_type": "stream",
     "text": [
      "('Mike', 'Mhike', 'Chimbara', 'Mugabe')\n"
     ]
    }
   ],
   "source": [
    "name_list(\"Mike\", \"Mhike\", \"Chimbara\", \"Mugabe\")"
   ]
  },
  {
   "cell_type": "code",
   "execution_count": 92,
   "id": "c9b51a07",
   "metadata": {},
   "outputs": [
    {
     "name": "stdout",
     "output_type": "stream",
     "text": [
      "()\n"
     ]
    }
   ],
   "source": [
    "name_list()"
   ]
  },
  {
   "cell_type": "code",
   "execution_count": 93,
   "id": "dd2f1f09",
   "metadata": {},
   "outputs": [
    {
     "name": "stdout",
     "output_type": "stream",
     "text": [
      "('Zimbabwe',)\n"
     ]
    }
   ],
   "source": [
    "name_list(\"Zimbabwe\")"
   ]
  },
  {
   "cell_type": "code",
   "execution_count": 4,
   "id": "92a71547",
   "metadata": {},
   "outputs": [],
   "source": [
    "def students_in_college(college, city,*name):\n",
    "    print(\"College: \", college)\n",
    "    print(\"City: \", city)\n",
    "    print(\"Name: \", name)"
   ]
  },
  {
   "cell_type": "code",
   "execution_count": 8,
   "id": "7878db8b",
   "metadata": {},
   "outputs": [
    {
     "name": "stdout",
     "output_type": "stream",
     "text": [
      "College:  Bethany\n",
      "City:  London\n",
      "Name:  ('Mike', 'Mugabe')\n"
     ]
    }
   ],
   "source": [
    "students_in_college(\"Bethany\", \"London\", \"Mike\", \"Mugabe\")"
   ]
  },
  {
   "cell_type": "code",
   "execution_count": null,
   "id": "83f84701",
   "metadata": {},
   "outputs": [],
   "source": [
    "#keyword arguments (kwargs)"
   ]
  },
  {
   "cell_type": "code",
   "execution_count": 9,
   "id": "9b01fc1a",
   "metadata": {},
   "outputs": [],
   "source": [
    "def student_details(**kwargs):\n",
    "    print(kwargs)\n"
   ]
  },
  {
   "cell_type": "code",
   "execution_count": 10,
   "id": "bbc71824",
   "metadata": {},
   "outputs": [
    {
     "name": "stdout",
     "output_type": "stream",
     "text": [
      "{}\n"
     ]
    }
   ],
   "source": [
    "student_details()"
   ]
  },
  {
   "cell_type": "code",
   "execution_count": 11,
   "id": "8bd5c025",
   "metadata": {},
   "outputs": [
    {
     "name": "stdout",
     "output_type": "stream",
     "text": [
      "{'name': 'Mike Ndikiye', 'city': 'Rushinga', 'age': 89}\n"
     ]
    }
   ],
   "source": [
    "student_details(name=\"Mike Ndikiye\", city=\"Rushinga\", age=89)"
   ]
  },
  {
   "cell_type": "code",
   "execution_count": 12,
   "id": "d0492dc4",
   "metadata": {},
   "outputs": [
    {
     "name": "stdout",
     "output_type": "stream",
     "text": [
      "10\n"
     ]
    }
   ],
   "source": [
    "_name=10\n",
    "print(_name)"
   ]
  },
  {
   "cell_type": "code",
   "execution_count": 13,
   "id": "9bca9486",
   "metadata": {},
   "outputs": [
    {
     "ename": "SyntaxError",
     "evalue": "cannot assign to operator (Temp/ipykernel_9700/3985736918.py, line 1)",
     "output_type": "error",
     "traceback": [
      "\u001b[1;36m  File \u001b[1;32m\"C:\\Users\\1thomas\\AppData\\Local\\Temp/ipykernel_9700/3985736918.py\"\u001b[1;36m, line \u001b[1;32m1\u001b[0m\n\u001b[1;33m    -name=15\u001b[0m\n\u001b[1;37m    ^\u001b[0m\n\u001b[1;31mSyntaxError\u001b[0m\u001b[1;31m:\u001b[0m cannot assign to operator\n"
     ]
    }
   ],
   "source": [
    "-name=15\n",
    "print(-name)"
   ]
  },
  {
   "cell_type": "code",
   "execution_count": null,
   "id": "d3898cca",
   "metadata": {},
   "outputs": [],
   "source": []
  }
 ],
 "metadata": {
  "kernelspec": {
   "display_name": "Python 3 (ipykernel)",
   "language": "python",
   "name": "python3"
  },
  "language_info": {
   "codemirror_mode": {
    "name": "ipython",
    "version": 3
   },
   "file_extension": ".py",
   "mimetype": "text/x-python",
   "name": "python",
   "nbconvert_exporter": "python",
   "pygments_lexer": "ipython3",
   "version": "3.9.7"
  }
 },
 "nbformat": 4,
 "nbformat_minor": 5
}
