{
 "cells": [
  {
   "cell_type": "code",
   "execution_count": 26,
   "id": "0f56b5cc",
   "metadata": {},
   "outputs": [
    {
     "name": "stdout",
     "output_type": "stream",
     "text": [
      "4,000,000\n"
     ]
    }
   ],
   "source": [
    "twitter=\"{:,}\".format(4000000)\n",
    "print(twitter)\n"
   ]
  },
  {
   "cell_type": "code",
   "execution_count": 14,
   "id": "4d374614",
   "metadata": {},
   "outputs": [
    {
     "name": "stdout",
     "output_type": "stream",
     "text": [
      "The number is number 3.15\n"
     ]
    }
   ],
   "source": [
    "number =3.1456788\n",
    "print(f'The number is number {number:.2f}')"
   ]
  },
  {
   "cell_type": "code",
   "execution_count": 28,
   "id": "871c64df",
   "metadata": {},
   "outputs": [
    {
     "name": "stdout",
     "output_type": "stream",
     "text": [
      "apple\torange\n"
     ]
    }
   ],
   "source": [
    "print(\"apple\\torange\")"
   ]
  },
  {
   "cell_type": "code",
   "execution_count": 32,
   "id": "71f14ada",
   "metadata": {},
   "outputs": [
    {
     "name": "stdout",
     "output_type": "stream",
     "text": [
      "orange\t2apple\n"
     ]
    }
   ],
   "source": [
    "print(\"orange\\t2apple\")"
   ]
  },
  {
   "cell_type": "code",
   "execution_count": null,
   "id": "16b2462b",
   "metadata": {},
   "outputs": [],
   "source": []
  }
 ],
 "metadata": {
  "kernelspec": {
   "display_name": "Python 3 (ipykernel)",
   "language": "python",
   "name": "python3"
  },
  "language_info": {
   "codemirror_mode": {
    "name": "ipython",
    "version": 3
   },
   "file_extension": ".py",
   "mimetype": "text/x-python",
   "name": "python",
   "nbconvert_exporter": "python",
   "pygments_lexer": "ipython3",
   "version": "3.9.7"
  }
 },
 "nbformat": 4,
 "nbformat_minor": 5
}
