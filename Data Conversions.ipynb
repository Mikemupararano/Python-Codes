{
 "cells": [
  {
   "cell_type": "code",
   "execution_count": 1,
   "id": "233b5588",
   "metadata": {},
   "outputs": [
    {
     "name": "stdout",
     "output_type": "stream",
     "text": [
      "[1, 3, 4, 3, 2, 5, 3, 2, 6, 7, 7, 8]\n",
      "{1, 2, 3, 4, 5, 6, 7, 8}\n"
     ]
    }
   ],
   "source": [
    "list3=[1,3,4,3,2,5,3,2,6,7,7,8]\n",
    "list4=set(list3)\n",
    "print(list3)\n",
    "print(list4)"
   ]
  },
  {
   "cell_type": "code",
   "execution_count": 4,
   "id": "78f1dcaf",
   "metadata": {},
   "outputs": [
    {
     "data": {
      "text/plain": [
       "True"
      ]
     },
     "execution_count": 4,
     "metadata": {},
     "output_type": "execute_result"
    }
   ],
   "source": [
    "a=5\n",
    "b=10\n",
    "not (a<b and a>b)"
   ]
  },
  {
   "cell_type": "code",
   "execution_count": 5,
   "id": "c155b891",
   "metadata": {},
   "outputs": [
    {
     "name": "stdout",
     "output_type": "stream",
     "text": [
      "a\n",
      "b\n",
      "c\n"
     ]
    }
   ],
   "source": [
    "if 'bin' in {'float':1.2, 'bin': 0b010}:\n",
    "    print('a')\n",
    "    print('b')\n",
    "print('c')"
   ]
  },
  {
   "cell_type": "code",
   "execution_count": 9,
   "id": "6c292c63",
   "metadata": {},
   "outputs": [],
   "source": [
    "if None:\n",
    "    print('Hi')"
   ]
  },
  {
   "cell_type": "code",
   "execution_count": 10,
   "id": "a3bd1e05",
   "metadata": {},
   "outputs": [
    {
     "data": {
      "text/plain": [
       "'12'"
      ]
     },
     "execution_count": 10,
     "metadata": {},
     "output_type": "execute_result"
    }
   ],
   "source": [
    "'1' + '2' if  '123'.isdigit() else '2'  + '3'"
   ]
  },
  {
   "cell_type": "code",
   "execution_count": 11,
   "id": "775af4f5",
   "metadata": {},
   "outputs": [
    {
     "name": "stdout",
     "output_type": "stream",
     "text": [
      "Length of this list is 4\n",
      "4\n"
     ]
    }
   ],
   "source": [
    "a = [1, 'one', {2: 'two'}, 3]\n",
    "b = len(a)\n",
    "\n",
    "if b == 4:\n",
    "   print('Length of this list is 4')\n",
    "   if b == 5:\n",
    "       print('Length of this list is 5')\n",
    "   else:\n",
    "         print(b)"
   ]
  },
  {
   "cell_type": "code",
   "execution_count": 12,
   "id": "2c71c5b8",
   "metadata": {},
   "outputs": [
    {
     "ename": "SyntaxError",
     "evalue": "invalid character '“' (U+201C) (Temp/ipykernel_12668/1445035510.py, line 1)",
     "output_type": "error",
     "traceback": [
      "\u001b[1;36m  File \u001b[1;32m\"C:\\Users\\1thomas\\AppData\\Local\\Temp/ipykernel_12668/1445035510.py\"\u001b[1;36m, line \u001b[1;32m1\u001b[0m\n\u001b[1;33m    a = “six”\u001b[0m\n\u001b[1;37m        ^\u001b[0m\n\u001b[1;31mSyntaxError\u001b[0m\u001b[1;31m:\u001b[0m invalid character '“' (U+201C)\n"
     ]
    }
   ],
   "source": [
    "a = “six”\n",
    "b = (int(a), float(a))"
   ]
  },
  {
   "cell_type": "code",
   "execution_count": 13,
   "id": "857f800c",
   "metadata": {},
   "outputs": [
    {
     "ename": "SyntaxError",
     "evalue": "invalid character '“' (U+201C) (Temp/ipykernel_12668/2668002687.py, line 1)",
     "output_type": "error",
     "traceback": [
      "\u001b[1;36m  File \u001b[1;32m\"C:\\Users\\1thomas\\AppData\\Local\\Temp/ipykernel_12668/2668002687.py\"\u001b[1;36m, line \u001b[1;32m1\u001b[0m\n\u001b[1;33m    a  =  “40.6 ”\u001b[0m\n\u001b[1;37m          ^\u001b[0m\n\u001b[1;31mSyntaxError\u001b[0m\u001b[1;31m:\u001b[0m invalid character '“' (U+201C)\n"
     ]
    }
   ],
   "source": [
    "a  =  “40.6 ”\n",
    "b  =  “60.4 ” \n",
    "c  =  a + b\n"
   ]
  },
  {
   "cell_type": "code",
   "execution_count": 14,
   "id": "0d6f9053",
   "metadata": {},
   "outputs": [
    {
     "name": "stdout",
     "output_type": "stream",
     "text": [
      "datatype of num_one: <class 'int'>\n",
      "datatype of num_two: <class 'float'>\n"
     ]
    }
   ],
   "source": [
    "num_one = 76\n",
    "num_two = 23.4\n",
    "print(\"datatype of num_one:\", type(num_one))\n",
    "print(\"datatype of num_two:\", type(num_two))"
   ]
  },
  {
   "cell_type": "code",
   "execution_count": 15,
   "id": "cf7fb8a1",
   "metadata": {},
   "outputs": [
    {
     "ename": "SyntaxError",
     "evalue": "invalid character '“' (U+201C) (Temp/ipykernel_12668/342443926.py, line 4)",
     "output_type": "error",
     "traceback": [
      "\u001b[1;36m  File \u001b[1;32m\"C:\\Users\\1thomas\\AppData\\Local\\Temp/ipykernel_12668/342443926.py\"\u001b[1;36m, line \u001b[1;32m4\u001b[0m\n\u001b[1;33m    b = a + “^” + “2”\u001b[0m\n\u001b[1;37m            ^\u001b[0m\n\u001b[1;31mSyntaxError\u001b[0m\u001b[1;31m:\u001b[0m invalid character '“' (U+201C)\n"
     ]
    }
   ],
   "source": [
    "value = 4 \n",
    "\n",
    "a = str(value)\n",
    "b = a + “^” + “2”\n",
    "c = a + “^” + “3”\n",
    "\n",
    "print(value, “+”, b, “+”, c)"
   ]
  },
  {
   "cell_type": "code",
   "execution_count": 16,
   "id": "4653e0f8",
   "metadata": {},
   "outputs": [
    {
     "ename": "SyntaxError",
     "evalue": "invalid character '“' (U+201C) (Temp/ipykernel_12668/2114614409.py, line 1)",
     "output_type": "error",
     "traceback": [
      "\u001b[1;36m  File \u001b[1;32m\"C:\\Users\\1thomas\\AppData\\Local\\Temp/ipykernel_12668/2114614409.py\"\u001b[1;36m, line \u001b[1;32m1\u001b[0m\n\u001b[1;33m    new_list = [“Red”, “Blue”, “White”, “Green”]\u001b[0m\n\u001b[1;37m                ^\u001b[0m\n\u001b[1;31mSyntaxError\u001b[0m\u001b[1;31m:\u001b[0m invalid character '“' (U+201C)\n"
     ]
    }
   ],
   "source": [
    "new_list = [“Red”, “Blue”, “White”, “Green”]\n",
    "z = sorted(new_list)\n",
    "d = list(z)\n",
    "d[0], d[1], d[2], d[3] = d[3], d[2], d[1], d[0]"
   ]
  },
  {
   "cell_type": "code",
   "execution_count": 17,
   "id": "4f28d7ef",
   "metadata": {},
   "outputs": [
    {
     "name": "stdout",
     "output_type": "stream",
     "text": [
      "Type of the variable is Unknown\n"
     ]
    }
   ],
   "source": [
    "var = \"hi\"\n",
    "if(type(var) == int):\n",
    "    print(\"Type of the variable is Integer\")\n",
    "elif(type(var) == float):\n",
    "    print(\"Type of the variable is Float\")\n",
    "elif(type(var) == complex):\n",
    "    print(\"Type of the variable is Complex\")\n",
    "else:\n",
    "    print(\"Type of the variable is Unknown\")"
   ]
  },
  {
   "cell_type": "code",
   "execution_count": 18,
   "id": "ff751c95",
   "metadata": {},
   "outputs": [
    {
     "name": "stdout",
     "output_type": "stream",
     "text": [
      "Sorry, you are ineligible to appear for the test.\n"
     ]
    }
   ],
   "source": [
    "total_classes = 100\n",
    "attended_classes = 67\n",
    "\n",
    "attendance = (attended_classes/total_classes)*100\n",
    "if attendance >= 75:\n",
    "    print (\"You are eligible to appear for the test.\")\n",
    "else:\n",
    "    print (\"Sorry, you are ineligible to appear for the test.\")"
   ]
  },
  {
   "cell_type": "code",
   "execution_count": null,
   "id": "52c85583",
   "metadata": {},
   "outputs": [],
   "source": []
  },
  {
   "cell_type": "code",
   "execution_count": null,
   "id": "712136ff",
   "metadata": {},
   "outputs": [],
   "source": []
  },
  {
   "cell_type": "code",
   "execution_count": null,
   "id": "77c78cad",
   "metadata": {},
   "outputs": [],
   "source": []
  }
 ],
 "metadata": {
  "kernelspec": {
   "display_name": "Python 3 (ipykernel)",
   "language": "python",
   "name": "python3"
  },
  "language_info": {
   "codemirror_mode": {
    "name": "ipython",
    "version": 3
   },
   "file_extension": ".py",
   "mimetype": "text/x-python",
   "name": "python",
   "nbconvert_exporter": "python",
   "pygments_lexer": "ipython3",
   "version": "3.9.7"
  }
 },
 "nbformat": 4,
 "nbformat_minor": 5
}
