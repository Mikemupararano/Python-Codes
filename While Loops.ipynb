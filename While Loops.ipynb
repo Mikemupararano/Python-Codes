{
 "cells": [
  {
   "cell_type": "code",
   "execution_count": null,
   "id": "2f1e9710",
   "metadata": {},
   "outputs": [],
   "source": [
    "num=6\n",
    "while num %2==0:\n",
    "    print(num)"
   ]
  },
  {
   "cell_type": "code",
   "execution_count": null,
   "id": "b75879cb",
   "metadata": {},
   "outputs": [],
   "source": [
    "odd_list=[]\n",
    "even_list=[]\n",
    "count=0\n",
    "while count<=50:\n",
    "    if count % 2==0 and count !=0:\n",
    "        even_list.append(count)\n",
    "    else:\n",
    "        odd_list.append(count)\n",
    "    count=count+1\n",
    "print(\"The odd numbers are: \", odd_list)\n",
    "print(\"The even numbers are: \", even_list)\n",
    "\n",
    "        "
   ]
  },
  {
   "cell_type": "code",
   "execution_count": null,
   "id": "332ae5ed",
   "metadata": {},
   "outputs": [],
   "source": [
    "#Iterating the elements in a tuple using while loop\n",
    "count=0\n",
    "my_tuple=(5,15, 25, 35, 45,55,65)\n",
    "while count<len(my_tuple):\n",
    "    print(my_tuple[count])\n",
    "    count=count+1\n",
    "print(count)\n",
    "\n",
    "    "
   ]
  },
  {
   "cell_type": "code",
   "execution_count": null,
   "id": "97c609ef",
   "metadata": {},
   "outputs": [],
   "source": [
    "#Finding the longest name in a tuple or list of strings\n",
    "#my_string=(\"Mike\", \"Cosmas\", \"Albert\", \"Bonus\", \"Johnias\", \"Victoria\", \"Alfred\", \"Stebha\", \"Francisca\")\n",
    "#count=0\n",
    "#longest_name=my_string[count]\n",
    "#while count<len(my_string):\n",
    "    #if len(my_string)< len()\n",
    "    #longest=longest_name\n",
    "    #count=count+1\n",
    "#print(longest_name)"
   ]
  },
  {
   "cell_type": "code",
   "execution_count": null,
   "id": "aec70c44",
   "metadata": {},
   "outputs": [
    {
     "name": "stdout",
     "output_type": "stream",
     "text": [
      "Enter a capital city of Egypt: Harare\n",
      "Harare\n",
      "Enter a capital city of Egypt: Cairo\n",
      "Cairo\n"
     ]
    }
   ],
   "source": [
    "capital_of_egypt=\"\"\n",
    "while capital_of_egypt != \"Cairo\":\n",
    "    print((input(\"Enter a capital city of Egypt: \")))\n",
    "exit()\n",
    "    \n",
    "    "
   ]
  },
  {
   "cell_type": "code",
   "execution_count": null,
   "id": "6afddbf1",
   "metadata": {},
   "outputs": [],
   "source": []
  },
  {
   "cell_type": "code",
   "execution_count": null,
   "id": "a7b484e0",
   "metadata": {},
   "outputs": [],
   "source": []
  },
  {
   "cell_type": "code",
   "execution_count": null,
   "id": "67b75f30",
   "metadata": {},
   "outputs": [],
   "source": []
  },
  {
   "cell_type": "code",
   "execution_count": null,
   "id": "7ed9b1ce",
   "metadata": {},
   "outputs": [],
   "source": []
  },
  {
   "cell_type": "code",
   "execution_count": null,
   "id": "8ada50fd",
   "metadata": {},
   "outputs": [],
   "source": []
  },
  {
   "cell_type": "code",
   "execution_count": null,
   "id": "c233008d",
   "metadata": {},
   "outputs": [],
   "source": []
  },
  {
   "cell_type": "code",
   "execution_count": null,
   "id": "924b45c3",
   "metadata": {},
   "outputs": [],
   "source": []
  },
  {
   "cell_type": "code",
   "execution_count": null,
   "id": "e8877dce",
   "metadata": {},
   "outputs": [],
   "source": []
  }
 ],
 "metadata": {
  "kernelspec": {
   "display_name": "Python 3 (ipykernel)",
   "language": "python",
   "name": "python3"
  },
  "language_info": {
   "codemirror_mode": {
    "name": "ipython",
    "version": 3
   },
   "file_extension": ".py",
   "mimetype": "text/x-python",
   "name": "python",
   "nbconvert_exporter": "python",
   "pygments_lexer": "ipython3",
   "version": "3.9.7"
  }
 },
 "nbformat": 4,
 "nbformat_minor": 5
}
