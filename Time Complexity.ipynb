{
 "cells": [
  {
   "cell_type": "code",
   "execution_count": null,
   "id": "62802dbe",
   "metadata": {},
   "outputs": [],
   "source": [
    "def addition(num1, num2):\n",
    "    total =num1 + num2\n",
    "    print(num1, num2, total)\n",
    "    "
   ]
  },
  {
   "cell_type": "code",
   "execution_count": null,
   "id": "cc643619",
   "metadata": {},
   "outputs": [],
   "source": [
    "addition(10,4)"
   ]
  },
  {
   "cell_type": "code",
   "execution_count": null,
   "id": "c4488417",
   "metadata": {},
   "outputs": [],
   "source": [
    "from queue import Queue\n",
    "olympics= Queue(5)\n",
    "olympics\n"
   ]
  },
  {
   "cell_type": "code",
   "execution_count": null,
   "id": "598b27f0",
   "metadata": {},
   "outputs": [],
   "source": [
    "olympics.put('United States(USA)')\n",
    "olympics.put('Great Britain (UK)')\n",
    "olympics.put('Germany(GER)')\n",
    "olympics.put('Russia(RUS)')\n",
    "olympics.put('China(CHN)')\n"
   ]
  },
  {
   "cell_type": "code",
   "execution_count": null,
   "id": "52e2040c",
   "metadata": {},
   "outputs": [],
   "source": [
    "olympics"
   ]
  },
  {
   "cell_type": "code",
   "execution_count": null,
   "id": "e4e9064e",
   "metadata": {},
   "outputs": [],
   "source": [
    "olympics.empty()"
   ]
  },
  {
   "cell_type": "code",
   "execution_count": null,
   "id": "bb9754ae",
   "metadata": {},
   "outputs": [],
   "source": [
    "olympics.full()"
   ]
  },
  {
   "cell_type": "code",
   "execution_count": null,
   "id": "b9b9be2d",
   "metadata": {},
   "outputs": [],
   "source": [
    "olympics.qsize()"
   ]
  },
  {
   "cell_type": "code",
   "execution_count": null,
   "id": "6b965d9e",
   "metadata": {},
   "outputs": [],
   "source": [
    "olympics.get()"
   ]
  },
  {
   "cell_type": "code",
   "execution_count": null,
   "id": "1bf584ff",
   "metadata": {},
   "outputs": [],
   "source": [
    "olympics.qsize()"
   ]
  },
  {
   "cell_type": "code",
   "execution_count": null,
   "id": "ce74b4d4",
   "metadata": {},
   "outputs": [],
   "source": [
    "olympics.get()"
   ]
  },
  {
   "cell_type": "code",
   "execution_count": null,
   "id": "8d3fa6a9",
   "metadata": {},
   "outputs": [],
   "source": [
    "olympics.get()"
   ]
  },
  {
   "cell_type": "code",
   "execution_count": null,
   "id": "37bb43a4",
   "metadata": {},
   "outputs": [],
   "source": [
    "olympics.get()"
   ]
  },
  {
   "cell_type": "code",
   "execution_count": null,
   "id": "971d3885",
   "metadata": {},
   "outputs": [],
   "source": [
    "olympics.get()"
   ]
  },
  {
   "cell_type": "code",
   "execution_count": null,
   "id": "57bce8bf",
   "metadata": {},
   "outputs": [],
   "source": [
    "olympics.get()"
   ]
  },
  {
   "cell_type": "code",
   "execution_count": null,
   "id": "edcbcb0a",
   "metadata": {},
   "outputs": [],
   "source": [
    "olympics.qsize()"
   ]
  },
  {
   "cell_type": "code",
   "execution_count": 2,
   "id": "201b4482",
   "metadata": {},
   "outputs": [],
   "source": [
    "stack=[]\n",
    "stack.append('United States(USA)')\n",
    "stack.append('Great Britain(GBR)')\n",
    "stack.append('China(CHN)')"
   ]
  },
  {
   "cell_type": "code",
   "execution_count": 3,
   "id": "3d03e93f",
   "metadata": {},
   "outputs": [
    {
     "data": {
      "text/plain": [
       "['United States(USA)', 'Great Britain(GBR)', 'China(CHN)']"
      ]
     },
     "execution_count": 3,
     "metadata": {},
     "output_type": "execute_result"
    }
   ],
   "source": [
    "stack"
   ]
  },
  {
   "cell_type": "code",
   "execution_count": 4,
   "id": "277efd00",
   "metadata": {},
   "outputs": [
    {
     "data": {
      "text/plain": [
       "'China(CHN)'"
      ]
     },
     "execution_count": 4,
     "metadata": {},
     "output_type": "execute_result"
    }
   ],
   "source": [
    "stack.pop()"
   ]
  },
  {
   "cell_type": "code",
   "execution_count": null,
   "id": "3b502deb",
   "metadata": {},
   "outputs": [],
   "source": []
  }
 ],
 "metadata": {
  "kernelspec": {
   "display_name": "Python 3 (ipykernel)",
   "language": "python",
   "name": "python3"
  },
  "language_info": {
   "codemirror_mode": {
    "name": "ipython",
    "version": 3
   },
   "file_extension": ".py",
   "mimetype": "text/x-python",
   "name": "python",
   "nbconvert_exporter": "python",
   "pygments_lexer": "ipython3",
   "version": "3.9.7"
  }
 },
 "nbformat": 4,
 "nbformat_minor": 5
}
