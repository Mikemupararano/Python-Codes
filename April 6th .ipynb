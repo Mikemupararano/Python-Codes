{
 "cells": [
  {
   "cell_type": "code",
   "execution_count": 24,
   "id": "ae1ef857",
   "metadata": {},
   "outputs": [
    {
     "name": "stdout",
     "output_type": "stream",
     "text": [
      "{'Cosmas': 77, 'Grace': 74, 'Albert': 71, 'Bonus': 67, 'Stebha': 64, 'Madhara': 55, 'Alfred': 53, 'Francisaca': 49}\n"
     ]
    },
    {
     "ename": "KeyError",
     "evalue": "'Kim'",
     "output_type": "error",
     "traceback": [
      "\u001b[1;31m---------------------------------------------------------------------------\u001b[0m",
      "\u001b[1;31mKeyError\u001b[0m                                  Traceback (most recent call last)",
      "\u001b[1;32m~\\AppData\\Local\\Temp/ipykernel_2992/2325258643.py\u001b[0m in \u001b[0;36m<module>\u001b[1;34m\u001b[0m\n\u001b[0;32m      6\u001b[0m \u001b[1;34m\"Albert\"\u001b[0m \u001b[1;32min\u001b[0m \u001b[0msibling_ages\u001b[0m\u001b[1;33m.\u001b[0m\u001b[0mkeys\u001b[0m\u001b[1;33m(\u001b[0m\u001b[1;33m)\u001b[0m\u001b[1;33m\u001b[0m\u001b[1;33m\u001b[0m\u001b[0m\n\u001b[0;32m      7\u001b[0m \u001b[1;34m\"Mike\"\u001b[0m \u001b[1;32min\u001b[0m \u001b[0msibling_ages\u001b[0m\u001b[1;33m.\u001b[0m\u001b[0mkeys\u001b[0m\u001b[1;33m(\u001b[0m\u001b[1;33m)\u001b[0m\u001b[1;33m\u001b[0m\u001b[1;33m\u001b[0m\u001b[0m\n\u001b[1;32m----> 8\u001b[1;33m \u001b[0msibling_ages\u001b[0m\u001b[1;33m[\u001b[0m\u001b[1;34m\"Kim\"\u001b[0m\u001b[1;33m]\u001b[0m\u001b[1;33m\u001b[0m\u001b[1;33m\u001b[0m\u001b[0m\n\u001b[0m",
      "\u001b[1;31mKeyError\u001b[0m: 'Kim'"
     ]
    }
   ],
   "source": [
    "sibling_ages={\"Cosmas\":77, \"Grace\": 74, \"Albert\":71, \"Bonus\": 67, \"Stebha\": 64, \"Madhara\": 55, \"Alfred\": 53, \"Francisaca\": 49}\n",
    "\n",
    "print(sibling_ages)\n",
    "sibling_ages[\"Cosmas\"]\n",
    "sibling_ages.keys()\n",
    "\"Albert\" in sibling_ages.keys()\n",
    "\"Mike\" in sibling_ages.keys()\n",
    "sibling_ages[\"Kim\"]\n"
   ]
  },
  {
   "cell_type": "code",
   "execution_count": 25,
   "id": "ec4634a7",
   "metadata": {},
   "outputs": [
    {
     "data": {
      "text/plain": [
       "dict_values([77, 74, 71, 67, 64, 55, 53, 49])"
      ]
     },
     "execution_count": 25,
     "metadata": {},
     "output_type": "execute_result"
    }
   ],
   "source": [
    "sibling_ages.values()"
   ]
  },
  {
   "cell_type": "code",
   "execution_count": 23,
   "id": "ce678a80",
   "metadata": {},
   "outputs": [
    {
     "name": "stdout",
     "output_type": "stream",
     "text": [
      "{'Orange': 20}\n"
     ]
    }
   ],
   "source": [
    "fruits={}\n",
    "fruits[\"Orange\"]=20\n",
    "print(fruits)"
   ]
  },
  {
   "cell_type": "code",
   "execution_count": 26,
   "id": "b2781655",
   "metadata": {},
   "outputs": [],
   "source": [
    "import copy"
   ]
  },
  {
   "cell_type": "code",
   "execution_count": 29,
   "id": "0288e60e",
   "metadata": {},
   "outputs": [
    {
     "data": {
      "text/plain": [
       "'Will'"
      ]
     },
     "execution_count": 29,
     "metadata": {},
     "output_type": "execute_result"
    }
   ],
   "source": [
    "first_str=\"Will\"\n",
    "first_str"
   ]
  },
  {
   "cell_type": "code",
   "execution_count": 34,
   "id": "af6af23c",
   "metadata": {},
   "outputs": [
    {
     "name": "stdout",
     "output_type": "stream",
     "text": [
      "Will\n",
      "Will\n"
     ]
    }
   ],
   "source": [
    "second_copy=copy.copy(first_str)\n",
    "print(second_copy)\n",
    "print(first_str)\n"
   ]
  },
  {
   "cell_type": "code",
   "execution_count": null,
   "id": "fa99c2d1",
   "metadata": {},
   "outputs": [],
   "source": []
  },
  {
   "cell_type": "code",
   "execution_count": null,
   "id": "62dbe9f0",
   "metadata": {},
   "outputs": [],
   "source": []
  },
  {
   "cell_type": "code",
   "execution_count": null,
   "id": "736ce107",
   "metadata": {},
   "outputs": [],
   "source": []
  },
  {
   "cell_type": "code",
   "execution_count": null,
   "id": "77715937",
   "metadata": {},
   "outputs": [],
   "source": []
  },
  {
   "cell_type": "code",
   "execution_count": null,
   "id": "93c2b274",
   "metadata": {},
   "outputs": [],
   "source": []
  },
  {
   "cell_type": "code",
   "execution_count": null,
   "id": "6f378670",
   "metadata": {},
   "outputs": [],
   "source": []
  }
 ],
 "metadata": {
  "kernelspec": {
   "display_name": "Python 3 (ipykernel)",
   "language": "python",
   "name": "python3"
  },
  "language_info": {
   "codemirror_mode": {
    "name": "ipython",
    "version": 3
   },
   "file_extension": ".py",
   "mimetype": "text/x-python",
   "name": "python",
   "nbconvert_exporter": "python",
   "pygments_lexer": "ipython3",
   "version": "3.9.7"
  }
 },
 "nbformat": 4,
 "nbformat_minor": 5
}
