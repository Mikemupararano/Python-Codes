{
 "cells": [
  {
   "cell_type": "code",
   "execution_count": 4,
   "id": "83d6401f",
   "metadata": {},
   "outputs": [],
   "source": [
    "l1=[12,33, 27, 15, 42]\n",
    "l1.sort()"
   ]
  },
  {
   "cell_type": "code",
   "execution_count": 5,
   "id": "7210e374",
   "metadata": {},
   "outputs": [
    {
     "name": "stdout",
     "output_type": "stream",
     "text": [
      "[12, 15, 27, 33, 42]\n"
     ]
    }
   ],
   "source": [
    "l1.sort()\n",
    "print(l1)"
   ]
  },
  {
   "cell_type": "code",
   "execution_count": 14,
   "id": "6fbd3300",
   "metadata": {},
   "outputs": [
    {
     "name": "stdout",
     "output_type": "stream",
     "text": [
      "[42, 33, 27, 15, 12]\n"
     ]
    }
   ],
   "source": [
    "l1.sort(reverse=True)\n",
    "print(l1)"
   ]
  },
  {
   "cell_type": "code",
   "execution_count": 13,
   "id": "1b1be86a",
   "metadata": {},
   "outputs": [
    {
     "name": "stdout",
     "output_type": "stream",
     "text": [
      "0\n",
      "1\n",
      "[8, 9, 6, 4]\n",
      "1\n",
      "2\n",
      "[8, 6, 9, 4]\n",
      "2\n",
      "3\n",
      "[8, 6, 4, 9]\n",
      "0\n",
      "1\n",
      "[6, 8, 4, 9]\n",
      "1\n",
      "2\n",
      "[6, 4, 8, 9]\n",
      "0\n",
      "1\n",
      "[4, 6, 8, 9]\n"
     ]
    }
   ],
   "source": [
    "#Bubble Sort Method- compares element 0 and 1 and swaps to sort them. Then compares the 1st and second elements and swap them. The larger element drifts or bubbles to the right. When at the extreme, right, the sorting starts again at element 0 and 1 and the larger element bubbles or tunnels to the right.\n",
    "def bubble_sort(arr):\n",
    "    n=len(arr)\n",
    "    for i in range(n):\n",
    "        for j in range(n-i-1):\n",
    "            print(j)\n",
    "            print(j+1)\n",
    "            if arr[j]> arr[j+1]:\n",
    "                arr[j], arr[j+1]= arr[j+1], arr[j]\n",
    "                print(arr)\n",
    "\n",
    "\n",
    "\n",
    "\n",
    "\n",
    "\n",
    "elements=[9,8,6,4]\n",
    "bubble_sort(elements)"
   ]
  },
  {
   "cell_type": "code",
   "execution_count": null,
   "id": "e5e0f56f",
   "metadata": {},
   "outputs": [],
   "source": []
  },
  {
   "cell_type": "code",
   "execution_count": null,
   "id": "81fbf38d",
   "metadata": {},
   "outputs": [],
   "source": [
    "#Insertion sort- the first element is sorted. Compares the second element with sorted element and moves unsorted element to correct position. Then takes the 3rd element and compares it with the second and first and places it in the correct position. Repeats until all the elements are sorted. sorted element(s) "
   ]
  },
  {
   "cell_type": "code",
   "execution_count": 19,
   "id": "1983e56d",
   "metadata": {},
   "outputs": [
    {
     "name": "stdout",
     "output_type": "stream",
     "text": [
      "[4, 8, 6, 9, 15, 12, 11]\n",
      "[4, 6, 8, 9, 15, 12, 11]\n",
      "[4, 6, 8, 9, 12, 15, 11]\n",
      "[4, 6, 8, 9, 12, 11, 15]\n",
      "[4, 6, 8, 9, 11, 12, 15]\n"
     ]
    }
   ],
   "source": [
    "def insertionSort(array):\n",
    "    for a in range(1,len(array)):\n",
    "        b=a\n",
    "        while b> 0 and array[b]< array[b-1]:\n",
    "            array[b-1], array[b]= array[b], array[b-1]\n",
    "            b-=1\n",
    "            print(array)\n",
    "    \n",
    "\n",
    "\n",
    "\n",
    "\n",
    "\n",
    "\n",
    "\n",
    "array=[8,4,6,9,15,12,11]\n",
    "insertionSort(array)"
   ]
  },
  {
   "cell_type": "code",
   "execution_count": null,
   "id": "551f83d8",
   "metadata": {},
   "outputs": [],
   "source": []
  },
  {
   "cell_type": "code",
   "execution_count": null,
   "id": "82962349",
   "metadata": {},
   "outputs": [],
   "source": [
    "#Merge Sort- divides the list into smaller and smaller portions and sort the smallest portions. It is a divide and conquer method."
   ]
  },
  {
   "cell_type": "code",
   "execution_count": 21,
   "id": "d3337ed6",
   "metadata": {},
   "outputs": [
    {
     "name": "stdout",
     "output_type": "stream",
     "text": [
      "left:  2 right:  2\n"
     ]
    },
    {
     "ename": "TypeError",
     "evalue": "object of type 'int' has no len()",
     "output_type": "error",
     "traceback": [
      "\u001b[1;31m---------------------------------------------------------------------------\u001b[0m",
      "\u001b[1;31mTypeError\u001b[0m                                 Traceback (most recent call last)",
      "\u001b[1;32m~\\AppData\\Local\\Temp/ipykernel_13060/2948816390.py\u001b[0m in \u001b[0;36m<module>\u001b[1;34m\u001b[0m\n\u001b[0;32m     35\u001b[0m \u001b[1;33m\u001b[0m\u001b[0m\n\u001b[0;32m     36\u001b[0m \u001b[0mmy_list\u001b[0m\u001b[1;33m=\u001b[0m\u001b[1;33m[\u001b[0m\u001b[1;36m8\u001b[0m\u001b[1;33m,\u001b[0m\u001b[1;36m4\u001b[0m\u001b[1;33m,\u001b[0m\u001b[1;36m9\u001b[0m\u001b[1;33m,\u001b[0m\u001b[1;36m6\u001b[0m\u001b[1;33m]\u001b[0m\u001b[1;33m\u001b[0m\u001b[1;33m\u001b[0m\u001b[0m\n\u001b[1;32m---> 37\u001b[1;33m \u001b[0mmergerSort\u001b[0m\u001b[1;33m(\u001b[0m\u001b[0mmy_list\u001b[0m\u001b[1;33m)\u001b[0m\u001b[1;33m\u001b[0m\u001b[1;33m\u001b[0m\u001b[0m\n\u001b[0m",
      "\u001b[1;32m~\\AppData\\Local\\Temp/ipykernel_13060/2948816390.py\u001b[0m in \u001b[0;36mmergerSort\u001b[1;34m(my_list)\u001b[0m\n\u001b[0;32m      5\u001b[0m         \u001b[0mright\u001b[0m \u001b[1;33m=\u001b[0m\u001b[0mlen\u001b[0m\u001b[1;33m(\u001b[0m\u001b[0mmy_list\u001b[0m\u001b[1;33m[\u001b[0m\u001b[0mmid\u001b[0m\u001b[1;33m:\u001b[0m\u001b[1;33m]\u001b[0m\u001b[1;33m)\u001b[0m\u001b[1;33m\u001b[0m\u001b[1;33m\u001b[0m\u001b[0m\n\u001b[0;32m      6\u001b[0m         \u001b[0mprint\u001b[0m\u001b[1;33m(\u001b[0m\u001b[1;34m\"left: \"\u001b[0m\u001b[1;33m,\u001b[0m \u001b[0mleft\u001b[0m\u001b[1;33m,\u001b[0m \u001b[1;34m\"right: \"\u001b[0m\u001b[1;33m,\u001b[0m \u001b[0mright\u001b[0m\u001b[1;33m)\u001b[0m\u001b[1;33m\u001b[0m\u001b[1;33m\u001b[0m\u001b[0m\n\u001b[1;32m----> 7\u001b[1;33m         \u001b[0mmergerSort\u001b[0m\u001b[1;33m(\u001b[0m\u001b[0mleft\u001b[0m\u001b[1;33m)\u001b[0m\u001b[1;33m\u001b[0m\u001b[1;33m\u001b[0m\u001b[0m\n\u001b[0m\u001b[0;32m      8\u001b[0m         \u001b[0mmergerSort\u001b[0m\u001b[1;33m(\u001b[0m\u001b[0mright\u001b[0m\u001b[1;33m)\u001b[0m\u001b[1;33m\u001b[0m\u001b[1;33m\u001b[0m\u001b[0m\n\u001b[0;32m      9\u001b[0m         \u001b[0mi\u001b[0m\u001b[1;33m=\u001b[0m\u001b[1;36m0\u001b[0m\u001b[1;33m\u001b[0m\u001b[1;33m\u001b[0m\u001b[0m\n",
      "\u001b[1;32m~\\AppData\\Local\\Temp/ipykernel_13060/2948816390.py\u001b[0m in \u001b[0;36mmergerSort\u001b[1;34m(my_list)\u001b[0m\n\u001b[0;32m      1\u001b[0m \u001b[1;32mdef\u001b[0m \u001b[0mmergerSort\u001b[0m\u001b[1;33m(\u001b[0m\u001b[0mmy_list\u001b[0m\u001b[1;33m)\u001b[0m\u001b[1;33m:\u001b[0m\u001b[1;33m\u001b[0m\u001b[1;33m\u001b[0m\u001b[0m\n\u001b[1;32m----> 2\u001b[1;33m     \u001b[1;32mif\u001b[0m \u001b[0mlen\u001b[0m\u001b[1;33m(\u001b[0m\u001b[0mmy_list\u001b[0m\u001b[1;33m)\u001b[0m\u001b[1;33m>\u001b[0m \u001b[1;36m1\u001b[0m\u001b[1;33m:\u001b[0m\u001b[1;33m\u001b[0m\u001b[1;33m\u001b[0m\u001b[0m\n\u001b[0m\u001b[0;32m      3\u001b[0m         \u001b[0mmid\u001b[0m\u001b[1;33m=\u001b[0m\u001b[0mlen\u001b[0m\u001b[1;33m(\u001b[0m\u001b[0mmy_list\u001b[0m\u001b[1;33m)\u001b[0m\u001b[1;33m//\u001b[0m\u001b[1;36m2\u001b[0m\u001b[1;33m\u001b[0m\u001b[1;33m\u001b[0m\u001b[0m\n\u001b[0;32m      4\u001b[0m         \u001b[0mleft\u001b[0m\u001b[1;33m=\u001b[0m\u001b[0mlen\u001b[0m\u001b[1;33m(\u001b[0m\u001b[0mmy_list\u001b[0m\u001b[1;33m[\u001b[0m\u001b[1;33m:\u001b[0m\u001b[0mmid\u001b[0m\u001b[1;33m]\u001b[0m\u001b[1;33m)\u001b[0m\u001b[1;33m\u001b[0m\u001b[1;33m\u001b[0m\u001b[0m\n\u001b[0;32m      5\u001b[0m         \u001b[0mright\u001b[0m \u001b[1;33m=\u001b[0m\u001b[0mlen\u001b[0m\u001b[1;33m(\u001b[0m\u001b[0mmy_list\u001b[0m\u001b[1;33m[\u001b[0m\u001b[0mmid\u001b[0m\u001b[1;33m:\u001b[0m\u001b[1;33m]\u001b[0m\u001b[1;33m)\u001b[0m\u001b[1;33m\u001b[0m\u001b[1;33m\u001b[0m\u001b[0m\n",
      "\u001b[1;31mTypeError\u001b[0m: object of type 'int' has no len()"
     ]
    }
   ],
   "source": [
    "def mergerSort(my_list):\n",
    "    if len(my_list)> 1:\n",
    "        mid=len(my_list)//2\n",
    "        left=len(my_list[:mid])\n",
    "        right =len(my_list[mid:])\n",
    "        print(\"left: \", left, \"right: \", right)\n",
    "        mergerSort(left)\n",
    "        mergerSort(right)\n",
    "        i=0\n",
    "        j=0\n",
    "        k=0\n",
    "    while i<len(left) and j< len(right):\n",
    "        if left[i]<right[j]:\n",
    "            my_list[k]=left[i]\n",
    "            i+=1\n",
    "        else:\n",
    "            my_list[k]=right[j]\n",
    "            j+=1\n",
    "            k+=1\n",
    "    while i<len(left):\n",
    "        my_list[k]=left[i]\n",
    "        i+=1\n",
    "        k+=1\n",
    "    while j<len(right):\n",
    "        my_list[k]=right[j]\n",
    "        i+=1\n",
    "        k+=1\n",
    "    print(my_list)\n",
    "\n",
    "\n",
    "\n",
    "\n",
    "\n",
    "\n",
    "\n",
    "my_list=[8,4,9,6]\n",
    "mergerSort(my_list)"
   ]
  },
  {
   "cell_type": "code",
   "execution_count": null,
   "id": "8fcb01a8",
   "metadata": {},
   "outputs": [],
   "source": []
  }
 ],
 "metadata": {
  "kernelspec": {
   "display_name": "Python 3 (ipykernel)",
   "language": "python",
   "name": "python3"
  },
  "language_info": {
   "codemirror_mode": {
    "name": "ipython",
    "version": 3
   },
   "file_extension": ".py",
   "mimetype": "text/x-python",
   "name": "python",
   "nbconvert_exporter": "python",
   "pygments_lexer": "ipython3",
   "version": "3.9.7"
  }
 },
 "nbformat": 4,
 "nbformat_minor": 5
}
