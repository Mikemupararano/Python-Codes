{
 "cells": [
  {
   "cell_type": "code",
   "execution_count": null,
   "id": "83adc481",
   "metadata": {},
   "outputs": [],
   "source": [
    "print(variable)"
   ]
  },
  {
   "cell_type": "code",
   "execution_count": null,
   "id": "d8ca85ff",
   "metadata": {},
   "outputs": [],
   "source": [
    "try:\n",
    "    print(variable)\n",
    "except:\n",
    "    print(\"Exception occurred (NameError), because name 'variable' is not defined \")"
   ]
  },
  {
   "cell_type": "code",
   "execution_count": null,
   "id": "2a72e25a",
   "metadata": {},
   "outputs": [],
   "source": [
    "try:\n",
    "    f=open(\"non_existent_file\")\n",
    "except FileNotFoundError:\n",
    "        print(\"No such file!\")\n",
    "except:\n",
    "        print(\"An unknown error has occured.\")"
   ]
  },
  {
   "cell_type": "code",
   "execution_count": null,
   "id": "c33dbf5d",
   "metadata": {},
   "outputs": [],
   "source": []
  },
  {
   "cell_type": "code",
   "execution_count": null,
   "id": "8b8dadaa",
   "metadata": {},
   "outputs": [],
   "source": [
    "while True:\n",
    "    try:\n",
    "        var=int(input(\"Enter a number: \"))\n",
    "        break\n",
    "    except ValueError:\n",
    "        print(\"Oops! That was not a valid number! Try again....\")\n",
    "    "
   ]
  },
  {
   "cell_type": "code",
   "execution_count": null,
   "id": "27b6bdb4",
   "metadata": {},
   "outputs": [],
   "source": []
  },
  {
   "cell_type": "code",
   "execution_count": 1,
   "id": "5c2b50fc",
   "metadata": {},
   "outputs": [
    {
     "name": "stdout",
     "output_type": "stream",
     "text": [
      "KeyboardInterrupt has occurred.\n"
     ]
    }
   ],
   "source": [
    "import time\n",
    "try:\n",
    "    time.sleep(111)\n",
    "except KeyboardInterrupt:\n",
    "    print(\"KeyboardInterrupt has occurred.\")\n",
    "    \n"
   ]
  },
  {
   "cell_type": "code",
   "execution_count": null,
   "id": "f6ec6a0e",
   "metadata": {},
   "outputs": [],
   "source": []
  },
  {
   "cell_type": "code",
   "execution_count": null,
   "id": "9dd1ce7a",
   "metadata": {},
   "outputs": [],
   "source": [
    "\n",
    "    "
   ]
  },
  {
   "cell_type": "code",
   "execution_count": null,
   "id": "56fda30f",
   "metadata": {},
   "outputs": [],
   "source": []
  },
  {
   "cell_type": "code",
   "execution_count": null,
   "id": "c4f4a4ba",
   "metadata": {},
   "outputs": [],
   "source": []
  },
  {
   "cell_type": "code",
   "execution_count": null,
   "id": "a9b0b89f",
   "metadata": {},
   "outputs": [],
   "source": []
  }
 ],
 "metadata": {
  "kernelspec": {
   "display_name": "Python 3 (ipykernel)",
   "language": "python",
   "name": "python3"
  },
  "language_info": {
   "codemirror_mode": {
    "name": "ipython",
    "version": 3
   },
   "file_extension": ".py",
   "mimetype": "text/x-python",
   "name": "python",
   "nbconvert_exporter": "python",
   "pygments_lexer": "ipython3",
   "version": "3.9.7"
  }
 },
 "nbformat": 4,
 "nbformat_minor": 5
}
