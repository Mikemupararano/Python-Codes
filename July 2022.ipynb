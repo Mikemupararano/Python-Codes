{
 "cells": [
  {
   "cell_type": "code",
   "execution_count": 2,
   "id": "e52458ba",
   "metadata": {},
   "outputs": [
    {
     "name": "stdout",
     "output_type": "stream",
     "text": [
      "Python 3.9.7\n"
     ]
    }
   ],
   "source": [
    "!python --version"
   ]
  },
  {
   "cell_type": "code",
   "execution_count": 1,
   "id": "3ad23665",
   "metadata": {},
   "outputs": [
    {
     "data": {
      "text/plain": [
       "2"
      ]
     },
     "execution_count": 1,
     "metadata": {},
     "output_type": "execute_result"
    }
   ],
   "source": [
    "5//2\n"
   ]
  },
  {
   "cell_type": "code",
   "execution_count": 2,
   "id": "14eaf63b",
   "metadata": {},
   "outputs": [
    {
     "data": {
      "text/plain": [
       "1"
      ]
     },
     "execution_count": 2,
     "metadata": {},
     "output_type": "execute_result"
    }
   ],
   "source": [
    "5%2"
   ]
  },
  {
   "cell_type": "code",
   "execution_count": 3,
   "id": "5ef83205",
   "metadata": {},
   "outputs": [
    {
     "data": {
      "text/plain": [
       "2.5"
      ]
     },
     "execution_count": 3,
     "metadata": {},
     "output_type": "execute_result"
    }
   ],
   "source": [
    "5/2"
   ]
  },
  {
   "cell_type": "code",
   "execution_count": 8,
   "id": "57c51e3e",
   "metadata": {},
   "outputs": [
    {
     "name": "stdout",
     "output_type": "stream",
     "text": [
      "[1, 2, 3, 4, 5, 6, 7, 8, 9, 10]\n",
      "{1, 2, 3, 4, 5, 6, 7, 8, 9, 10}\n"
     ]
    }
   ],
   "source": [
    "list_1=[1,2,3,4,5]\n",
    "list_2=[6,7,8,9,10]\n",
    "new_list=list_1 + list_2\n",
    "print(new_list)\n",
    "set_1=set(new_list)\n",
    "print(set_1)"
   ]
  },
  {
   "cell_type": "code",
   "execution_count": 10,
   "id": "ffafc64a",
   "metadata": {},
   "outputs": [
    {
     "name": "stdout",
     "output_type": "stream",
     "text": [
      "[1, 2, 3, 4, 5]\n"
     ]
    }
   ],
   "source": [
    "y=list_1.copy()\n",
    "print(y)"
   ]
  },
  {
   "cell_type": "code",
   "execution_count": 14,
   "id": "8e9aa8ef",
   "metadata": {},
   "outputs": [
    {
     "name": "stdout",
     "output_type": "stream",
     "text": [
      "4\n"
     ]
    }
   ],
   "source": [
    "q=y.pop()\n",
    "print(q)"
   ]
  },
  {
   "cell_type": "code",
   "execution_count": 15,
   "id": "bad58262",
   "metadata": {},
   "outputs": [
    {
     "name": "stdout",
     "output_type": "stream",
     "text": [
      "[1, 2, 3, 4, 5]\n"
     ]
    }
   ],
   "source": [
    "print(list_1)"
   ]
  },
  {
   "cell_type": "code",
   "execution_count": 16,
   "id": "bf513ed3",
   "metadata": {},
   "outputs": [
    {
     "name": "stdout",
     "output_type": "stream",
     "text": [
      "[2, 3]\n"
     ]
    }
   ],
   "source": [
    "print(y)"
   ]
  },
  {
   "cell_type": "code",
   "execution_count": 4,
   "id": "8e55aaac",
   "metadata": {},
   "outputs": [
    {
     "name": "stdout",
     "output_type": "stream",
     "text": [
      "[2, 4, 6, 2, 4, 6]\n",
      "None\n"
     ]
    }
   ],
   "source": [
    "list_2=[2,4,6]\n",
    "new_list=list_2*2\n",
    "print(new_list)\n",
    "sorted_list=list_2.sort()\n",
    "print(sorted_list)"
   ]
  },
  {
   "cell_type": "code",
   "execution_count": 14,
   "id": "1901ad85",
   "metadata": {},
   "outputs": [
    {
     "data": {
      "text/plain": [
       "True"
      ]
     },
     "execution_count": 14,
     "metadata": {},
     "output_type": "execute_result"
    }
   ],
   "source": [
    "all([7])"
   ]
  },
  {
   "cell_type": "code",
   "execution_count": 19,
   "id": "f31fc2cc",
   "metadata": {},
   "outputs": [
    {
     "name": "stdout",
     "output_type": "stream",
     "text": [
      "[18, 26, 33]\n",
      "[18, 26, 33, 53, 88, 100]\n",
      "[18, 26, 33, 53]\n",
      "[]\n"
     ]
    }
   ],
   "source": [
    "list_4=[18,26,33,53,88,100]\n",
    "print(list_4[0:3])\n",
    "print(list_4)\n",
    "print(list_4[0:4])\n",
    "print(list_4[-1:-4])"
   ]
  },
  {
   "cell_type": "code",
   "execution_count": 22,
   "id": "7b9dc5db",
   "metadata": {},
   "outputs": [
    {
     "name": "stdout",
     "output_type": "stream",
     "text": [
      "[53, 33, 26]\n"
     ]
    }
   ],
   "source": [
    "print(list_4[3:0:-1]) # reverses the order of the list"
   ]
  },
  {
   "cell_type": "code",
   "execution_count": 28,
   "id": "9eb6066f",
   "metadata": {},
   "outputs": [
    {
     "name": "stdout",
     "output_type": "stream",
     "text": [
      "True\n",
      "True\n",
      "1\n",
      "MIKE\n",
      "mike\n"
     ]
    }
   ],
   "source": [
    "string= \"Mike\"\n",
    "print(string.startswith(\"M\"))\n",
    "print(string.endswith(\"e\"))\n",
    "print(string.count(\"e\"))\n",
    "print(string.upper())\n",
    "print(string.lower())"
   ]
  },
  {
   "cell_type": "code",
   "execution_count": 37,
   "id": "6a941d50",
   "metadata": {},
   "outputs": [
    {
     "name": "stdout",
     "output_type": "stream",
     "text": [
      "[]\n"
     ]
    }
   ],
   "source": [
    "#Tuples\n",
    "tuple_1=(1,2,3,4)\n",
    "tuple_2=(\"a\",\"b\", \"c\",\"d\")\n",
    "zipped_tuple=zip(tuple_1,tuple_2)\n",
    "#print(zipped_tuple)\n",
    "result=tuple(zipped_tuple)\n",
    "result_1=list(result_1)\n",
    "print(result_1)\n",
    "\n",
    "#print(result)\n"
   ]
  },
  {
   "cell_type": "code",
   "execution_count": 46,
   "id": "dab98bfc",
   "metadata": {},
   "outputs": [
    {
     "name": "stdout",
     "output_type": "stream",
     "text": [
      "('FH', 'AS', 'EH', 'MT')\n"
     ]
    }
   ],
   "source": [
    "list_5=[\"FH\", \"AS\", \"EH\", \"MT\"]\n",
    "list_6=[\"HM\", \"Deputy Head-Pastoral\", \"Deputy Head-Academic\", \"Head of Science\"]\n",
    "roles=zip(list_5, list_6)\n",
    "#print(roles)\n",
    "dict_1=dict(roles)\n",
    "tuple7=tuple(dict_1)\n",
    "#print(dict_1)\n",
    "print(tuple7)"
   ]
  },
  {
   "cell_type": "code",
   "execution_count": 60,
   "id": "de1a2c93",
   "metadata": {},
   "outputs": [
    {
     "name": "stdout",
     "output_type": "stream",
     "text": [
      "{50, 20, 40, 10, 60, 30}\n"
     ]
    }
   ],
   "source": [
    "set_1={10,20,30,30,40,50}\n",
    "#print(set_1)\n",
    "#set_1[0]\n",
    "set_1.add(60)\n",
    "#set_1.remove(10)\n",
    "#set_1.pop()\n",
    "#set_1.discard(30)\n",
    "print(set_1)\n"
   ]
  },
  {
   "cell_type": "code",
   "execution_count": 64,
   "id": "72dc5787",
   "metadata": {},
   "outputs": [
    {
     "name": "stdout",
     "output_type": "stream",
     "text": [
      "{1, 2, 3, 4, 20, 10, 30}\n",
      "{1, 2, 3, 4, 40, 10, 50, 20, 60, 30}\n",
      "{10, 20, 30}\n",
      "None\n"
     ]
    }
   ],
   "source": [
    "set_2={1,10,2,20,3,4,30}\n",
    "print(set_2)\n",
    "print(set_1.union(set_2))\n",
    "print(set_1.intersection(set_2))\n",
    "print(set_1.intersection_update(set_2))"
   ]
  },
  {
   "cell_type": "code",
   "execution_count": 29,
   "id": "549ad28f",
   "metadata": {},
   "outputs": [],
   "source": [
    "#name=\"Mike\"\n",
    "\n",
    "#print(name)\n",
    "#print(\"%s %d\" %(name, name))"
   ]
  },
  {
   "cell_type": "code",
   "execution_count": 17,
   "id": "62cbce58",
   "metadata": {},
   "outputs": [
    {
     "name": "stdout",
     "output_type": "stream",
     "text": [
      "John Dere\n"
     ]
    }
   ],
   "source": [
    "print('%s %s' % ('John', 'Dere'))"
   ]
  },
  {
   "cell_type": "code",
   "execution_count": 12,
   "id": "15857faa",
   "metadata": {},
   "outputs": [
    {
     "name": "stdout",
     "output_type": "stream",
     "text": [
      "Hi, Shaun!\n"
     ]
    }
   ],
   "source": [
    "name=\"Shaun\"\n",
    "age=32\n",
    "string='Hi, %s!' % name\n",
    "print(string)"
   ]
  },
  {
   "cell_type": "code",
   "execution_count": 13,
   "id": "440103b2",
   "metadata": {},
   "outputs": [
    {
     "name": "stdout",
     "output_type": "stream",
     "text": [
      "Hello, Shaun\n"
     ]
    }
   ],
   "source": [
    "print('Hello, %s' % name)"
   ]
  },
  {
   "cell_type": "code",
   "execution_count": 21,
   "id": "81a38386",
   "metadata": {},
   "outputs": [
    {
     "name": "stdout",
     "output_type": "stream",
     "text": [
      "I like to eat chocolate.\n"
     ]
    }
   ],
   "source": [
    "print(\"I like to %s chocolate.\" %\"eat\")"
   ]
  },
  {
   "cell_type": "code",
   "execution_count": 23,
   "id": "6584fa45",
   "metadata": {},
   "outputs": [
    {
     "name": "stdout",
     "output_type": "stream",
     "text": [
      "('Mike', 'Thomas') is 32 old\n"
     ]
    }
   ],
   "source": [
    "string_2=\"%s is %d old\" % (name,age)\n",
    "print(string_2)"
   ]
  },
  {
   "cell_type": "code",
   "execution_count": 32,
   "id": "4b0576b1",
   "metadata": {},
   "outputs": [
    {
     "name": "stdout",
     "output_type": "stream",
     "text": [
      "Nancy can dance and sing.\n"
     ]
    }
   ],
   "source": [
    "x=\"dance\"\n",
    "print(\"Nancy can %s and %s.\" %(x, \"sing\"))"
   ]
  },
  {
   "cell_type": "code",
   "execution_count": 35,
   "id": "b2bc4c85",
   "metadata": {},
   "outputs": [
    {
     "name": "stdout",
     "output_type": "stream",
     "text": [
      "John earned 23366.79\n"
     ]
    }
   ],
   "source": [
    "string_3= \"John earned %5.2f\" %(23366.7888338)\n",
    "print(string_3)"
   ]
  },
  {
   "cell_type": "code",
   "execution_count": 36,
   "id": "e6ab7402",
   "metadata": {},
   "outputs": [
    {
     "name": "stdout",
     "output_type": "stream",
     "text": [
      "Welcome to MT Online Academy.\n"
     ]
    }
   ],
   "source": [
    "print(\"Welcome to {}.\".format(\"MT Online Academy\"))"
   ]
  },
  {
   "cell_type": "code",
   "execution_count": 37,
   "id": "49223081",
   "metadata": {},
   "outputs": [
    {
     "name": "stdout",
     "output_type": "stream",
     "text": [
      "Let's learn in small but everyday.\n"
     ]
    }
   ],
   "source": [
    "print(\"Let's learn in {0} but {1}.\".format(\"small\", \"everyday\"))"
   ]
  },
  {
   "cell_type": "code",
   "execution_count": 38,
   "id": "4f8aab58",
   "metadata": {},
   "outputs": [
    {
     "name": "stdout",
     "output_type": "stream",
     "text": [
      "Luke phoned Diana to let her know that he was going to be  absent.\n"
     ]
    }
   ],
   "source": [
    "print(\"{} phoned {} to let her know that he was going to be {}.\".format(\"Luke\", \"Diana\", \" absent\"))"
   ]
  },
  {
   "cell_type": "code",
   "execution_count": 44,
   "id": "c7c9b5d5",
   "metadata": {},
   "outputs": [
    {
     "name": "stdout",
     "output_type": "stream",
     "text": [
      "Rushinga is a Mt Darwin in district.\n"
     ]
    }
   ],
   "source": [
    "string_4=\"{a} is a {b} in {c}.\".format(a=\"Rushinga\", b=\"Mt Darwin\", c=\"district\")\n",
    "print(string_4)"
   ]
  },
  {
   "cell_type": "code",
   "execution_count": 45,
   "id": "989b27b3",
   "metadata": {},
   "outputs": [
    {
     "name": "stdout",
     "output_type": "stream",
     "text": [
      " Let's go to the beach and swim and then  bask in the sunshine.\n"
     ]
    }
   ],
   "source": [
    "a=\"beach\"\n",
    "b=\"swim\"\n",
    "c=\" bask in the sunshine.\"\n",
    "print(f\" Let's go to the {a} and {b} and then {c}\")"
   ]
  },
  {
   "cell_type": "code",
   "execution_count": 47,
   "id": "93b074eb",
   "metadata": {},
   "outputs": [
    {
     "name": "stdout",
     "output_type": "stream",
     "text": [
      "The product of 20 and 4 is 80\n"
     ]
    }
   ],
   "source": [
    "n1=20\n",
    "n2=4\n",
    "print(f\"The product of {n1} and {n2} is {n1*n2}\")"
   ]
  },
  {
   "cell_type": "code",
   "execution_count": 48,
   "id": "115dfa40",
   "metadata": {},
   "outputs": [
    {
     "name": "stdout",
     "output_type": "stream",
     "text": [
      "Will\n",
      "Will\n"
     ]
    }
   ],
   "source": [
    "import copy\n",
    "old_string=\"Will\"\n",
    "new_string=copy.copy(old_string)\n",
    "print(old_string)\n",
    "print(new_string)"
   ]
  },
  {
   "cell_type": "code",
   "execution_count": 50,
   "id": "17c157e1",
   "metadata": {},
   "outputs": [
    {
     "name": "stdout",
     "output_type": "stream",
     "text": [
      "Smith\n",
      "Will\n"
     ]
    }
   ],
   "source": [
    "new_string=\"Smith\"\n",
    "print(new_string)\n",
    "print(old_string)"
   ]
  },
  {
   "cell_type": "code",
   "execution_count": 53,
   "id": "e04dfc9c",
   "metadata": {},
   "outputs": [
    {
     "name": "stdout",
     "output_type": "stream",
     "text": [
      "Will\n",
      "Will\n",
      "John\n"
     ]
    }
   ],
   "source": [
    "new_string=copy.deepcopy(old_string)\n",
    "print(new_string)\n",
    "print(old_string)\n",
    "new_string=\"John\"\n",
    "print(new_string)\n"
   ]
  },
  {
   "cell_type": "code",
   "execution_count": 12,
   "id": "28940127",
   "metadata": {},
   "outputs": [
    {
     "name": "stdout",
     "output_type": "stream",
     "text": [
      "[1, 2, 3, [4, 'Madhara', 6]]\n",
      "[4, 'Madhara', 6]\n",
      "None\n"
     ]
    }
   ],
   "source": [
    "\n",
    "import copy\n",
    "list1=[1,2,3, [4,5,6]]\n",
    "list2=copy.copy(list1)\n",
    "#print(list1)\n",
    "#print(list2)\n",
    "#list2[0]=\"Mike\"\n",
    "list1[3][1]=\"Madhara\"\n",
    "#print(list1[0])\n",
    "#print(list1)\n",
    "print(list2)\n",
    "print(list1[3])\n",
    "list1[3].append(\"Mugabe\")\n",
    "print(appended_list)"
   ]
  },
  {
   "cell_type": "code",
   "execution_count": null,
   "id": "667e3e10",
   "metadata": {},
   "outputs": [],
   "source": []
  },
  {
   "cell_type": "code",
   "execution_count": 1,
   "id": "bcc91bd8",
   "metadata": {},
   "outputs": [],
   "source": [
    "#from string import Template\n",
    "#name=\"Mike\"\n",
    "#n=Template(\"Hello, $name\")\n",
    "#print(n.substitute(name))\n"
   ]
  },
  {
   "cell_type": "code",
   "execution_count": 16,
   "id": "11a817a0",
   "metadata": {},
   "outputs": [
    {
     "name": "stdout",
     "output_type": "stream",
     "text": [
      "['Sara', 'David', 'Warner', 'Sandy']\n",
      "['Sara', 'David', 'Warner', 'Sandy']\n",
      "['Sara', 'Ridley', 'Warner', 'Sandy']\n"
     ]
    }
   ],
   "source": [
    "names=[\"Sara\", \"David\", \"Warner\", \"Sandy\"]\n",
    "new_list=names.copy()\n",
    "print(names)\n",
    "print(new_list)\n",
    "new_list[1]=\"Ridley\"\n",
    "print(new_list)"
   ]
  },
  {
   "cell_type": "code",
   "execution_count": 22,
   "id": "9c0133d4",
   "metadata": {},
   "outputs": [
    {
     "name": "stdout",
     "output_type": "stream",
     "text": [
      "[10, 20, 30, 40, 50]\n",
      "[10, 20, 77, 40, 50]\n"
     ]
    }
   ],
   "source": [
    "import copy\n",
    "original_list=[10,20,30,40,50]\n",
    "updated_list=copy.deepcopy(original_list)\n",
    "print(original_list)\n",
    "#print(updated_list)\n",
    "updated_list[2]=77\n",
    "print(updated_list)\n"
   ]
  },
  {
   "cell_type": "code",
   "execution_count": 29,
   "id": "f973f716",
   "metadata": {},
   "outputs": [
    {
     "name": "stdout",
     "output_type": "stream",
     "text": [
      "[31, 35, [66, 77, 88], 98]\n",
      "[31, 35, [66, 77, 'Mike'], 98]\n"
     ]
    }
   ],
   "source": [
    "nested_list=[31,35, [66,77,88], 98]\n",
    "new_nested_list=copy.deepcopy(nested_list)\n",
    "#print(nested_list)\n",
    "#print(new_nested_list)\n",
    "new_nested_list[2][2]=\"Mike\"\n",
    "print(nested_list)\n",
    "print(new_nested_list)"
   ]
  },
  {
   "cell_type": "code",
   "execution_count": 39,
   "id": "824b3707",
   "metadata": {},
   "outputs": [
    {
     "name": "stdout",
     "output_type": "stream",
     "text": [
      "[31, 35, [66, 77, 88], 98]\n",
      "[31, 'Mhike', [66, 77, 88], 98]\n"
     ]
    }
   ],
   "source": [
    "nested_list=[31,35, [66,77,88], 98]\n",
    "newer_list=nested_list[:]\n",
    "#print(newer_list[1])\n",
    "\n",
    "newer_list[1]=\"Mhike\"\n",
    "print(nested_list)\n",
    "print(newer_list)"
   ]
  },
  {
   "cell_type": "code",
   "execution_count": 2,
   "id": "26da6580",
   "metadata": {},
   "outputs": [
    {
     "name": "stdout",
     "output_type": "stream",
     "text": [
      " Alice is in the tuple.\n"
     ]
    }
   ],
   "source": [
    "teachers_tuple=(\"Alice\", \"Alexa\", \"Robert\", \"Bella\")\n",
    "if \"Alice\" in teachers_tuple:\n",
    "    print(\" Alice is in the tuple.\")"
   ]
  },
  {
   "cell_type": "code",
   "execution_count": 9,
   "id": "26b281f5",
   "metadata": {},
   "outputs": [
    {
     "ename": "AttributeError",
     "evalue": "'tuple' object has no attribute 'sort'",
     "output_type": "error",
     "traceback": [
      "\u001b[1;31m---------------------------------------------------------------------------\u001b[0m",
      "\u001b[1;31mAttributeError\u001b[0m                            Traceback (most recent call last)",
      "\u001b[1;32m~\\AppData\\Local\\Temp/ipykernel_10864/452056611.py\u001b[0m in \u001b[0;36m<module>\u001b[1;34m\u001b[0m\n\u001b[0;32m      1\u001b[0m \u001b[0mlist_one\u001b[0m\u001b[1;33m=\u001b[0m\u001b[1;33m[\u001b[0m\u001b[1;36m5\u001b[0m\u001b[1;33m,\u001b[0m\u001b[1;36m1\u001b[0m\u001b[1;33m,\u001b[0m\u001b[1;36m6\u001b[0m\u001b[1;33m,\u001b[0m\u001b[1;36m2\u001b[0m\u001b[1;33m,\u001b[0m\u001b[1;36m9\u001b[0m\u001b[1;33m]\u001b[0m\u001b[1;33m\u001b[0m\u001b[1;33m\u001b[0m\u001b[0m\n\u001b[0;32m      2\u001b[0m \u001b[0mnew_list\u001b[0m\u001b[1;33m=\u001b[0m\u001b[0mtuple\u001b[0m\u001b[1;33m(\u001b[0m\u001b[0mlist_one\u001b[0m\u001b[1;33m)\u001b[0m\u001b[1;33m\u001b[0m\u001b[1;33m\u001b[0m\u001b[0m\n\u001b[1;32m----> 3\u001b[1;33m \u001b[0msorted_list\u001b[0m \u001b[1;33m=\u001b[0m\u001b[0mnew_list\u001b[0m\u001b[1;33m.\u001b[0m\u001b[0msort\u001b[0m\u001b[1;33m(\u001b[0m\u001b[1;33m)\u001b[0m\u001b[1;33m\u001b[0m\u001b[1;33m\u001b[0m\u001b[0m\n\u001b[0m\u001b[0;32m      4\u001b[0m \u001b[0mprint\u001b[0m\u001b[1;33m(\u001b[0m\u001b[0mlist_one\u001b[0m\u001b[1;33m)\u001b[0m\u001b[1;33m\u001b[0m\u001b[1;33m\u001b[0m\u001b[0m\n",
      "\u001b[1;31mAttributeError\u001b[0m: 'tuple' object has no attribute 'sort'"
     ]
    }
   ],
   "source": [
    "list_one=[5,1,6,2,9]\n",
    "new_list=tuple(list_one)\n",
    "sorted_list =new_list.sort()\n",
    "print(list_one)"
   ]
  },
  {
   "cell_type": "code",
   "execution_count": null,
   "id": "e1659339",
   "metadata": {},
   "outputs": [],
   "source": []
  },
  {
   "cell_type": "code",
   "execution_count": null,
   "id": "713baec0",
   "metadata": {},
   "outputs": [],
   "source": []
  },
  {
   "cell_type": "code",
   "execution_count": null,
   "id": "a8d2adfb",
   "metadata": {},
   "outputs": [],
   "source": []
  },
  {
   "cell_type": "code",
   "execution_count": null,
   "id": "2f14f282",
   "metadata": {},
   "outputs": [],
   "source": []
  }
 ],
 "metadata": {
  "kernelspec": {
   "display_name": "Python 3 (ipykernel)",
   "language": "python",
   "name": "python3"
  },
  "language_info": {
   "codemirror_mode": {
    "name": "ipython",
    "version": 3
   },
   "file_extension": ".py",
   "mimetype": "text/x-python",
   "name": "python",
   "nbconvert_exporter": "python",
   "pygments_lexer": "ipython3",
   "version": "3.9.7"
  }
 },
 "nbformat": 4,
 "nbformat_minor": 5
}
