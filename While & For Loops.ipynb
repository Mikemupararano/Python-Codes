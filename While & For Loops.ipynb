{
 "cells": [
  {
   "cell_type": "code",
   "execution_count": null,
   "id": "1828fb82",
   "metadata": {},
   "outputs": [],
   "source": [
    "#Print 1-10 numbers using for and while:\n",
    "#Using for\n",
    "for number in range (1,11):\n",
    "    print(number)"
   ]
  },
  {
   "cell_type": "code",
   "execution_count": null,
   "id": "ea927637",
   "metadata": {},
   "outputs": [],
   "source": [
    "#Using while\n",
    "i=1\n",
    "while i<11:\n",
    "    print(i)\n",
    "    i=i+1\n",
    "#print(i)\n"
   ]
  },
  {
   "cell_type": "code",
   "execution_count": null,
   "id": "445fabad",
   "metadata": {},
   "outputs": [],
   "source": [
    "for i in range (1,11):\n",
    "    print(i, \"Hello Wrold\")"
   ]
  },
  {
   "cell_type": "code",
   "execution_count": null,
   "id": "da00b5ec",
   "metadata": {},
   "outputs": [],
   "source": []
  },
  {
   "cell_type": "code",
   "execution_count": null,
   "id": "671af658",
   "metadata": {},
   "outputs": [],
   "source": [
    "i=1\n",
    "while i<11:\n",
    "    print(i, \"Hello World\")\n",
    "    i=i+1"
   ]
  },
  {
   "cell_type": "code",
   "execution_count": null,
   "id": "40bfc7ab",
   "metadata": {},
   "outputs": [],
   "source": [
    "#Enter correct username and password\n",
    "while True:\n",
    "    username=input(\"Enter your username: \")\n",
    "    password=input(\"Enter your password: \")\n",
    "    if username==\"Mike\" and password==\"123\":\n",
    "        print(\"You have successfully logged in.\")\n",
    "        break\n",
    "    else:\n",
    "        print(\"Try to log in again.\")\n",
    "    "
   ]
  },
  {
   "cell_type": "code",
   "execution_count": null,
   "id": "272eac3d",
   "metadata": {},
   "outputs": [],
   "source": [
    "list1=[1,2,3,4,5,6,7,8,9,10]\n",
    "for number in list1:\n",
    "    print(number**2)"
   ]
  },
  {
   "cell_type": "code",
   "execution_count": null,
   "id": "0b14127d",
   "metadata": {},
   "outputs": [],
   "source": [
    "list2=[1,2,3,4,5,6,7,8,9,10]\n",
    "letters=\"Mupararano\"\n",
    "for num in list2:\n",
    "    for letter in letters:\n",
    "        print(num, letter)"
   ]
  },
  {
   "cell_type": "code",
   "execution_count": null,
   "id": "e11efd43",
   "metadata": {},
   "outputs": [],
   "source": [
    "x=0\n",
    "while True:\n",
    "    print(x)\n",
    "    x=x+1"
   ]
  },
  {
   "cell_type": "code",
   "execution_count": null,
   "id": "65ecffe7",
   "metadata": {},
   "outputs": [],
   "source": []
  },
  {
   "cell_type": "code",
   "execution_count": null,
   "id": "f1506915",
   "metadata": {},
   "outputs": [],
   "source": [
    "#Calculating the average of items in a list\n",
    "list_3=[10,20,30,40,50,60,70,80,90]\n",
    "for number in list_3:\n",
    "total =0\n",
    "    total=total+ number\n",
    "mean=total/len(list_3)\n",
    "print(total)\n",
    "print(mean)\n"
   ]
  },
  {
   "cell_type": "code",
   "execution_count": null,
   "id": "42dbafa5",
   "metadata": {},
   "outputs": [],
   "source": [
    "list_3=[10,20,30,40,50,60,70,80,90]\n",
    "total =0\n",
    "count=0\n",
    "while count<len(list_3):\n",
    "    total=total+list_3[count]\n",
    "    count=count+1\n",
    "mean=total/count\n",
    "print(total)\n",
    "print(mean)"
   ]
  },
  {
   "cell_type": "code",
   "execution_count": null,
   "id": "6c253282",
   "metadata": {},
   "outputs": [],
   "source": [
    "#Enumerate\n",
    "total =0\n",
    "list_3=[10,20,30,40,50,60,70,80,90]\n",
    "for index, number in enumerate(list_3):\n",
    "    print(index, number)\n",
    "\n",
    "    total=total+ number\n",
    "mean=total/len(list_3)\n",
    "print(total)\n",
    "print(mean)"
   ]
  },
  {
   "cell_type": "code",
   "execution_count": null,
   "id": "180b65fb",
   "metadata": {},
   "outputs": [],
   "source": [
    "#Password using while but no break statement\n",
    "password=\"\"\n",
    "while password!=\"Mike1\":\n",
    "    password=input(\"Enter your password: \")\n",
    "print(\"You have been granted access\")   \n"
   ]
  },
  {
   "cell_type": "code",
   "execution_count": null,
   "id": "cd387bc7",
   "metadata": {},
   "outputs": [],
   "source": [
    "number=int(input(\"Enter a number: \"))\n",
    "name=input(\"Enter a name: \")\n",
    "count=1\n",
    "while count<number:\n",
    "    print(name, \":\", count)\n",
    "    count +=1\n",
    "\n"
   ]
  },
  {
   "cell_type": "code",
   "execution_count": null,
   "id": "80f30786",
   "metadata": {},
   "outputs": [],
   "source": []
  },
  {
   "cell_type": "code",
   "execution_count": null,
   "id": "d7d4982b",
   "metadata": {},
   "outputs": [],
   "source": [
    "for i in range(5):\n",
    "    #print (i)\n",
    "    if i==3:\n",
    "        pass\n",
    "    else:\n",
    "        print(i)"
   ]
  },
  {
   "cell_type": "code",
   "execution_count": 2,
   "id": "1f5155e4",
   "metadata": {},
   "outputs": [
    {
     "name": "stdout",
     "output_type": "stream",
     "text": [
      "Enter the capital city of Egypt:CAiro\n",
      "You have entered the correct answer\n"
     ]
    }
   ],
   "source": [
    "#Prompt user for capital of Egypt\n",
    "capital=\"\"\n",
    "while True:\n",
    "    capital =input(\"Enter the capital city of Egypt:\" )\n",
    "    if capital==\"quit\":\n",
    "        break\n",
    "    if capital.upper()==\"CAIRO\":\n",
    "        print(\"You have entered the correct answer\")\n",
    "        break\n",
    "    \n",
    "        \n",
    "        \n",
    "    "
   ]
  },
  {
   "cell_type": "code",
   "execution_count": null,
   "id": "26f21825",
   "metadata": {},
   "outputs": [],
   "source": []
  },
  {
   "cell_type": "code",
   "execution_count": null,
   "id": "14ba3527",
   "metadata": {},
   "outputs": [],
   "source": []
  },
  {
   "cell_type": "code",
   "execution_count": null,
   "id": "2f006225",
   "metadata": {},
   "outputs": [],
   "source": []
  },
  {
   "cell_type": "code",
   "execution_count": null,
   "id": "98ecd4ba",
   "metadata": {},
   "outputs": [],
   "source": []
  }
 ],
 "metadata": {
  "kernelspec": {
   "display_name": "Python 3 (ipykernel)",
   "language": "python",
   "name": "python3"
  },
  "language_info": {
   "codemirror_mode": {
    "name": "ipython",
    "version": 3
   },
   "file_extension": ".py",
   "mimetype": "text/x-python",
   "name": "python",
   "nbconvert_exporter": "python",
   "pygments_lexer": "ipython3",
   "version": "3.9.7"
  }
 },
 "nbformat": 4,
 "nbformat_minor": 5
}
