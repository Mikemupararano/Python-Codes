{
 "cells": [
  {
   "cell_type": "code",
   "execution_count": null,
   "id": "4a32f24c",
   "metadata": {},
   "outputs": [],
   "source": [
    "count=0\n",
    "text=\"Mike Thomas was born in Rushinga. Rushinga is in Mt Darwin. Mike Thomas is a tall guy abd he enjoys reading books.\"\n",
    "if word in text ==\"Thomas\":\n",
    "    print(count)\n",
    "    count-count+1\n",
    "    \n",
    "        \n",
    "\n"
   ]
  },
  {
   "cell_type": "code",
   "execution_count": null,
   "id": "5316f8c2",
   "metadata": {},
   "outputs": [],
   "source": [
    "count =0\n",
    "text=\"Mike Thomas was born in Rushinga. Rushinga is in Mt Darwin. Mike Thomas is a tall guy abd he enjoys reading books.\"\n",
    "for letter in text:\n",
    "    find_max=max(text)\n",
    "    print(find_max)\n",
    " \n",
    "count=count +1\n",
    "print(count)\n"
   ]
  },
  {
   "cell_type": "code",
   "execution_count": null,
   "id": "61eb05e1",
   "metadata": {},
   "outputs": [],
   "source": [
    "def greet(lang):\n",
    "    if lang==\"es\":\n",
    "        print(\"Hola Mike.\")\n",
    "    elif lang==\"fr\":\n",
    "        print(\"Bonjour Mike.\")\n",
    "    else:\n",
    "        print(\"Hello Mike.\")\n"
   ]
  },
  {
   "cell_type": "code",
   "execution_count": null,
   "id": "ed31a373",
   "metadata": {},
   "outputs": [],
   "source": [
    "greet(\"es\")\n",
    "greet(\"fr\")\n",
    "greet(\"eng\")"
   ]
  },
  {
   "cell_type": "code",
   "execution_count": null,
   "id": "a08e2cbc",
   "metadata": {},
   "outputs": [],
   "source": [
    "#While loop\n",
    "n=5\n",
    "while n<=5 and n>0:\n",
    "    print(n)\n",
    "    n=n-1\n",
    "    "
   ]
  },
  {
   "cell_type": "code",
   "execution_count": null,
   "id": "907b7a91",
   "metadata": {},
   "outputs": [],
   "source": [
    "#Finding largest number\n",
    "num=0\n",
    "numbers=[3,41,12, 9,74,15]\n",
    "for number in numbers:\n",
    "    if number>num:\n",
    "        num=number\n",
    "print(num)"
   ]
  },
  {
   "cell_type": "code",
   "execution_count": null,
   "id": "5954a227",
   "metadata": {},
   "outputs": [],
   "source": [
    "sum_of_numbers=0\n",
    "numbers=[3,41,12, 9,74,15]\n",
    "print(\"Total before is \",sum_of_numbers)\n",
    "for number in numbers:\n",
    "    sum_of_numbers =sum_of_numbers + number\n",
    "    print(sum_of_numbers)\n",
    "    \n",
    "print(\"The total after is: \",sum_of_numbers)"
   ]
  },
  {
   "cell_type": "code",
   "execution_count": null,
   "id": "666870fb",
   "metadata": {},
   "outputs": [],
   "source": [
    "#Filtering Loop\n",
    "for number in numbers:\n",
    "    if number>20:\n",
    "        print(number)\n",
    "   \n",
    "    \n"
   ]
  },
  {
   "cell_type": "code",
   "execution_count": null,
   "id": "e2db17c8",
   "metadata": {},
   "outputs": [],
   "source": [
    "#Serach using a boolean variable\n",
    "found=False\n",
    "print(\"Before\", found)\n",
    "for number in [74,41,12,9,3,15]:\n",
    "    if number==3:\n",
    "        found=True\n",
    "        print(number, found)\n",
    "        break\n",
    "    print(found, number)\n",
    "  \n",
    "print(\"After\", 3, found)"
   ]
  },
  {
   "cell_type": "code",
   "execution_count": null,
   "id": "1c14e002",
   "metadata": {},
   "outputs": [],
   "source": [
    "#Looping through strings\n",
    "word ='banana'\n",
    "count=0\n",
    "for letter in word:\n",
    "    if letter=='a':\n",
    "        print(letter)\n",
    "        count=count+1\n",
    "        \n",
    "print(count)\n",
    "    "
   ]
  },
  {
   "cell_type": "code",
   "execution_count": null,
   "id": "adb04e35",
   "metadata": {},
   "outputs": [],
   "source": [
    "a=\"Hello\"\n",
    "print(a[:])\n",
    "print(a[1:])\n",
    "print(a[0:])"
   ]
  },
  {
   "cell_type": "code",
   "execution_count": null,
   "id": "464a00f1",
   "metadata": {},
   "outputs": [],
   "source": [
    "count=0\n",
    "for letter in word:\n",
    "    count=count+1\n",
    "    print(count, letter)\n",
    "print(word.find(\"na\"))"
   ]
  },
  {
   "cell_type": "code",
   "execution_count": 27,
   "id": "f3245480",
   "metadata": {},
   "outputs": [
    {
     "name": "stdout",
     "output_type": "stream",
     "text": [
      "0\n",
      "2490\n",
      "{\n",
      " \"cells\"\n"
     ]
    }
   ],
   "source": [
    "#Reading a whole file\n",
    "mt_file=open(\"Handwritten Work.ipynb\")\n",
    "read_data=mt_file.read()\n",
    "count=0\n",
    "for line in mt_file:\n",
    "    count=count+1\n",
    "print(count)\n",
    "print(len(read_data))\n",
    "print(read_data.lstrip()[:10])"
   ]
  },
  {
   "cell_type": "code",
   "execution_count": 1,
   "id": "ec6bab6f",
   "metadata": {},
   "outputs": [],
   "source": [
    "try:\n",
    "    mhike_siblings=open(\"MT siblings.docx\")\n",
    "    for line in mhike_siblings:\n",
    "        print(line)\n",
    "except:\n",
    "    quit()"
   ]
  },
  {
   "cell_type": "code",
   "execution_count": 25,
   "id": "0c1b05ba",
   "metadata": {},
   "outputs": [
    {
     "name": "stdout",
     "output_type": "stream",
     "text": [
      ".\n"
     ]
    }
   ],
   "source": [
    "#Searching a particular word\n",
    "text=\"Mike Thomas was born in Rushinga. Rushinga is in Mt Darwin.\"\n",
    "for shoko in text:\n",
    "    if shoko.endswith(\"Darwin\"):\n",
    "        print(shoko)\n",
    "print(shoko)"
   ]
  },
  {
   "cell_type": "code",
   "execution_count": 4,
   "id": "0f087baf",
   "metadata": {},
   "outputs": [
    {
     "name": "stdout",
     "output_type": "stream",
     "text": [
      "range(0, 4)\n",
      "range(0, 40)\n"
     ]
    }
   ],
   "source": [
    "print(range(4))\n",
    "words=\"Zanu PF is a bad political organisation.\"\n",
    "print(range(len(words)))"
   ]
  },
  {
   "cell_type": "code",
   "execution_count": 9,
   "id": "221fce34",
   "metadata": {},
   "outputs": [
    {
     "name": "stdout",
     "output_type": "stream",
     "text": [
      "Happy birthday Mhike.\n",
      "Happy birthday Dzenhu.\n",
      "Happy birthday Kapinga.\n",
      "Happy birthday Gono.\n",
      "Happy birthday Dougie.\n"
     ]
    }
   ],
   "source": [
    "list_of_friends=[\"Mhike\", \"Dzenhu\", \"Kapinga\", \"Gono\", \"Dougie\"]\n",
    "for friend in list_of_friends:\n",
    "    print(\"Happy birthday\", friend +\".\")\n",
    "    "
   ]
  },
  {
   "cell_type": "code",
   "execution_count": 18,
   "id": "433b8b7f",
   "metadata": {},
   "outputs": [
    {
     "name": "stdout",
     "output_type": "stream",
     "text": [
      "[]\n",
      "['Mike', 'Bonus']\n"
     ]
    }
   ],
   "source": [
    "list_1=[]\n",
    "print(list_1)\n",
    "list_1.append(\"Mike\")\n",
    "list_1.append(\"Bonus\")\n",
    "print(list_1)"
   ]
  },
  {
   "cell_type": "code",
   "execution_count": 3,
   "id": "0ab04ea8",
   "metadata": {},
   "outputs": [],
   "source": [
    "#num_list=[]\n",
    "#list_item=input(\"Enter a number: \")\n",
    "#if num_list<10:\n",
    "    #num_list=float(num_list.append(list_item))\n",
    "    #print(num_list)"
   ]
  },
  {
   "cell_type": "code",
   "execution_count": 8,
   "id": "e62b8cb3",
   "metadata": {},
   "outputs": [
    {
     "name": "stdout",
     "output_type": "stream",
     "text": [
      "['Alfred', 'Nyauyanga', 'Chipanzvi']\n",
      "Alfred Nyauyanga Chipanzvi\n",
      "3\n",
      "26\n",
      "['Alfred Ny', 'uy', 'ng', ' Chip', 'nzvi']\n"
     ]
    }
   ],
   "source": [
    "mazwi=\"Alfred Nyauyanga Chipanzvi\"\n",
    "new=mazwi.split()\n",
    "print(new)\n",
    "print(mazwi)\n",
    "print(len(new))\n",
    "print(len(mazwi))\n",
    "print(mazwi.split(\"a\"))"
   ]
  },
  {
   "cell_type": "code",
   "execution_count": 20,
   "id": "e754de6c",
   "metadata": {},
   "outputs": [
    {
     "name": "stdout",
     "output_type": "stream",
     "text": [
      "{\n",
      " \"cells\": [\n",
      "  {\n",
      "   \"cell_type\": \"code\",\n",
      "   \"execution_count\": 18,\n",
      "   \"id\": \"c58d1e96\",\n",
      "   \"metadata\": {},\n",
      "   \"outputs\": [\n",
      "    {\n",
      "     \"name\": \"stdout\",\n",
      "     \"output_type\": \"stream\",\n",
      "     \"text\": [\n",
      "      \"[1, 2]\\n\",\n",
      "      \"[1, 2, 4]\\n\"\n",
      "     ]\n",
      "    }\n",
      "   ],\n",
      "   \"source\": [\n",
      "    \"#Method syntax has object.method()\\n\",\n",
      "    \"my_list=[1,2,3]\\n\",\n",
      "    \"my_list.pop()\\n\",\n",
      "    \"print(my_list)\\n\",\n",
      "    \"my_list.append(4)\\n\",\n",
      "    \"print(my_list)\\n\",\n",
      "    \"my_list.reverse()\"\n",
      "   ]\n",
      "  },\n",
      "  {\n",
      "   \"cell_type\": \"code\",\n",
      "   \"execution_count\": null,\n",
      "   \"id\": \"9c57bc46\",\n",
      "   \"metadata\": {},\n",
      "   \"outputs\": [],\n",
      "   \"source\": []\n",
      "  },\n",
      "  {\n",
      "   \"cell_type\": \"code\",\n",
      "   \"execution_count\": null,\n",
      "   \"id\": \"9d58700f\",\n",
      "   \"metadata\": {},\n",
      "   \"outputs\": [],\n",
      "   \"source\": []\n",
      "  },\n",
      "  {\n",
      "   \"cell_type\": \"code\",\n",
      "   \"execution_count\": null,\n",
      "   \"id\": \"4afe81ed\",\n",
      "   \"metadata\": {},\n",
      "   \"outputs\": [],\n",
      "   \"source\": []\n",
      "  },\n",
      "  {\n",
      "   \"cell_type\": \"code\",\n",
      "   \"execution_count\": null,\n",
      "   \"id\": \"61eb3982\",\n",
      "   \"metadata\": {},\n",
      "   \"outputs\": [],\n",
      "   \"source\": []\n",
      "  },\n",
      "  {\n",
      "   \"cell_type\": \"code\",\n",
      "   \"execution_count\": null,\n",
      "   \"id\": \"a9f6fd9b\",\n",
      "   \"metadata\": {},\n",
      "   \"outputs\": [],\n",
      "   \"source\": []\n",
      "  },\n",
      "  {\n",
      "   \"cell_type\": \"code\",\n",
      "   \"execution_count\": null,\n",
      "   \"id\": \"2c92345f\",\n",
      "   \"metadata\": {},\n",
      "   \"outputs\": [],\n",
      "   \"source\": []\n",
      "  },\n",
      "  {\n",
      "   \"cell_type\": \"code\",\n",
      "   \"execution_count\": null,\n",
      "   \"id\": \"f705bc0a\",\n",
      "   \"metadata\": {},\n",
      "   \"outputs\": [],\n",
      "   \"source\": []\n",
      "  }\n",
      " ],\n",
      " \"metadata\": {\n",
      "  \"kernelspec\": {\n",
      "   \"display_name\": \"Python 3 (ipykernel)\",\n",
      "   \"language\": \"python\",\n",
      "   \"name\": \"python3\"\n",
      "  },\n",
      "  \"language_info\": {\n",
      "   \"codemirror_mode\": {\n",
      "    \"name\": \"ipython\",\n",
      "    \"version\": 3\n",
      "   },\n",
      "   \"file_extension\": \".py\",\n",
      "   \"mimetype\": \"text/x-python\",\n",
      "   \"name\": \"python\",\n",
      "   \"nbconvert_exporter\": \"python\",\n",
      "   \"pygments_lexer\": \"ipython3\",\n",
      "   \"version\": \"3.9.7\"\n",
      "  }\n",
      " },\n",
      " \"nbformat\": 4,\n",
      " \"nbformat_minor\": 5\n",
      "}\n",
      "\n"
     ]
    }
   ],
   "source": [
    "acceleration=open(\"Methods.ipynb\")\n",
    "read_info_in =acceleration.read()\n",
    "print(read_info_in)"
   ]
  },
  {
   "cell_type": "code",
   "execution_count": null,
   "id": "0ee94943",
   "metadata": {},
   "outputs": [],
   "source": []
  },
  {
   "cell_type": "code",
   "execution_count": 18,
   "id": "5cd51623",
   "metadata": {},
   "outputs": [
    {
     "ename": "TypeError",
     "evalue": "'tuple' object does not support item assignment",
     "output_type": "error",
     "traceback": [
      "\u001b[1;31m---------------------------------------------------------------------------\u001b[0m",
      "\u001b[1;31mTypeError\u001b[0m                                 Traceback (most recent call last)",
      "\u001b[1;32m~\\AppData\\Local\\Temp/ipykernel_16320/2803398921.py\u001b[0m in \u001b[0;36m<module>\u001b[1;34m\u001b[0m\n\u001b[0;32m      1\u001b[0m \u001b[1;31m#Dictionary\u001b[0m\u001b[1;33m\u001b[0m\u001b[1;33m\u001b[0m\u001b[0m\n\u001b[0;32m      2\u001b[0m \u001b[0msiblings_dict\u001b[0m\u001b[1;33m=\u001b[0m\u001b[1;33m(\u001b[0m\u001b[1;33m)\u001b[0m\u001b[1;33m\u001b[0m\u001b[1;33m\u001b[0m\u001b[0m\n\u001b[1;32m----> 3\u001b[1;33m \u001b[0msiblings_dict\u001b[0m\u001b[1;33m[\u001b[0m\u001b[1;34m'Cosmas'\u001b[0m\u001b[1;33m]\u001b[0m \u001b[1;33m=\u001b[0m\u001b[1;36m1\u001b[0m\u001b[1;33m\u001b[0m\u001b[1;33m\u001b[0m\u001b[0m\n\u001b[0m\u001b[0;32m      4\u001b[0m \u001b[0msiblings_dict\u001b[0m\u001b[1;33m[\u001b[0m\u001b[1;34m'Grace'\u001b[0m\u001b[1;33m]\u001b[0m\u001b[1;33m=\u001b[0m\u001b[1;36m2\u001b[0m\u001b[1;33m\u001b[0m\u001b[1;33m\u001b[0m\u001b[0m\n\u001b[0;32m      5\u001b[0m \u001b[1;31m#siblings_dict.append(\"Grace: 2\")\u001b[0m\u001b[1;33m\u001b[0m\u001b[1;33m\u001b[0m\u001b[0m\n",
      "\u001b[1;31mTypeError\u001b[0m: 'tuple' object does not support item assignment"
     ]
    }
   ],
   "source": [
    "#Dictionary\n",
    "#siblings_dict=()\n",
    "#siblings_dict['Cosmas'] =1\n",
    "#siblings_dict['Grace']=2\n",
    "#siblings_dict.append(\"Grace: 2\")\n",
    "#siblings_dict[\"Grace\"]=2\n",
    "#print(siblings_dict)\n",
    "#print(siblings_dict[1])\n"
   ]
  },
  {
   "cell_type": "code",
   "execution_count": 16,
   "id": "f26a9b21",
   "metadata": {},
   "outputs": [
    {
     "name": "stdout",
     "output_type": "stream",
     "text": [
      "{'zhen': 1, 'owen': 2}\n"
     ]
    }
   ],
   "source": [
    "eee=dict()\n",
    "eee['zhen']=1\n",
    "eee['owen']=2\n",
    "print(eee)"
   ]
  },
  {
   "cell_type": "code",
   "execution_count": 19,
   "id": "13c3221d",
   "metadata": {},
   "outputs": [
    {
     "name": "stdout",
     "output_type": "stream",
     "text": [
      "{'csev': 2, 'owen': 2, 'zqian': 1}\n"
     ]
    }
   ],
   "source": [
    "counts=dict()\n",
    "names=['csev', 'owen', 'csev','zqian', 'owen']\n",
    "for name in names:\n",
    "    if name not in counts:\n",
    "        counts[name]=1\n",
    "    else:\n",
    "        counts[name]=counts[name]+1\n",
    "print(counts)"
   ]
  },
  {
   "cell_type": "code",
   "execution_count": 20,
   "id": "ccf806ae",
   "metadata": {},
   "outputs": [
    {
     "name": "stdout",
     "output_type": "stream",
     "text": [
      "{'csev': 2, 'owen': 2, 'zqian': 1}\n"
     ]
    }
   ],
   "source": [
    "counts=dict()\n",
    "names=['csev', 'owen', 'csev','zqian', 'owen']\n",
    "for name in names:\n",
    "    counts[name]=counts.get(name,0)+1\n",
    "print(counts)"
   ]
  },
  {
   "cell_type": "code",
   "execution_count": 22,
   "id": "948c9ef6",
   "metadata": {},
   "outputs": [
    {
     "name": "stdout",
     "output_type": "stream",
     "text": [
      "Enter a line of text: I have had few responses to this invite.  Please can you say yes or no so I know what I am buying in.  So far I have the Khan family, Davies family (hopefully), Karen and Alison.  Thank you to those who have let me know they cannot attend because of more exciting things like the Womens Euros and already being away on holiday.  Please can you let me know before the end of tomorrow (Thursday).\n",
      "Words:  ['I', 'have', 'had', 'few', 'responses', 'to', 'this', 'invite.', 'Please', 'can', 'you', 'say', 'yes', 'or', 'no', 'so', 'I', 'know', 'what', 'I', 'am', 'buying', 'in.', 'So', 'far', 'I', 'have', 'the', 'Khan', 'family,', 'Davies', 'family', '(hopefully),', 'Karen', 'and', 'Alison.', 'Thank', 'you', 'to', 'those', 'who', 'have', 'let', 'me', 'know', 'they', 'cannot', 'attend', 'because', 'of', 'more', 'exciting', 'things', 'like', 'the', 'Womens', 'Euros', 'and', 'already', 'being', 'away', 'on', 'holiday.', 'Please', 'can', 'you', 'let', 'me', 'know', 'before', 'the', 'end', 'of', 'tomorrow', '(Thursday).']\n",
      "Counting...\n",
      "Counts {'I': 4, 'have': 3, 'had': 1, 'few': 1, 'responses': 1, 'to': 2, 'this': 1, 'invite.': 1, 'Please': 2, 'can': 2, 'you': 3, 'say': 1, 'yes': 1, 'or': 1, 'no': 1, 'so': 1, 'know': 3, 'what': 1, 'am': 1, 'buying': 1, 'in.': 1, 'So': 1, 'far': 1, 'the': 3, 'Khan': 1, 'family,': 1, 'Davies': 1, 'family': 1, '(hopefully),': 1, 'Karen': 1, 'and': 2, 'Alison.': 1, 'Thank': 1, 'those': 1, 'who': 1, 'let': 2, 'me': 2, 'they': 1, 'cannot': 1, 'attend': 1, 'because': 1, 'of': 2, 'more': 1, 'exciting': 1, 'things': 1, 'like': 1, 'Womens': 1, 'Euros': 1, 'already': 1, 'being': 1, 'away': 1, 'on': 1, 'holiday.': 1, 'before': 1, 'end': 1, 'tomorrow': 1, '(Thursday).': 1}\n"
     ]
    }
   ],
   "source": [
    "counts=dict()\n",
    "line=input(\"Enter a line of text: \" )\n",
    "words=line.split()\n",
    "print(\"Words: \", words)\n",
    "print(\"Counting...\")\n",
    "for word in words:\n",
    "    counts[word]=counts.get(word,0)+1\n",
    "print(\"Counts\",counts)\n"
   ]
  },
  {
   "cell_type": "code",
   "execution_count": 24,
   "id": "39aa9d63",
   "metadata": {},
   "outputs": [
    {
     "name": "stdout",
     "output_type": "stream",
     "text": [
      "dict_keys(['I', 'have', 'had', 'few', 'responses', 'to', 'this', 'invite.', 'Please', 'can', 'you', 'say', 'yes', 'or', 'no', 'so', 'know', 'what', 'am', 'buying', 'in.', 'So', 'far', 'the', 'Khan', 'family,', 'Davies', 'family', '(hopefully),', 'Karen', 'and', 'Alison.', 'Thank', 'those', 'who', 'let', 'me', 'they', 'cannot', 'attend', 'because', 'of', 'more', 'exciting', 'things', 'like', 'Womens', 'Euros', 'already', 'being', 'away', 'on', 'holiday.', 'before', 'end', 'tomorrow', '(Thursday).'])\n",
      "dict_values([4, 3, 1, 1, 1, 2, 1, 1, 2, 2, 3, 1, 1, 1, 1, 1, 3, 1, 1, 1, 1, 1, 1, 3, 1, 1, 1, 1, 1, 1, 2, 1, 1, 1, 1, 2, 2, 1, 1, 1, 1, 2, 1, 1, 1, 1, 1, 1, 1, 1, 1, 1, 1, 1, 1, 1, 1])\n"
     ]
    }
   ],
   "source": [
    "print(counts.keys())\n",
    "print(counts.values())"
   ]
  },
  {
   "cell_type": "code",
   "execution_count": 37,
   "id": "b1469b4a",
   "metadata": {},
   "outputs": [
    {
     "name": "stdout",
     "output_type": "stream",
     "text": [
      "I 4\n"
     ]
    }
   ],
   "source": [
    "#Iterating a dictionary key value pairs and finding the highest mentioned word\n",
    "largest=-1\n",
    "word=None\n",
    "for k,v in counts.items():\n",
    "    if v>largest:\n",
    "        largest=v\n",
    "        word=k\n",
    "print(word, largest)\n",
    "    "
   ]
  },
  {
   "cell_type": "code",
   "execution_count": 29,
   "id": "5052db85",
   "metadata": {},
   "outputs": [
    {
     "name": "stdout",
     "output_type": "stream",
     "text": [
      "dict_items([('Kuda', 23), ('Kudzai', 13), ('Tatenda', 6)])\n"
     ]
    }
   ],
   "source": [
    "children=dict()\n",
    "children['Kuda']=23\n",
    "children['Kudzai']=13\n",
    "children['Tatenda']=6\n",
    "#print(children)\n",
    "for child in children:\n",
    "    children.items()\n",
    "#print(children)\n",
    "print(children.items())"
   ]
  },
  {
   "cell_type": "code",
   "execution_count": 30,
   "id": "8ad27eb6",
   "metadata": {},
   "outputs": [
    {
     "name": "stdout",
     "output_type": "stream",
     "text": [
      "Kuda 23\n",
      "Kudzai 13\n",
      "Tatenda 6\n"
     ]
    }
   ],
   "source": [
    "for k,v in children.items():\n",
    "    print(k,v)\n",
    "    "
   ]
  },
  {
   "cell_type": "code",
   "execution_count": 36,
   "id": "74e0f470",
   "metadata": {},
   "outputs": [
    {
     "name": "stdout",
     "output_type": "stream",
     "text": [
      "23\n",
      "Kuda 23\n"
     ]
    }
   ],
   "source": [
    "#Capturing the highest frequency in a dictionary:\n",
    "largest=-1\n",
    "child=None\n",
    "for k,v in children.items():\n",
    "    if v>largest:\n",
    "        largest=v\n",
    "        child=k\n",
    "print(largest)\n",
    "print(child,largest)"
   ]
  },
  {
   "cell_type": "code",
   "execution_count": null,
   "id": "77cc7351",
   "metadata": {},
   "outputs": [],
   "source": [
    "#Tuple Assignment"
   ]
  },
  {
   "cell_type": "code",
   "execution_count": 44,
   "id": "18e2f4c3",
   "metadata": {},
   "outputs": [
    {
     "name": "stdout",
     "output_type": "stream",
     "text": [
      "Kuda 18\n"
     ]
    }
   ],
   "source": [
    "(x,y)=(\"Kudzai\", 13)\n",
    "#print(y)\n",
    "#print(x,y)\n",
    "#print(x)\n",
    "(x,y)=(\"Kuda\", 18)\n",
    "print(x,y)"
   ]
  },
  {
   "cell_type": "code",
   "execution_count": 51,
   "id": "3bcacfa5",
   "metadata": {},
   "outputs": [
    {
     "name": "stdout",
     "output_type": "stream",
     "text": [
      "(22, 'c')\n"
     ]
    }
   ],
   "source": [
    "#Sorting list of tuples. Comparison is from left to right and the first items in a tuple are compared and if true then the comparison ends there.\n",
    "d={'a':10, 'b':1, 'c':22}\n",
    "t=sorted(d.items())\n",
    "for k,v in sorted(d.items()):\n",
    "    sorted_list=(v,k)\n",
    "print(sorted_list)"
   ]
  },
  {
   "cell_type": "code",
   "execution_count": 3,
   "id": "0ebcaa5c",
   "metadata": {},
   "outputs": [],
   "source": [
    "#Creating a web browser\n",
    "#import socket\n",
    "\n",
    "#mysock=socket.socket(socket.AF_INET,socket.SOCK_STREAM)\n",
    "#mysock.connect(('data.pre4e.org', 80))\n",
    "#cmd='GET http://data.pre4e.org/romeo.txt HTTP/1.0\\n\\n'.encode()\n",
    "#mysock.send(cmd)\n",
    "\n",
    "#while True:\n",
    "    #data=mysock.recv(512)\n",
    "    #if len(data)<1:\n",
    "        #break\n",
    "    #print(data.decode())\n",
    "    #mysock.close()\n",
    "    "
   ]
  },
  {
   "cell_type": "code",
   "execution_count": null,
   "id": "a443e45f",
   "metadata": {},
   "outputs": [],
   "source": []
  },
  {
   "cell_type": "code",
   "execution_count": 9,
   "id": "ae50f991",
   "metadata": {},
   "outputs": [
    {
     "name": "stdout",
     "output_type": "stream",
     "text": [
      "77\n",
      "105\n",
      "107\n",
      "101\n"
     ]
    }
   ],
   "source": [
    "#Reprersenting simple strings\n",
    "#print(ord('H'))\n",
    "#print(ord(\"M\"))\n",
    "zita=\"Mike\"\n",
    "for character in zita:\n",
    "    print(ord(character))"
   ]
  },
  {
   "cell_type": "code",
   "execution_count": null,
   "id": "13b74fc9",
   "metadata": {},
   "outputs": [],
   "source": []
  },
  {
   "cell_type": "code",
   "execution_count": null,
   "id": "95fb5ae3",
   "metadata": {},
   "outputs": [],
   "source": []
  },
  {
   "cell_type": "code",
   "execution_count": null,
   "id": "d44ce5c0",
   "metadata": {},
   "outputs": [],
   "source": []
  },
  {
   "cell_type": "code",
   "execution_count": null,
   "id": "d77a0593",
   "metadata": {},
   "outputs": [],
   "source": []
  },
  {
   "cell_type": "code",
   "execution_count": null,
   "id": "dbefeb68",
   "metadata": {},
   "outputs": [],
   "source": []
  },
  {
   "cell_type": "code",
   "execution_count": null,
   "id": "150e6979",
   "metadata": {},
   "outputs": [],
   "source": []
  },
  {
   "cell_type": "code",
   "execution_count": null,
   "id": "f6ba72e0",
   "metadata": {},
   "outputs": [],
   "source": []
  },
  {
   "cell_type": "code",
   "execution_count": null,
   "id": "ed2faf2a",
   "metadata": {},
   "outputs": [],
   "source": []
  },
  {
   "cell_type": "code",
   "execution_count": null,
   "id": "ac26c22f",
   "metadata": {},
   "outputs": [],
   "source": []
  },
  {
   "cell_type": "code",
   "execution_count": null,
   "id": "cf09e94a",
   "metadata": {},
   "outputs": [],
   "source": []
  },
  {
   "cell_type": "code",
   "execution_count": null,
   "id": "3c61eb17",
   "metadata": {},
   "outputs": [],
   "source": []
  },
  {
   "cell_type": "code",
   "execution_count": null,
   "id": "a820868e",
   "metadata": {},
   "outputs": [],
   "source": []
  },
  {
   "cell_type": "code",
   "execution_count": null,
   "id": "fb9af45f",
   "metadata": {},
   "outputs": [],
   "source": []
  },
  {
   "cell_type": "code",
   "execution_count": null,
   "id": "d6e360d2",
   "metadata": {},
   "outputs": [],
   "source": []
  },
  {
   "cell_type": "code",
   "execution_count": null,
   "id": "465b4763",
   "metadata": {},
   "outputs": [],
   "source": []
  },
  {
   "cell_type": "code",
   "execution_count": null,
   "id": "9eb1dfd2",
   "metadata": {},
   "outputs": [],
   "source": []
  },
  {
   "cell_type": "code",
   "execution_count": null,
   "id": "83be8886",
   "metadata": {},
   "outputs": [],
   "source": []
  },
  {
   "cell_type": "code",
   "execution_count": null,
   "id": "c8b35011",
   "metadata": {},
   "outputs": [],
   "source": []
  },
  {
   "cell_type": "code",
   "execution_count": null,
   "id": "ebec9694",
   "metadata": {},
   "outputs": [],
   "source": []
  },
  {
   "cell_type": "code",
   "execution_count": null,
   "id": "fb5eb5b0",
   "metadata": {},
   "outputs": [],
   "source": []
  },
  {
   "cell_type": "code",
   "execution_count": null,
   "id": "2b5942e0",
   "metadata": {},
   "outputs": [],
   "source": []
  },
  {
   "cell_type": "code",
   "execution_count": null,
   "id": "d68d6cce",
   "metadata": {},
   "outputs": [],
   "source": []
  },
  {
   "cell_type": "code",
   "execution_count": null,
   "id": "d17e7c84",
   "metadata": {},
   "outputs": [],
   "source": []
  },
  {
   "cell_type": "code",
   "execution_count": null,
   "id": "0733039d",
   "metadata": {},
   "outputs": [],
   "source": []
  },
  {
   "cell_type": "code",
   "execution_count": null,
   "id": "c7c7a034",
   "metadata": {},
   "outputs": [],
   "source": []
  },
  {
   "cell_type": "code",
   "execution_count": null,
   "id": "b167db91",
   "metadata": {},
   "outputs": [],
   "source": []
  },
  {
   "cell_type": "code",
   "execution_count": null,
   "id": "7c5c1e95",
   "metadata": {},
   "outputs": [],
   "source": []
  },
  {
   "cell_type": "code",
   "execution_count": null,
   "id": "0d1a20ba",
   "metadata": {},
   "outputs": [],
   "source": []
  },
  {
   "cell_type": "code",
   "execution_count": null,
   "id": "63a2e771",
   "metadata": {},
   "outputs": [],
   "source": []
  },
  {
   "cell_type": "code",
   "execution_count": null,
   "id": "447bca8a",
   "metadata": {},
   "outputs": [],
   "source": []
  },
  {
   "cell_type": "code",
   "execution_count": null,
   "id": "7f2ec367",
   "metadata": {},
   "outputs": [],
   "source": []
  },
  {
   "cell_type": "code",
   "execution_count": null,
   "id": "1ba825b1",
   "metadata": {},
   "outputs": [],
   "source": []
  },
  {
   "cell_type": "code",
   "execution_count": null,
   "id": "c0f917f8",
   "metadata": {},
   "outputs": [],
   "source": []
  },
  {
   "cell_type": "code",
   "execution_count": null,
   "id": "c833d4cb",
   "metadata": {},
   "outputs": [],
   "source": []
  },
  {
   "cell_type": "code",
   "execution_count": null,
   "id": "0155ffd3",
   "metadata": {},
   "outputs": [],
   "source": []
  },
  {
   "cell_type": "code",
   "execution_count": null,
   "id": "faaa6b4d",
   "metadata": {},
   "outputs": [],
   "source": []
  },
  {
   "cell_type": "code",
   "execution_count": null,
   "id": "ba010b84",
   "metadata": {},
   "outputs": [],
   "source": []
  },
  {
   "cell_type": "code",
   "execution_count": null,
   "id": "17fd577a",
   "metadata": {},
   "outputs": [],
   "source": []
  },
  {
   "cell_type": "code",
   "execution_count": null,
   "id": "3090ee49",
   "metadata": {},
   "outputs": [],
   "source": []
  }
 ],
 "metadata": {
  "kernelspec": {
   "display_name": "Python 3 (ipykernel)",
   "language": "python",
   "name": "python3"
  },
  "language_info": {
   "codemirror_mode": {
    "name": "ipython",
    "version": 3
   },
   "file_extension": ".py",
   "mimetype": "text/x-python",
   "name": "python",
   "nbconvert_exporter": "python",
   "pygments_lexer": "ipython3",
   "version": "3.9.7"
  }
 },
 "nbformat": 4,
 "nbformat_minor": 5
}
