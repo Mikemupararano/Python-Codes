{
 "cells": [
  {
   "cell_type": "code",
   "execution_count": null,
   "id": "9a7cc1d6",
   "metadata": {},
   "outputs": [],
   "source": [
    "#Classes & Objects in python"
   ]
  },
  {
   "cell_type": "code",
   "execution_count": null,
   "id": "70489567",
   "metadata": {},
   "outputs": [],
   "source": [
    "class Student ():\n",
    "    pass\n",
    "student1= Student()\n",
    "student1.name=\"Harry\"\n",
    "student1.marks=85\n",
    "print(student1.name)\n",
    "print(student1.marks)\n",
    "print(student1.name, student1.marks)"
   ]
  },
  {
   "cell_type": "code",
   "execution_count": null,
   "id": "14faec24",
   "metadata": {},
   "outputs": [],
   "source": [
    "#class Alumno:\n",
    "   # pass\n",
    "    #def __init__(self, name, major, gpa, is_on_probation):\n",
    "        #self.name=name\n",
    "        #self.major=major\n",
    "        #self.gpa=gpa\n",
    "        #self.is_on_probation=is_on_probation\n",
    "        "
   ]
  },
  {
   "cell_type": "code",
   "execution_count": null,
   "id": "e0da748f",
   "metadata": {},
   "outputs": [],
   "source": [
    "#from Alumno import Alumno\n",
    "#student1=Alumno(\"Mike\", \"Physics\", 4, True)\n",
    "#print(student1)"
   ]
  },
  {
   "cell_type": "code",
   "execution_count": 15,
   "id": "7fd99114",
   "metadata": {},
   "outputs": [
    {
     "name": "stdout",
     "output_type": "stream",
     "text": [
      "Mike Thomas £60000\n",
      "Mthomas@bethanyschool.org.uk\n",
      "Dzenhu Mudzimuwehari £35000\n",
      "Dmudzimuwehari@bethanyschool.org.uk\n"
     ]
    }
   ],
   "source": [
    "class Employee:\n",
    "    def __init__(self, name, surname, pay):\n",
    "        self.name=name\n",
    "        self.surname=surname\n",
    "        self.pay=pay\n",
    "        self.email=name[0] + surname.lower() + \"@bethanyschool.org.uk\"\n",
    "        \n",
    "    \n",
    "\n",
    "emp_1=Employee(\"Mike\", \"Thomas\", \"£60000\")\n",
    "emp_2=Employee(\"Dzenhu\", \"Mudzimuwehari\", \"£35000\")\n",
    "print(emp_1.name, emp_1.surname, emp_1.pay)\n",
    "print(emp_1.email)\n",
    "print(emp_2.name,emp_2.surname,emp_2.pay)\n",
    "print(emp_2.email)\n",
    "    "
   ]
  },
  {
   "cell_type": "code",
   "execution_count": null,
   "id": "2e21ff30",
   "metadata": {},
   "outputs": [],
   "source": [
    "#emp_1.name=\"Mike\"\n",
    "#emp_1.surname= \"Thomas\"\n",
    "#emp_1.email=\"mthomas@bethanyschool.org.uk\"\n",
    "#emp_1.ethinicity=\"Zimbabwean\"\n",
    "#print(emp_1.name,emp_1.surname)\n",
    "#print(emp_1.email)\n",
    "\n",
    "print(emp_1.ethinicity)"
   ]
  },
  {
   "cell_type": "code",
   "execution_count": null,
   "id": "cfc8b03c",
   "metadata": {},
   "outputs": [],
   "source": []
  },
  {
   "cell_type": "code",
   "execution_count": null,
   "id": "77e17af8",
   "metadata": {},
   "outputs": [],
   "source": []
  },
  {
   "cell_type": "code",
   "execution_count": null,
   "id": "bb0c1040",
   "metadata": {},
   "outputs": [],
   "source": []
  },
  {
   "cell_type": "code",
   "execution_count": null,
   "id": "699fe825",
   "metadata": {},
   "outputs": [],
   "source": []
  },
  {
   "cell_type": "code",
   "execution_count": null,
   "id": "79b17b72",
   "metadata": {},
   "outputs": [],
   "source": []
  },
  {
   "cell_type": "code",
   "execution_count": null,
   "id": "a8348c63",
   "metadata": {},
   "outputs": [],
   "source": []
  }
 ],
 "metadata": {
  "kernelspec": {
   "display_name": "Python 3 (ipykernel)",
   "language": "python",
   "name": "python3"
  },
  "language_info": {
   "codemirror_mode": {
    "name": "ipython",
    "version": 3
   },
   "file_extension": ".py",
   "mimetype": "text/x-python",
   "name": "python",
   "nbconvert_exporter": "python",
   "pygments_lexer": "ipython3",
   "version": "3.9.7"
  }
 },
 "nbformat": 4,
 "nbformat_minor": 5
}
