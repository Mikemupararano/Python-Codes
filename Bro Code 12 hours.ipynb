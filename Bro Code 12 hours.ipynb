{
 "cells": [
  {
   "cell_type": "code",
   "execution_count": null,
   "id": "7a1bfecc",
   "metadata": {},
   "outputs": [],
   "source": [
    "name1=name2=name3=name4=30\n",
    "print(name1,name2,name3,name4)"
   ]
  },
  {
   "cell_type": "code",
   "execution_count": null,
   "id": "78fa9e80",
   "metadata": {},
   "outputs": [],
   "source": [
    "name=\"mike\"\n",
    "print(len(name))\n"
   ]
  },
  {
   "cell_type": "code",
   "execution_count": null,
   "id": "efa98aa7",
   "metadata": {},
   "outputs": [],
   "source": [
    "print(name.find('k'))\n",
    "print(name.upper())"
   ]
  },
  {
   "cell_type": "code",
   "execution_count": null,
   "id": "d643b5de",
   "metadata": {},
   "outputs": [],
   "source": [
    "print(name.capitalize())"
   ]
  },
  {
   "cell_type": "code",
   "execution_count": null,
   "id": "ae2cad03",
   "metadata": {},
   "outputs": [],
   "source": [
    "print(name.isdigit())"
   ]
  },
  {
   "cell_type": "code",
   "execution_count": null,
   "id": "65374137",
   "metadata": {},
   "outputs": [],
   "source": [
    "print(name.isalpha())"
   ]
  },
  {
   "cell_type": "code",
   "execution_count": null,
   "id": "6262e022",
   "metadata": {},
   "outputs": [],
   "source": [
    "print(name.count(\"k\"))"
   ]
  },
  {
   "cell_type": "code",
   "execution_count": null,
   "id": "e15a51f4",
   "metadata": {},
   "outputs": [],
   "source": [
    "print(name.replace(\"m\", \"b\"))"
   ]
  },
  {
   "cell_type": "code",
   "execution_count": null,
   "id": "879a7c02",
   "metadata": {},
   "outputs": [],
   "source": [
    "y=\"3\"\n",
    "print(int(y))\n",
    "print(float(y))"
   ]
  },
  {
   "cell_type": "code",
   "execution_count": null,
   "id": "095f5ad6",
   "metadata": {},
   "outputs": [],
   "source": [
    "name=input(\"Enter your name: \")\n",
    "year_of_birth=input(\"What year were you born?: \")\n",
    "age= 2022-int(year_of_birth)\n",
    "print(name + \", \" + \"you are\" + \" \"+ str(age) + \" \" + \"years old.\")\n"
   ]
  },
  {
   "cell_type": "code",
   "execution_count": null,
   "id": "b4901f8b",
   "metadata": {},
   "outputs": [],
   "source": [
    "import math\n",
    "pi=3.14\n",
    "print(round(pi))\n",
    "print(math.ceil(pi))\n"
   ]
  },
  {
   "cell_type": "code",
   "execution_count": null,
   "id": "d7811116",
   "metadata": {},
   "outputs": [],
   "source": [
    "math.floor(pi)"
   ]
  },
  {
   "cell_type": "code",
   "execution_count": null,
   "id": "e2046064",
   "metadata": {},
   "outputs": [],
   "source": [
    "abs(pi)"
   ]
  },
  {
   "cell_type": "code",
   "execution_count": null,
   "id": "0e7e90d0",
   "metadata": {},
   "outputs": [],
   "source": [
    "pow(pi,2)"
   ]
  },
  {
   "cell_type": "code",
   "execution_count": null,
   "id": "fe4c5b83",
   "metadata": {},
   "outputs": [],
   "source": [
    "math.sqrt(4)"
   ]
  },
  {
   "cell_type": "code",
   "execution_count": null,
   "id": "e24de6d3",
   "metadata": {},
   "outputs": [],
   "source": [
    "x=1\n",
    "y=2\n",
    "z=3\n",
    "max(x,y,z)\n",
    "min(x,y,z)"
   ]
  },
  {
   "cell_type": "code",
   "execution_count": null,
   "id": "2870c735",
   "metadata": {},
   "outputs": [],
   "source": [
    "name= \"Mike Thomas\"\n",
    "#name=name[0:4]\n",
    "#print(name)\n",
    "print(name.split())"
   ]
  },
  {
   "cell_type": "code",
   "execution_count": null,
   "id": "bf180635",
   "metadata": {},
   "outputs": [],
   "source": [
    "print(name[0:4:2])"
   ]
  },
  {
   "cell_type": "code",
   "execution_count": null,
   "id": "568cc651",
   "metadata": {},
   "outputs": [],
   "source": [
    "age_1=float(input(\"Enter your age: \"))\n",
    "if age_1>=18:\n",
    "    print(\"You are an adult.\")\n",
    "elif age_1<=0: \n",
    "    print(\"Your not yet born.\")\n",
    "else:\n",
    "    print(\"You are still a child.\")\n",
    "    \n"
   ]
  },
  {
   "cell_type": "code",
   "execution_count": null,
   "id": "46cc1259",
   "metadata": {},
   "outputs": [],
   "source": [
    "name= input(\"Enter your name: \")\n",
    "count=0\n",
    "while name!=\"Mike\":\n",
    "    input(\"Enter your name: \")\n",
    "    count=count+1\n",
    "    while count==3:\n",
    "        quit()\n",
    "\n",
    "\n"
   ]
  },
  {
   "cell_type": "code",
   "execution_count": null,
   "id": "086e3bd9",
   "metadata": {},
   "outputs": [],
   "source": [
    "pow(2,3)"
   ]
  },
  {
   "cell_type": "code",
   "execution_count": null,
   "id": "71f39c8f",
   "metadata": {},
   "outputs": [],
   "source": [
    "name=\"Mhike\"\n",
    "while not name:\n",
    "    input(\"Enter your name: \")\n",
    "#print(name)"
   ]
  },
  {
   "cell_type": "code",
   "execution_count": null,
   "id": "622baffa",
   "metadata": {},
   "outputs": [],
   "source": [
    "\n",
    "for number in range(1,11):\n",
    "    print(number)"
   ]
  },
  {
   "cell_type": "code",
   "execution_count": null,
   "id": "647e118b",
   "metadata": {},
   "outputs": [],
   "source": [
    "for number in range(50,100,5):\n",
    "    print(number)"
   ]
  },
  {
   "cell_type": "code",
   "execution_count": null,
   "id": "253a1b72",
   "metadata": {},
   "outputs": [],
   "source": [
    "#Count down\n",
    "for number in range(10,0-1,-1):\n",
    "    print(number)\n",
    "    \n",
    "print(\"Happy New Year!\")\n",
    "    "
   ]
  },
  {
   "cell_type": "code",
   "execution_count": null,
   "id": "dc42a274",
   "metadata": {},
   "outputs": [],
   "source": [
    "#while True:\n",
    "    #name=input(\"Enter your name: \")\n",
    "    #if name!=\"\":\n",
    "        #break"
   ]
  },
  {
   "cell_type": "code",
   "execution_count": null,
   "id": "75cd7d97",
   "metadata": {},
   "outputs": [],
   "source": [
    "phone=\"00263-7788-267\"\n",
    "for i in phone:\n",
    "    if i==\"-\":\n",
    "        continue\n",
    "    print(i,end=\"\")\n"
   ]
  },
  {
   "cell_type": "code",
   "execution_count": null,
   "id": "d88208e6",
   "metadata": {},
   "outputs": [],
   "source": [
    "new_phone=phone.split(\"-\")\n",
    "print(new_phone)\n",
    "print(updated_phone)"
   ]
  },
  {
   "cell_type": "code",
   "execution_count": null,
   "id": "21aeebfc",
   "metadata": {},
   "outputs": [],
   "source": [
    "for i in new_phone:\n",
    "    if i==\"\":\n",
    "        pass\n",
    "    print(i, end=\"\")\n",
    "    \n"
   ]
  },
  {
   "cell_type": "code",
   "execution_count": null,
   "id": "dcd56994",
   "metadata": {},
   "outputs": [],
   "source": [
    "subject_option_1=[\"Biology\", \"Chemistry\", \"Physics\"]\n",
    "subject_option_2=[\"Maths\", \"Geography\", \"Business Studies\"]\n",
    "subject_option_3=[\"Art\", \"Music\", \"Drama\"]\n",
    "subjects=[subject_option_1, subject_option_2, subject_option_3]\n",
    "print(subjects[0][2])\n",
    "print(subjects)"
   ]
  },
  {
   "cell_type": "code",
   "execution_count": null,
   "id": "1acfa9a8",
   "metadata": {},
   "outputs": [],
   "source": [
    "set_1={2,3,4,6}\n",
    "print(set_1)\n",
    "set_1.remove(2)"
   ]
  },
  {
   "cell_type": "code",
   "execution_count": null,
   "id": "a6a6b0bf",
   "metadata": {},
   "outputs": [],
   "source": [
    "def first_middle_last(*args):\n",
    "    for number in args:\n",
    "        sum= number +2\n",
    "        print(number)\n",
    "    \n",
    "\n",
    "    "
   ]
  },
  {
   "cell_type": "code",
   "execution_count": null,
   "id": "da66762e",
   "metadata": {},
   "outputs": [],
   "source": [
    "first_middle_last(1,2,3)"
   ]
  },
  {
   "cell_type": "code",
   "execution_count": null,
   "id": "52aba169",
   "metadata": {},
   "outputs": [],
   "source": [
    "#Formating strings\n",
    "place_of_birth=\"Rushinga\"\n",
    "second_place=\"Mt Darwin\"\n",
    "words=\"Mike Thomas was born in \" \"{}. {} is close to Rushinga.\".format(place_of_birth, second_place)\n",
    "print(words)"
   ]
  },
  {
   "cell_type": "code",
   "execution_count": null,
   "id": "e9129833",
   "metadata": {},
   "outputs": [],
   "source": [
    "friends=[\"Mike\", \"Dzenhu\", \"Mugwagwa\"]\n",
    "for name in friends:\n",
    "    print(\"Happy New Year {}\".format(name))"
   ]
  },
  {
   "cell_type": "code",
   "execution_count": null,
   "id": "87b74e47",
   "metadata": {},
   "outputs": [],
   "source": [
    "#Formatting numbers to a desired number of decimal places\n",
    "number=3.14159\n",
    "number_2=1000\n",
    "print(\"The number pi is {:.1f}\".format(number))\n",
    "print(\"The number 1000 is {:b}\".format(number_2))\n",
    "print(\"The number 1000 is {:.3f}\".format(number_2))\n",
    "print(\"The number 1000 is {:o}\".format(number_2))\n",
    "print(\"The number 1000 is {:x}\".format(number_2))\n",
    "print(\"The number 1000 is {:e}\".format(number_2))\n"
   ]
  },
  {
   "cell_type": "code",
   "execution_count": null,
   "id": "0614583a",
   "metadata": {},
   "outputs": [],
   "source": [
    "#Random numbers\n",
    "import random\n",
    "x= random.randint(1,6)\n",
    "y=random.random()\n",
    "print(x)\n",
    "print(y)\n"
   ]
  },
  {
   "cell_type": "code",
   "execution_count": null,
   "id": "b6faf953",
   "metadata": {},
   "outputs": [],
   "source": [
    "#Rock paper scissors\n",
    "my_list=[\"rock\", \"paper\", \"scissors\"]\n",
    "q=random.choice(my_list)\n",
    "print(q)\n"
   ]
  },
  {
   "cell_type": "code",
   "execution_count": null,
   "id": "ad6d96a1",
   "metadata": {},
   "outputs": [],
   "source": [
    "cards=[1,2,3,4,5,6,7,8,9, \"J\", \"K\", \"Q\", \"A\"]\n",
    "random.shuffle(cards)\n",
    "print(cards)"
   ]
  },
  {
   "cell_type": "code",
   "execution_count": null,
   "id": "4e1dc38e",
   "metadata": {},
   "outputs": [],
   "source": [
    "#File detection\n",
    "import os\n",
    "path=\"C:\\\\Users\\\\1thomas\\\\OneDrive - Bethany School\\\\Desktop\"\n",
    "if os.path.exists(path):\n",
    "    print(\"That location exists.\")\n",
    "else:\n",
    "    print(\"That location doesn't exist.\")"
   ]
  },
  {
   "cell_type": "code",
   "execution_count": 3,
   "id": "d3844f4e",
   "metadata": {},
   "outputs": [],
   "source": [
    "#Open and read files using python\n",
    "#with open(\"http://localhost:8888/edit/MT%20siblings.docx\") as file:\n",
    "    #print(file.read())"
   ]
  },
  {
   "cell_type": "code",
   "execution_count": null,
   "id": "30609a48",
   "metadata": {},
   "outputs": [],
   "source": [
    "import shutil\n",
    "#Re-watch videeo (2hrs 56 mins section)"
   ]
  },
  {
   "cell_type": "code",
   "execution_count": null,
   "id": "8513980f",
   "metadata": {},
   "outputs": [],
   "source": []
  },
  {
   "cell_type": "code",
   "execution_count": null,
   "id": "3b8a1fde",
   "metadata": {},
   "outputs": [],
   "source": []
  },
  {
   "cell_type": "code",
   "execution_count": null,
   "id": "55e8c158",
   "metadata": {},
   "outputs": [],
   "source": []
  },
  {
   "cell_type": "code",
   "execution_count": null,
   "id": "2b0f3c51",
   "metadata": {},
   "outputs": [],
   "source": []
  },
  {
   "cell_type": "code",
   "execution_count": null,
   "id": "cc412c6a",
   "metadata": {},
   "outputs": [],
   "source": []
  },
  {
   "cell_type": "code",
   "execution_count": null,
   "id": "313507ed",
   "metadata": {},
   "outputs": [],
   "source": []
  },
  {
   "cell_type": "code",
   "execution_count": null,
   "id": "fb966f13",
   "metadata": {},
   "outputs": [],
   "source": []
  }
 ],
 "metadata": {
  "kernelspec": {
   "display_name": "Python 3 (ipykernel)",
   "language": "python",
   "name": "python3"
  },
  "language_info": {
   "codemirror_mode": {
    "name": "ipython",
    "version": 3
   },
   "file_extension": ".py",
   "mimetype": "text/x-python",
   "name": "python",
   "nbconvert_exporter": "python",
   "pygments_lexer": "ipython3",
   "version": "3.9.7"
  }
 },
 "nbformat": 4,
 "nbformat_minor": 5
}
