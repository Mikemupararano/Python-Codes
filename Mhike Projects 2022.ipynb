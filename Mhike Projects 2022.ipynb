{
 "cells": [
  {
   "cell_type": "code",
   "execution_count": 5,
   "id": "fffaa780",
   "metadata": {},
   "outputs": [
    {
     "name": "stdout",
     "output_type": "stream",
     "text": [
      "Python 3.9.7\n"
     ]
    }
   ],
   "source": [
    "!python --version"
   ]
  },
  {
   "cell_type": "code",
   "execution_count": 6,
   "id": "b086e832",
   "metadata": {},
   "outputs": [
    {
     "name": "stdout",
     "output_type": "stream",
     "text": [
      "Python 3.9.7\n"
     ]
    }
   ],
   "source": [
    "!python --version"
   ]
  },
  {
   "cell_type": "code",
   "execution_count": 7,
   "id": "f34f9560",
   "metadata": {},
   "outputs": [
    {
     "data": {
      "text/plain": [
       "16"
      ]
     },
     "execution_count": 7,
     "metadata": {},
     "output_type": "execute_result"
    }
   ],
   "source": [
    "7+9\n"
   ]
  },
  {
   "cell_type": "code",
   "execution_count": 8,
   "id": "06290a05",
   "metadata": {},
   "outputs": [
    {
     "data": {
      "text/plain": [
       "67"
      ]
     },
     "execution_count": 8,
     "metadata": {},
     "output_type": "execute_result"
    }
   ],
   "source": [
    "20+47"
   ]
  },
  {
   "cell_type": "code",
   "execution_count": 9,
   "id": "7a4c8041",
   "metadata": {},
   "outputs": [
    {
     "data": {
      "text/plain": [
       "12.6"
      ]
     },
     "execution_count": 9,
     "metadata": {},
     "output_type": "execute_result"
    }
   ],
   "source": [
    "2.5+10.1"
   ]
  },
  {
   "cell_type": "code",
   "execution_count": 10,
   "id": "785d417b",
   "metadata": {},
   "outputs": [
    {
     "data": {
      "text/plain": [
       "5.1"
      ]
     },
     "execution_count": 10,
     "metadata": {},
     "output_type": "execute_result"
    }
   ],
   "source": [
    "10.1-5.0"
   ]
  },
  {
   "cell_type": "code",
   "execution_count": 11,
   "id": "81452084",
   "metadata": {},
   "outputs": [
    {
     "data": {
      "text/plain": [
       "1.7352941176470589"
      ]
     },
     "execution_count": 11,
     "metadata": {},
     "output_type": "execute_result"
    }
   ],
   "source": [
    "23.6/13.6"
   ]
  },
  {
   "cell_type": "code",
   "execution_count": 12,
   "id": "963e0f91",
   "metadata": {},
   "outputs": [
    {
     "data": {
      "text/plain": [
       "55.0"
      ]
     },
     "execution_count": 12,
     "metadata": {},
     "output_type": "execute_result"
    }
   ],
   "source": [
    "10*5.5"
   ]
  },
  {
   "cell_type": "code",
   "execution_count": 13,
   "id": "3b7077c2",
   "metadata": {},
   "outputs": [
    {
     "data": {
      "text/plain": [
       "16"
      ]
     },
     "execution_count": 13,
     "metadata": {},
     "output_type": "execute_result"
    }
   ],
   "source": [
    "2**4"
   ]
  },
  {
   "cell_type": "code",
   "execution_count": 14,
   "id": "83014cda",
   "metadata": {},
   "outputs": [
    {
     "data": {
      "text/plain": [
       "16"
      ]
     },
     "execution_count": 14,
     "metadata": {},
     "output_type": "execute_result"
    }
   ],
   "source": [
    "4**2"
   ]
  },
  {
   "cell_type": "code",
   "execution_count": 15,
   "id": "56f59017",
   "metadata": {},
   "outputs": [
    {
     "data": {
      "text/plain": [
       "2.0"
      ]
     },
     "execution_count": 15,
     "metadata": {},
     "output_type": "execute_result"
    }
   ],
   "source": [
    "10/5"
   ]
  },
  {
   "cell_type": "code",
   "execution_count": 16,
   "id": "763b9817",
   "metadata": {},
   "outputs": [
    {
     "data": {
      "text/plain": [
       "2"
      ]
     },
     "execution_count": 16,
     "metadata": {},
     "output_type": "execute_result"
    }
   ],
   "source": [
    "10//5"
   ]
  },
  {
   "cell_type": "code",
   "execution_count": 17,
   "id": "2b05af2b",
   "metadata": {},
   "outputs": [
    {
     "data": {
      "text/plain": [
       "3"
      ]
     },
     "execution_count": 17,
     "metadata": {},
     "output_type": "execute_result"
    }
   ],
   "source": [
    "10//3"
   ]
  },
  {
   "cell_type": "code",
   "execution_count": 19,
   "id": "fdf93ee5",
   "metadata": {},
   "outputs": [
    {
     "data": {
      "text/plain": [
       "3.0"
      ]
     },
     "execution_count": 19,
     "metadata": {},
     "output_type": "execute_result"
    }
   ],
   "source": [
    "10.5//3"
   ]
  },
  {
   "cell_type": "code",
   "execution_count": 20,
   "id": "7e05525f",
   "metadata": {},
   "outputs": [
    {
     "data": {
      "text/plain": [
       "2"
      ]
     },
     "execution_count": 20,
     "metadata": {},
     "output_type": "execute_result"
    }
   ],
   "source": [
    "50%4"
   ]
  },
  {
   "cell_type": "code",
   "execution_count": 24,
   "id": "820e03a7",
   "metadata": {},
   "outputs": [
    {
     "data": {
      "text/plain": [
       "'Hello Mike Hello Mike Hello Mike '"
      ]
     },
     "execution_count": 24,
     "metadata": {},
     "output_type": "execute_result"
    }
   ],
   "source": [
    "\"Hello Mike \"* 3"
   ]
  },
  {
   "cell_type": "code",
   "execution_count": 25,
   "id": "d2f976ec",
   "metadata": {},
   "outputs": [
    {
     "data": {
      "text/plain": [
       "10"
      ]
     },
     "execution_count": 25,
     "metadata": {},
     "output_type": "execute_result"
    }
   ],
   "source": [
    "len(\"Hello Mike\")"
   ]
  },
  {
   "cell_type": "code",
   "execution_count": 26,
   "id": "f23e375a",
   "metadata": {},
   "outputs": [
    {
     "data": {
      "text/plain": [
       "5"
      ]
     },
     "execution_count": 26,
     "metadata": {},
     "output_type": "execute_result"
    }
   ],
   "source": [
    "abs(-5)"
   ]
  },
  {
   "cell_type": "code",
   "execution_count": 27,
   "id": "c8d16cd8",
   "metadata": {},
   "outputs": [
    {
     "data": {
      "text/plain": [
       "float"
      ]
     },
     "execution_count": 27,
     "metadata": {},
     "output_type": "execute_result"
    }
   ],
   "source": [
    "type(17.5)"
   ]
  },
  {
   "cell_type": "code",
   "execution_count": 28,
   "id": "0b404b90",
   "metadata": {},
   "outputs": [
    {
     "data": {
      "text/plain": [
       "str"
      ]
     },
     "execution_count": 28,
     "metadata": {},
     "output_type": "execute_result"
    }
   ],
   "source": [
    "type(\"baba\")"
   ]
  },
  {
   "cell_type": "code",
   "execution_count": 29,
   "id": "453c5391",
   "metadata": {},
   "outputs": [
    {
     "data": {
      "text/plain": [
       "-18"
      ]
     },
     "execution_count": 29,
     "metadata": {},
     "output_type": "execute_result"
    }
   ],
   "source": [
    "round(-17.5)"
   ]
  },
  {
   "cell_type": "code",
   "execution_count": 30,
   "id": "1ef76d18",
   "metadata": {},
   "outputs": [
    {
     "data": {
      "text/plain": [
       "-17"
      ]
     },
     "execution_count": 30,
     "metadata": {},
     "output_type": "execute_result"
    }
   ],
   "source": [
    "round(-17.4)"
   ]
  },
  {
   "cell_type": "code",
   "execution_count": 31,
   "id": "28690b58",
   "metadata": {},
   "outputs": [
    {
     "data": {
      "text/plain": [
       "11"
      ]
     },
     "execution_count": 31,
     "metadata": {},
     "output_type": "execute_result"
    }
   ],
   "source": [
    "max(2,5,1,6,11)"
   ]
  },
  {
   "cell_type": "code",
   "execution_count": 32,
   "id": "12103222",
   "metadata": {},
   "outputs": [
    {
     "data": {
      "text/plain": [
       "1"
      ]
     },
     "execution_count": 32,
     "metadata": {},
     "output_type": "execute_result"
    }
   ],
   "source": [
    "min(3,5,7,1)"
   ]
  },
  {
   "cell_type": "code",
   "execution_count": null,
   "id": "bbaef803",
   "metadata": {},
   "outputs": [],
   "source": [
    "#x = True"
   ]
  },
  {
   "cell_type": "code",
   "execution_count": null,
   "id": "74f2ebca",
   "metadata": {},
   "outputs": [],
   "source": [
    "#y = False"
   ]
  },
  {
   "cell_type": "code",
   "execution_count": 43,
   "id": "9817bc28",
   "metadata": {},
   "outputs": [],
   "source": [
    "#print(x)"
   ]
  },
  {
   "cell_type": "code",
   "execution_count": 48,
   "id": "9e40af73",
   "metadata": {},
   "outputs": [
    {
     "name": "stdout",
     "output_type": "stream",
     "text": [
      "Ndikiye was an excellent mbira player. \n",
      "However, he had many Rodesian dogs. \n",
      "He sold all of them.\n"
     ]
    }
   ],
   "source": [
    "print(\"Ndikiye was an excellent mbira player. \\nHowever, he had many Rodesian dogs. \\nHe sold all of them.\")"
   ]
  },
  {
   "cell_type": "code",
   "execution_count": 50,
   "id": "090dd6e9",
   "metadata": {},
   "outputs": [
    {
     "name": "stdout",
     "output_type": "stream",
     "text": [
      "Ndikiye was a good mbira player.\n",
      "He played matepe mbiras.\n",
      "His mbira instrument is still being used.\n"
     ]
    }
   ],
   "source": [
    "print(\"\"\"Ndikiye was a good mbira player.\n",
    "He played matepe mbiras.\n",
    "His mbira instrument is still being used.\"\"\")"
   ]
  },
  {
   "cell_type": "code",
   "execution_count": 53,
   "id": "c29ca4e4",
   "metadata": {},
   "outputs": [
    {
     "data": {
      "text/plain": [
       "2"
      ]
     },
     "execution_count": 53,
     "metadata": {},
     "output_type": "execute_result"
    }
   ],
   "source": [
    "13//5"
   ]
  },
  {
   "cell_type": "code",
   "execution_count": 55,
   "id": "f002dbaa",
   "metadata": {},
   "outputs": [],
   "source": [
    "#num_x==2"
   ]
  },
  {
   "cell_type": "code",
   "execution_count": null,
   "id": "4faa20ce",
   "metadata": {},
   "outputs": [],
   "source": [
    "num_1=10"
   ]
  },
  {
   "cell_type": "code",
   "execution_count": null,
   "id": "59bcc6fb",
   "metadata": {},
   "outputs": [],
   "source": [
    "num_2=20"
   ]
  },
  {
   "cell_type": "code",
   "execution_count": null,
   "id": "1d531eb7",
   "metadata": {},
   "outputs": [],
   "source": [
    "num_3=num_1"
   ]
  },
  {
   "cell_type": "code",
   "execution_count": null,
   "id": "0b101863",
   "metadata": {},
   "outputs": [],
   "source": [
    "num_1=100"
   ]
  },
  {
   "cell_type": "code",
   "execution_count": 1,
   "id": "18d7d025",
   "metadata": {},
   "outputs": [],
   "source": [
    "#print(num_3)"
   ]
  },
  {
   "cell_type": "code",
   "execution_count": 2,
   "id": "0bf40eb7",
   "metadata": {},
   "outputs": [],
   "source": [
    "student_marks=[20, 50,35, 80, 25, 67]"
   ]
  },
  {
   "cell_type": "code",
   "execution_count": 3,
   "id": "f1b19587",
   "metadata": {},
   "outputs": [
    {
     "name": "stdout",
     "output_type": "stream",
     "text": [
      "[20, 50, 35, 80, 25, 67]\n"
     ]
    }
   ],
   "source": [
    "print(student_marks)"
   ]
  },
  {
   "cell_type": "code",
   "execution_count": 4,
   "id": "2400f56d",
   "metadata": {},
   "outputs": [
    {
     "name": "stdout",
     "output_type": "stream",
     "text": [
      "20\n"
     ]
    }
   ],
   "source": [
    "print(student_marks[0])"
   ]
  },
  {
   "cell_type": "code",
   "execution_count": 5,
   "id": "67929207",
   "metadata": {},
   "outputs": [
    {
     "name": "stdout",
     "output_type": "stream",
     "text": [
      "67\n"
     ]
    }
   ],
   "source": [
    "print(student_marks[-1])"
   ]
  },
  {
   "cell_type": "code",
   "execution_count": 24,
   "id": "506cc9df",
   "metadata": {},
   "outputs": [
    {
     "name": "stdout",
     "output_type": "stream",
     "text": [
      "[20, 50, 35, 80, 25, 67, 88, 88]\n"
     ]
    }
   ],
   "source": [
    "print(student_marks)"
   ]
  },
  {
   "cell_type": "code",
   "execution_count": 28,
   "id": "c4ad5b31",
   "metadata": {},
   "outputs": [],
   "source": [
    "student_marks.remove(88)"
   ]
  },
  {
   "cell_type": "code",
   "execution_count": 29,
   "id": "c8fdf0a8",
   "metadata": {},
   "outputs": [
    {
     "name": "stdout",
     "output_type": "stream",
     "text": [
      "[20, 50, 35, 80, 25, 67]\n"
     ]
    }
   ],
   "source": [
    "print(student_marks)"
   ]
  },
  {
   "cell_type": "code",
   "execution_count": 34,
   "id": "13ff3106",
   "metadata": {},
   "outputs": [],
   "source": [
    "student_marks[3]=62"
   ]
  },
  {
   "cell_type": "code",
   "execution_count": 35,
   "id": "f64bfe6b",
   "metadata": {},
   "outputs": [
    {
     "name": "stdout",
     "output_type": "stream",
     "text": [
      "[20, 62, 35, 62, 25, 67]\n"
     ]
    }
   ],
   "source": [
    "print(student_marks)"
   ]
  },
  {
   "cell_type": "code",
   "execution_count": 36,
   "id": "a8e5ffa1",
   "metadata": {},
   "outputs": [],
   "source": [
    "student_marks.append(100)"
   ]
  },
  {
   "cell_type": "code",
   "execution_count": 37,
   "id": "d0afca27",
   "metadata": {},
   "outputs": [
    {
     "name": "stdout",
     "output_type": "stream",
     "text": [
      "[20, 62, 35, 62, 25, 67, 100]\n"
     ]
    }
   ],
   "source": [
    "print(student_marks)"
   ]
  },
  {
   "cell_type": "code",
   "execution_count": 38,
   "id": "944c1eb1",
   "metadata": {},
   "outputs": [],
   "source": [
    "student_marks.insert(4,77)"
   ]
  },
  {
   "cell_type": "code",
   "execution_count": 39,
   "id": "d616aa3b",
   "metadata": {},
   "outputs": [
    {
     "name": "stdout",
     "output_type": "stream",
     "text": [
      "[20, 62, 35, 62, 77, 25, 67, 100]\n"
     ]
    }
   ],
   "source": [
    "print(student_marks)"
   ]
  },
  {
   "cell_type": "code",
   "execution_count": 41,
   "id": "a34a1138",
   "metadata": {},
   "outputs": [
    {
     "data": {
      "text/plain": [
       "False"
      ]
     },
     "execution_count": 41,
     "metadata": {},
     "output_type": "execute_result"
    }
   ],
   "source": [
    "any([0])"
   ]
  },
  {
   "cell_type": "code",
   "execution_count": 42,
   "id": "2351369a",
   "metadata": {},
   "outputs": [
    {
     "data": {
      "text/plain": [
       "True"
      ]
     },
     "execution_count": 42,
     "metadata": {},
     "output_type": "execute_result"
    }
   ],
   "source": [
    "all([1])"
   ]
  },
  {
   "cell_type": "code",
   "execution_count": 56,
   "id": "7f91ae98",
   "metadata": {},
   "outputs": [],
   "source": [
    "new_list=student_marks[5:0:-1]\n"
   ]
  },
  {
   "cell_type": "code",
   "execution_count": 57,
   "id": "98781aa3",
   "metadata": {},
   "outputs": [
    {
     "name": "stdout",
     "output_type": "stream",
     "text": [
      "[25, 77, 62, 35, 62]\n"
     ]
    }
   ],
   "source": [
    "print(new_list)"
   ]
  },
  {
   "cell_type": "code",
   "execution_count": 62,
   "id": "5bdd32d5",
   "metadata": {},
   "outputs": [
    {
     "name": "stdout",
     "output_type": "stream",
     "text": [
      "world\n"
     ]
    }
   ],
   "source": [
    "v=\"world\"\n",
    "print(v)"
   ]
  },
  {
   "cell_type": "code",
   "execution_count": 63,
   "id": "05e71bcd",
   "metadata": {},
   "outputs": [
    {
     "name": "stdout",
     "output_type": "stream",
     "text": [
      "world\n"
     ]
    }
   ],
   "source": [
    "a,b,c,d,e=v\n",
    "print(v)\n"
   ]
  },
  {
   "cell_type": "code",
   "execution_count": 66,
   "id": "3bbf4f9b",
   "metadata": {},
   "outputs": [
    {
     "name": "stdout",
     "output_type": "stream",
     "text": [
      "o\n"
     ]
    }
   ],
   "source": [
    "print(b)"
   ]
  },
  {
   "cell_type": "code",
   "execution_count": 70,
   "id": "e04591b8",
   "metadata": {},
   "outputs": [
    {
     "name": "stdout",
     "output_type": "stream",
     "text": [
      "world\n"
     ]
    }
   ],
   "source": [
    "a,b,_,_,_=v\n",
    "print(v)"
   ]
  },
  {
   "cell_type": "code",
   "execution_count": 93,
   "id": "5223fb2b",
   "metadata": {},
   "outputs": [
    {
     "name": "stdout",
     "output_type": "stream",
     "text": [
      "('Cosmas', 'Gracy', 'Johnias', 'Albert', 'Bonus', 'Stebha', 'Madhara', 'Alfred', 'Francisca')\n",
      "<zip object at 0x000001E156FDDC40>\n"
     ]
    }
   ],
   "source": [
    "my_siblings=(\"Cosmas\", \"Gracy\", \"Johnias\", \"Albert\", \"Bonus\", \"Stebha\", \"Madhara\", \"Alfred\", \"Francisca\")\n",
    "print(my_siblings)\n",
    "my_siblings_ages=(75, 72, 70, 67, 64, 61, 59, 52, 49)\n",
    "zipped=zip(my_siblings, my_siblings_ages)\n",
    "print(zipped)"
   ]
  },
  {
   "cell_type": "code",
   "execution_count": 94,
   "id": "6ec8b626",
   "metadata": {},
   "outputs": [
    {
     "name": "stdout",
     "output_type": "stream",
     "text": [
      "(('Cosmas', 75), ('Gracy', 72), ('Johnias', 70), ('Albert', 67), ('Bonus', 64), ('Stebha', 61), ('Madhara', 59), ('Alfred', 52), ('Francisca', 49))\n"
     ]
    }
   ],
   "source": [
    "result=tuple(zipped)\n",
    "print(result)"
   ]
  },
  {
   "cell_type": "code",
   "execution_count": 96,
   "id": "1080481b",
   "metadata": {},
   "outputs": [
    {
     "data": {
      "text/plain": [
       "-1"
      ]
     },
     "execution_count": 96,
     "metadata": {},
     "output_type": "execute_result"
    }
   ],
   "source": [
    "city= \"Harare\"\n",
    "city.find(\"x\")"
   ]
  },
  {
   "cell_type": "code",
   "execution_count": null,
   "id": "55e4baaa",
   "metadata": {},
   "outputs": [],
   "source": []
  },
  {
   "cell_type": "code",
   "execution_count": null,
   "id": "62d215d5",
   "metadata": {},
   "outputs": [],
   "source": []
  },
  {
   "cell_type": "code",
   "execution_count": null,
   "id": "74d4f01a",
   "metadata": {},
   "outputs": [],
   "source": []
  },
  {
   "cell_type": "code",
   "execution_count": null,
   "id": "24c895ed",
   "metadata": {},
   "outputs": [],
   "source": []
  }
 ],
 "metadata": {
  "kernelspec": {
   "display_name": "Python 3 (ipykernel)",
   "language": "python",
   "name": "python3"
  },
  "language_info": {
   "codemirror_mode": {
    "name": "ipython",
    "version": 3
   },
   "file_extension": ".py",
   "mimetype": "text/x-python",
   "name": "python",
   "nbconvert_exporter": "python",
   "pygments_lexer": "ipython3",
   "version": "3.9.7"
  }
 },
 "nbformat": 4,
 "nbformat_minor": 5
}
