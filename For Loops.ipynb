{
 "cells": [
  {
   "cell_type": "code",
   "execution_count": null,
   "id": "fce001f3",
   "metadata": {},
   "outputs": [],
   "source": [
    "for letter in ['H', 'e', 'l', 'l', 'o']:\n",
    "    print(letter)"
   ]
  },
  {
   "cell_type": "code",
   "execution_count": null,
   "id": "7a17624f",
   "metadata": {},
   "outputs": [],
   "source": [
    "for letter in \"Hello\":\n",
    "    print(letter)"
   ]
  },
  {
   "cell_type": "code",
   "execution_count": null,
   "id": "8a08f605",
   "metadata": {},
   "outputs": [],
   "source": [
    "my_string=\"Hello World\"\n",
    "for char in my_string:\n",
    "    print(char)"
   ]
  },
  {
   "cell_type": "code",
   "execution_count": null,
   "id": "116271da",
   "metadata": {},
   "outputs": [],
   "source": [
    "dogs= \"Bruce\", \"Fox\", \"Spider\", \"Spencer\"\n",
    "for dog in dogs:\n",
    "    print(\"It's\", dog + '.')"
   ]
  },
  {
   "cell_type": "code",
   "execution_count": null,
   "id": "ceaccc1e",
   "metadata": {},
   "outputs": [],
   "source": [
    "student_scores= {\"John\": 90, \"Peter\": 45, \"Charles\": 67, \"Grace\": 77}\n",
    "print(student_scores)\n",
    "for student in student_scores:\n",
    "    print(student)"
   ]
  },
  {
   "cell_type": "code",
   "execution_count": null,
   "id": "1f0a09c8",
   "metadata": {},
   "outputs": [],
   "source": [
    "student_scores.keys()"
   ]
  },
  {
   "cell_type": "code",
   "execution_count": null,
   "id": "2e8f4c55",
   "metadata": {},
   "outputs": [],
   "source": [
    "dic_keys= student_scores_.keys()\n",
    "for student in student_scores.keys():\n",
    "    print(student)"
   ]
  },
  {
   "cell_type": "code",
   "execution_count": null,
   "id": "c4f8cb27",
   "metadata": {},
   "outputs": [],
   "source": [
    "student_scores.values()"
   ]
  },
  {
   "cell_type": "code",
   "execution_count": null,
   "id": "2bc6b87e",
   "metadata": {},
   "outputs": [],
   "source": [
    "student_scores= {\"John\": 90, \"Peter\": 45, \"Charles\": 67, \"Grace\": 77}\n",
    "dic_keys= student_scores_.keys()\n",
    "dic_values=student_scores.values()\n",
    "for student in student_scores.keys(), student_scores.values():\n",
    "    print(dic_keys, dic_values)"
   ]
  },
  {
   "cell_type": "code",
   "execution_count": null,
   "id": "acd2eb3c",
   "metadata": {},
   "outputs": [],
   "source": [
    "for key_value in student_scores.items():\n",
    "    print(key_value)\n",
    "    "
   ]
  },
  {
   "cell_type": "code",
   "execution_count": null,
   "id": "251a727e",
   "metadata": {},
   "outputs": [],
   "source": [
    "course=\"Phython\"\n",
    "for letter in course:\n",
    "    print(letter, end=\"\")\n",
    "    if letter==\"o\":\n",
    "        break\n",
    "    print(letter)\n",
    "    \n",
    "    "
   ]
  },
  {
   "cell_type": "code",
   "execution_count": null,
   "id": "cb0917d8",
   "metadata": {},
   "outputs": [],
   "source": [
    "for number in range (5):\n",
    "    if number==4:\n",
    "        break\n",
    "    else:\n",
    "        print(\"The number\", number , \"has been found.\")"
   ]
  },
  {
   "cell_type": "code",
   "execution_count": null,
   "id": "e12432a7",
   "metadata": {},
   "outputs": [],
   "source": [
    "for number in range(1,10):\n",
    "    if number==5:\n",
    "        continue\n",
    "        \n",
    "    elif number/2==0:\n",
    "        print(\"The number %s is divisible by 2\" %number)\n",
    "    print(number)\n"
   ]
  },
  {
   "cell_type": "code",
   "execution_count": null,
   "id": "c746d3c0",
   "metadata": {},
   "outputs": [],
   "source": [
    "for number in range(1,8):\n",
    "    #print(number)\n",
    "    if number%2==0:\n",
    "        print(\"The number %s is an even number\" %number)"
   ]
  },
  {
   "cell_type": "code",
   "execution_count": null,
   "id": "a48650e3",
   "metadata": {},
   "outputs": [],
   "source": [
    "animals=[\"leopard\", \"hyena\", \"lion\", \"cat\", \"dog\"]\n",
    "for pet in animals:\n",
    "    if pet==\"lion\":\n",
    "        continue\n",
    "    if pet==\"hyena\":\n",
    "        continue\n",
    "    if pet ==\"cat\":\n",
    "        break\n",
    "    print(pet)\n",
    "      \n",
    "        #if pet==\"lion\":\n",
    "            #continue\n",
    "        #if pet ==\"hyena\":\n",
    "            #break\n",
    "        #print(pet)"
   ]
  },
  {
   "cell_type": "code",
   "execution_count": null,
   "id": "cf442271",
   "metadata": {},
   "outputs": [],
   "source": [
    "num=range(10)\n",
    "y=[x*x for x in num]\n",
    "print(y)\n"
   ]
  },
  {
   "cell_type": "code",
   "execution_count": null,
   "id": "e2ef0fe3",
   "metadata": {},
   "outputs": [],
   "source": [
    "\n",
    "string=[letter for letter in \"Mupararano\"]\n",
    "print(string)"
   ]
  },
  {
   "cell_type": "code",
   "execution_count": null,
   "id": "98263a0e",
   "metadata": {},
   "outputs": [],
   "source": [
    "list_of_words=[\"richard\", \"of\", \"york\", \"gave\", \"battle\", \"in\", \"vain\"]\n",
    "mnemonic=[word[0] for word in list_of_words]\n",
    "print(mnemonic)\n",
    "learn=[word[0].upper() for word in list_of_words]\n",
    "print(learn)"
   ]
  },
  {
   "cell_type": "code",
   "execution_count": null,
   "id": "b9f273f2",
   "metadata": {},
   "outputs": [],
   "source": [
    "number= range(20)\n",
    "list_1=[x*x for x in number]\n",
    "[number for number in list_1 if number % 2==0]\n",
    "    #if number % 2==0:\n",
    "        #print(number)"
   ]
  },
  {
   "cell_type": "code",
   "execution_count": null,
   "id": "c34aaf4a",
   "metadata": {},
   "outputs": [],
   "source": [
    "multiples_of_27=[number for number in range(1,300) if number % 27==0]\n",
    "print(multiples_of_27)"
   ]
  },
  {
   "cell_type": "code",
   "execution_count": null,
   "id": "aa93cfc4",
   "metadata": {},
   "outputs": [],
   "source": [
    "num=20\n",
    "while num<25:\n",
    "    print(num)\n",
    "    num +=1"
   ]
  },
  {
   "cell_type": "code",
   "execution_count": 2,
   "id": "e08b9109",
   "metadata": {},
   "outputs": [],
   "source": [
    "#password=\"\"\n",
    "#while password !=\"Chibage@\":\n",
    "    #print(input(\"Enter your password: \"))\n",
    "#print(\"Well done\")\n",
    "    \n",
    "    "
   ]
  },
  {
   "cell_type": "code",
   "execution_count": 3,
   "id": "fa93fd0f",
   "metadata": {},
   "outputs": [
    {
     "name": "stdout",
     "output_type": "stream",
     "text": [
      "1\n",
      "2\n",
      "3\n",
      "4\n",
      "5\n",
      "6\n",
      "7\n",
      "8\n"
     ]
    }
   ],
   "source": [
    "x,y=0,8\n",
    "while (x<y): x=x+1; print(x)\n"
   ]
  },
  {
   "cell_type": "code",
   "execution_count": 11,
   "id": "6ac87d70",
   "metadata": {},
   "outputs": [
    {
     "name": "stdout",
     "output_type": "stream",
     "text": [
      "20\n",
      "30\n",
      "40\n",
      "50\n",
      "60\n",
      "[20, 30, 40, 50, 60]\n"
     ]
    }
   ],
   "source": [
    "count=0\n",
    "num_list=[20,30,40,50,60]\n",
    "while count<len(num_list):\n",
    "    print(num_list[count])\n",
    "    count=count+1\n",
    "print(num_list)\n",
    "    "
   ]
  },
  {
   "cell_type": "code",
   "execution_count": null,
   "id": "2b350ad0",
   "metadata": {},
   "outputs": [],
   "source": []
  },
  {
   "cell_type": "code",
   "execution_count": null,
   "id": "e5ed8a01",
   "metadata": {},
   "outputs": [],
   "source": []
  },
  {
   "cell_type": "code",
   "execution_count": null,
   "id": "042d7c51",
   "metadata": {},
   "outputs": [],
   "source": []
  },
  {
   "cell_type": "code",
   "execution_count": null,
   "id": "e12c7341",
   "metadata": {},
   "outputs": [],
   "source": []
  },
  {
   "cell_type": "code",
   "execution_count": null,
   "id": "7bed14fb",
   "metadata": {},
   "outputs": [],
   "source": []
  },
  {
   "cell_type": "code",
   "execution_count": null,
   "id": "45b547b4",
   "metadata": {},
   "outputs": [],
   "source": []
  },
  {
   "cell_type": "code",
   "execution_count": null,
   "id": "676b53da",
   "metadata": {},
   "outputs": [],
   "source": []
  },
  {
   "cell_type": "code",
   "execution_count": null,
   "id": "fa1c5ffd",
   "metadata": {},
   "outputs": [],
   "source": []
  },
  {
   "cell_type": "code",
   "execution_count": null,
   "id": "a9342738",
   "metadata": {},
   "outputs": [],
   "source": []
  }
 ],
 "metadata": {
  "kernelspec": {
   "display_name": "Python 3 (ipykernel)",
   "language": "python",
   "name": "python3"
  },
  "language_info": {
   "codemirror_mode": {
    "name": "ipython",
    "version": 3
   },
   "file_extension": ".py",
   "mimetype": "text/x-python",
   "name": "python",
   "nbconvert_exporter": "python",
   "pygments_lexer": "ipython3",
   "version": "3.9.7"
  }
 },
 "nbformat": 4,
 "nbformat_minor": 5
}
