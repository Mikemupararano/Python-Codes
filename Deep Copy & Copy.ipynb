{
 "cells": [
  {
   "cell_type": "code",
   "execution_count": 2,
   "id": "e4090474",
   "metadata": {},
   "outputs": [
    {
     "name": "stdout",
     "output_type": "stream",
     "text": [
      "[1, 2, 3, 4]\n",
      "[1, 2, 3, 4]\n"
     ]
    }
   ],
   "source": [
    "list1=[1,2,3,4]\n",
    "list2=list1\n",
    "print(list1)\n",
    "print(list2)"
   ]
  },
  {
   "cell_type": "code",
   "execution_count": 4,
   "id": "633d08f4",
   "metadata": {},
   "outputs": [
    {
     "data": {
      "text/plain": [
       "([1, 2, 3, 4], [1, 2, 3, 4])"
      ]
     },
     "execution_count": 4,
     "metadata": {},
     "output_type": "execute_result"
    }
   ],
   "source": [
    "list1,list2"
   ]
  },
  {
   "cell_type": "code",
   "execution_count": 5,
   "id": "aac2e893",
   "metadata": {},
   "outputs": [],
   "source": [
    "list1[1]=100"
   ]
  },
  {
   "cell_type": "code",
   "execution_count": 7,
   "id": "7282d1bb",
   "metadata": {},
   "outputs": [
    {
     "data": {
      "text/plain": [
       "([1, 100, 3, 4], [1, 100, 3, 4])"
      ]
     },
     "execution_count": 7,
     "metadata": {},
     "output_type": "execute_result"
    }
   ],
   "source": [
    "list1,list2"
   ]
  },
  {
   "cell_type": "code",
   "execution_count": null,
   "id": "3233b970",
   "metadata": {},
   "outputs": [],
   "source": [
    "#copy\n"
   ]
  },
  {
   "cell_type": "code",
   "execution_count": 9,
   "id": "992c3480",
   "metadata": {},
   "outputs": [
    {
     "name": "stdout",
     "output_type": "stream",
     "text": [
      "[1, 2, 3, 4]\n",
      "[1, 1000, 3, 4]\n"
     ]
    }
   ],
   "source": [
    "list1=[1,2,3,4]\n",
    "list2=list1.copy()\n",
    "list2[1]=1000\n",
    "print(list1)\n",
    "print(list2)"
   ]
  },
  {
   "cell_type": "code",
   "execution_count": 21,
   "id": "c415fd94",
   "metadata": {},
   "outputs": [
    {
     "name": "stdout",
     "output_type": "stream",
     "text": [
      "[[1, 2, 3], 4, [100, 6, 7, 8]]\n",
      "[[1, 2, 3], 4, [100, 6, 7, 8]]\n"
     ]
    }
   ],
   "source": [
    "list1=[[1,2,3], 4, [5,6,7,8]]\n",
    "list2=list1.copy()\n",
    "list2[2][0]=100\n",
    "list2[2][0]\n",
    "print(list1)\n",
    "print(list2)\n"
   ]
  },
  {
   "cell_type": "code",
   "execution_count": 25,
   "id": "f429d9c3",
   "metadata": {},
   "outputs": [
    {
     "name": "stdout",
     "output_type": "stream",
     "text": [
      "[1, 2, 3, 4]\n",
      "[1, 50, 3, 4]\n"
     ]
    }
   ],
   "source": [
    "import copy\n",
    "list1=[1,2,3,4]\n",
    "list2=copy.deepcopy(list1)\n",
    "list2[1]=50\n",
    "print(list1)\n",
    "print(list2)"
   ]
  },
  {
   "cell_type": "code",
   "execution_count": 29,
   "id": "08fd4e75",
   "metadata": {},
   "outputs": [
    {
     "name": "stdout",
     "output_type": "stream",
     "text": [
      "Hello\n"
     ]
    }
   ],
   "source": [
    "old_str=\"Hello\"\n",
    "new_str=old_str\n",
    "new_str=\"World\"\n",
    "print(old_str)"
   ]
  },
  {
   "cell_type": "code",
   "execution_count": 32,
   "id": "3f717dde",
   "metadata": {},
   "outputs": [
    {
     "name": "stdout",
     "output_type": "stream",
     "text": [
      "['John', 'Amy', 'Jules', 'Emily']\n",
      "['John', 'Amy', 'Jules', 'Emily']\n"
     ]
    }
   ],
   "source": [
    "old_list=[\"John\", \"Amy\", \"Jules\"]\n",
    "new_list=old_list\n",
    "new_list.append(\"Emily\")\n",
    "print(old_list)\n",
    "print(new_list)"
   ]
  },
  {
   "cell_type": "code",
   "execution_count": 33,
   "id": "611eb0b3",
   "metadata": {},
   "outputs": [
    {
     "name": "stdout",
     "output_type": "stream",
     "text": [
      "['John', 'Amy', 'Jules']\n"
     ]
    }
   ],
   "source": [
    "old_list=[\"John\", \"Amy\", \"Jules\"]\n",
    "new_list=old_list.copy()\n",
    "new_list.append(\"Emily\")\n",
    "print (old_list)\n"
   ]
  },
  {
   "cell_type": "code",
   "execution_count": 36,
   "id": "9179928d",
   "metadata": {},
   "outputs": [
    {
     "name": "stdout",
     "output_type": "stream",
     "text": [
      "{'Jim': 22, 'Jill': 44}\n",
      "{'Jim': 22, 'Jill': 44}\n"
     ]
    }
   ],
   "source": [
    "dict_a={\"John\":35, \"Jim\": 22, \"Jill\": 44}\n",
    "dict_copy=dict_a\n",
    "dict_copy['John']=40\n",
    "del dict_copy['John']\n",
    "print(dict_a)\n",
    "print(dict_copy)"
   ]
  },
  {
   "cell_type": "code",
   "execution_count": 38,
   "id": "1d6425c4",
   "metadata": {},
   "outputs": [
    {
     "name": "stdout",
     "output_type": "stream",
     "text": [
      "{'John': 35, 'Jim': 22, 'Jill': 44}\n",
      "{'John': 40, 'Jim': 22, 'Jill': 44}\n"
     ]
    }
   ],
   "source": [
    "dict_a={\"John\":35, \"Jim\": 22, \"Jill\": 44}\n",
    "dict_copy=dict_a.copy()\n",
    "dict_copy['John']=40\n",
    "print(dict_a)\n",
    "print(dict_copy)"
   ]
  },
  {
   "cell_type": "code",
   "execution_count": null,
   "id": "1ec0f4ef",
   "metadata": {},
   "outputs": [],
   "source": []
  },
  {
   "cell_type": "code",
   "execution_count": null,
   "id": "140d01ca",
   "metadata": {},
   "outputs": [],
   "source": []
  },
  {
   "cell_type": "code",
   "execution_count": null,
   "id": "de7f8981",
   "metadata": {},
   "outputs": [],
   "source": []
  }
 ],
 "metadata": {
  "kernelspec": {
   "display_name": "Python 3 (ipykernel)",
   "language": "python",
   "name": "python3"
  },
  "language_info": {
   "codemirror_mode": {
    "name": "ipython",
    "version": 3
   },
   "file_extension": ".py",
   "mimetype": "text/x-python",
   "name": "python",
   "nbconvert_exporter": "python",
   "pygments_lexer": "ipython3",
   "version": "3.9.7"
  }
 },
 "nbformat": 4,
 "nbformat_minor": 5
}
