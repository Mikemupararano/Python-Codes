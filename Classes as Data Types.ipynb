{
 "cells": [
  {
   "cell_type": "code",
   "execution_count": 33,
   "id": "216c3be9",
   "metadata": {},
   "outputs": [],
   "source": [
    "class Student:\n",
    "    pass\n",
    "    "
   ]
  },
  {
   "cell_type": "code",
   "execution_count": 5,
   "id": "8bdeb909",
   "metadata": {},
   "outputs": [
    {
     "data": {
      "text/plain": [
       "type"
      ]
     },
     "execution_count": 5,
     "metadata": {},
     "output_type": "execute_result"
    }
   ],
   "source": [
    "type(Student)"
   ]
  },
  {
   "cell_type": "code",
   "execution_count": 12,
   "id": "1377eaa4",
   "metadata": {},
   "outputs": [],
   "source": [
    "object_1=Student()\n",
    "object_2=Student()"
   ]
  },
  {
   "cell_type": "code",
   "execution_count": 19,
   "id": "8be2e609",
   "metadata": {},
   "outputs": [
    {
     "name": "stdout",
     "output_type": "stream",
     "text": [
      "<__main__.Student object at 0x00000147298174C0>\n",
      "<__main__.Student object at 0x0000014729817580>\n"
     ]
    }
   ],
   "source": [
    "print(object_1)\n",
    "print(object_2)"
   ]
  },
  {
   "cell_type": "code",
   "execution_count": 20,
   "id": "17194071",
   "metadata": {},
   "outputs": [
    {
     "data": {
      "text/plain": [
       "True"
      ]
     },
     "execution_count": 20,
     "metadata": {},
     "output_type": "execute_result"
    }
   ],
   "source": [
    "isinstance(object_1,Student)"
   ]
  },
  {
   "cell_type": "code",
   "execution_count": 21,
   "id": "5acabea0",
   "metadata": {},
   "outputs": [
    {
     "data": {
      "text/plain": [
       "False"
      ]
     },
     "execution_count": 21,
     "metadata": {},
     "output_type": "execute_result"
    }
   ],
   "source": [
    "object_3={}\n",
    "isinstance(object_3,Student)"
   ]
  },
  {
   "cell_type": "code",
   "execution_count": 23,
   "id": "ee9b08cb",
   "metadata": {},
   "outputs": [],
   "source": [
    "object_1.name='Mwonzora'\n",
    "object_1.email='Duggieanobirasarydzao@.co.zw'\n"
   ]
  },
  {
   "cell_type": "code",
   "execution_count": 24,
   "id": "55458672",
   "metadata": {},
   "outputs": [
    {
     "data": {
      "text/plain": [
       "'Mwonzora'"
      ]
     },
     "execution_count": 24,
     "metadata": {},
     "output_type": "execute_result"
    }
   ],
   "source": [
    "object_1.name"
   ]
  },
  {
   "cell_type": "code",
   "execution_count": 25,
   "id": "f9a483fe",
   "metadata": {},
   "outputs": [
    {
     "data": {
      "text/plain": [
       "'Duggieanobirasarydzao@.co.zw'"
      ]
     },
     "execution_count": 25,
     "metadata": {},
     "output_type": "execute_result"
    }
   ],
   "source": [
    "object_1.email"
   ]
  },
  {
   "cell_type": "code",
   "execution_count": 27,
   "id": "9faeb1fa",
   "metadata": {},
   "outputs": [],
   "source": [
    "object_2.name='Hitikiti'\n",
    "object_2.email='Hitikiti@yahoo.co.uk'"
   ]
  },
  {
   "cell_type": "code",
   "execution_count": 28,
   "id": "45da6872",
   "metadata": {},
   "outputs": [
    {
     "data": {
      "text/plain": [
       "'Hitikiti'"
      ]
     },
     "execution_count": 28,
     "metadata": {},
     "output_type": "execute_result"
    }
   ],
   "source": [
    "object_2.name"
   ]
  },
  {
   "cell_type": "code",
   "execution_count": 29,
   "id": "35b6f75f",
   "metadata": {},
   "outputs": [
    {
     "data": {
      "text/plain": [
       "'Hitikiti@yahoo.co.uk'"
      ]
     },
     "execution_count": 29,
     "metadata": {},
     "output_type": "execute_result"
    }
   ],
   "source": [
    "object_2.email"
   ]
  },
  {
   "cell_type": "code",
   "execution_count": 30,
   "id": "d538e934",
   "metadata": {},
   "outputs": [],
   "source": [
    "object_3=Student()"
   ]
  },
  {
   "cell_type": "code",
   "execution_count": 32,
   "id": "6ebe8737",
   "metadata": {},
   "outputs": [
    {
     "data": {
      "text/plain": [
       "'Magurugudu'"
      ]
     },
     "execution_count": 32,
     "metadata": {},
     "output_type": "execute_result"
    }
   ],
   "source": [
    "object_3.name='Magurugudu'\n",
    "object_3.name"
   ]
  },
  {
   "cell_type": "code",
   "execution_count": null,
   "id": "f2334a8e",
   "metadata": {},
   "outputs": [],
   "source": [
    "class Student:\n",
    "    name=''\n",
    "    score=0\n",
    "    active=True"
   ]
  },
  {
   "cell_type": "code",
   "execution_count": 35,
   "id": "7d940ace",
   "metadata": {},
   "outputs": [],
   "source": [
    "s1=Student()"
   ]
  },
  {
   "cell_type": "code",
   "execution_count": 37,
   "id": "99faa730",
   "metadata": {},
   "outputs": [
    {
     "data": {
      "text/plain": [
       "('', 0, True)"
      ]
     },
     "execution_count": 37,
     "metadata": {},
     "output_type": "execute_result"
    }
   ],
   "source": [
    "s1.name, s1.score, s1.active"
   ]
  },
  {
   "cell_type": "code",
   "execution_count": 39,
   "id": "21549498",
   "metadata": {},
   "outputs": [
    {
     "data": {
      "text/plain": [
       "('Kagande', 50, True)"
      ]
     },
     "execution_count": 39,
     "metadata": {},
     "output_type": "execute_result"
    }
   ],
   "source": [
    "s1.name='Kagande'\n",
    "s1.score=50\n",
    "s1.name, s1.score, s1.active"
   ]
  },
  {
   "cell_type": "code",
   "execution_count": null,
   "id": "a0c3022c",
   "metadata": {},
   "outputs": [],
   "source": []
  },
  {
   "cell_type": "code",
   "execution_count": 42,
   "id": "0dd768da",
   "metadata": {},
   "outputs": [],
   "source": [
    "class Student:\n",
    "    def __init__(self):\n",
    "        print('Initialise called: ')"
   ]
  },
  {
   "cell_type": "code",
   "execution_count": 43,
   "id": "83ac93b5",
   "metadata": {},
   "outputs": [
    {
     "name": "stdout",
     "output_type": "stream",
     "text": [
      "Initialise called: \n"
     ]
    }
   ],
   "source": [
    "s1=Student()"
   ]
  },
  {
   "cell_type": "code",
   "execution_count": 44,
   "id": "da3277fe",
   "metadata": {},
   "outputs": [
    {
     "name": "stdout",
     "output_type": "stream",
     "text": [
      "Initialise called: \n"
     ]
    }
   ],
   "source": [
    "s2=Student()"
   ]
  },
  {
   "cell_type": "code",
   "execution_count": 14,
   "id": "4c88bcf4",
   "metadata": {},
   "outputs": [],
   "source": [
    "class Student:\n",
    "    def __init__(self, first, last):\n",
    "        self.first=first\n",
    "        self.last=last\n",
    "        self.mail=first + \".\" +last + \"@bethanyschool.org.uk\"\n",
    "    def fullname(self):\n",
    "        return \"{} {}\".format(self.first, self.last)"
   ]
  },
  {
   "cell_type": "code",
   "execution_count": 16,
   "id": "a1ab3041",
   "metadata": {},
   "outputs": [
    {
     "name": "stdout",
     "output_type": "stream",
     "text": [
      "Mike Thomas\n",
      "Bonus Thomas\n"
     ]
    }
   ],
   "source": [
    "s1=Student('Mike', 'Thomas')\n",
    "s2=Student('Bonus', 'Thomas')\n",
    "print(s1.fullname())\n",
    "print(s2.fullname())"
   ]
  },
  {
   "cell_type": "code",
   "execution_count": 20,
   "id": "b0b77755",
   "metadata": {},
   "outputs": [],
   "source": [
    "class Tweet:\n",
    "    pass\n"
   ]
  },
  {
   "cell_type": "code",
   "execution_count": 23,
   "id": "bab62852",
   "metadata": {},
   "outputs": [
    {
     "name": "stdout",
     "output_type": "stream",
     "text": [
      "<__main__.Tweet object at 0x0000011A4997AAF0>\n"
     ]
    }
   ],
   "source": [
    "a=Tweet()\n",
    "print(a)"
   ]
  },
  {
   "cell_type": "code",
   "execution_count": null,
   "id": "7a5ba2d7",
   "metadata": {},
   "outputs": [],
   "source": []
  },
  {
   "cell_type": "code",
   "execution_count": 30,
   "id": "4a0a6079",
   "metadata": {},
   "outputs": [],
   "source": [
    "class Cars:\n",
    "    wheels=4\n",
    "    def __init__(self, name, colour):\n",
    "        self.name=\"Honda\"\n",
    "        self.colour=\"Red\"\n",
    "    \n",
    "        \n",
    "        "
   ]
  },
  {
   "cell_type": "code",
   "execution_count": 38,
   "id": "3d1a5159",
   "metadata": {},
   "outputs": [
    {
     "name": "stdout",
     "output_type": "stream",
     "text": [
      "<__main__.Cars object at 0x0000011A4997AA00>\n"
     ]
    }
   ],
   "source": [
    "c1=Cars('Honda','Red')\n",
    "print(c1)"
   ]
  },
  {
   "cell_type": "code",
   "execution_count": null,
   "id": "d57e2df7",
   "metadata": {},
   "outputs": [],
   "source": []
  },
  {
   "cell_type": "code",
   "execution_count": 1,
   "id": "747656fa",
   "metadata": {},
   "outputs": [],
   "source": [
    "class Houses:\n",
    "    def bethany_houses(self):\n",
    "        print(\"Well done, Bethany!\")\n",
    "        "
   ]
  },
  {
   "cell_type": "code",
   "execution_count": 7,
   "id": "5ea95d87",
   "metadata": {},
   "outputs": [
    {
     "name": "stdout",
     "output_type": "stream",
     "text": [
      "Well done, Bethany!\n"
     ]
    }
   ],
   "source": [
    "houses=Houses()\n",
    "houses.bethany_houses()\n"
   ]
  },
  {
   "cell_type": "code",
   "execution_count": 8,
   "id": "dbf7a9f6",
   "metadata": {},
   "outputs": [
    {
     "name": "stdout",
     "output_type": "stream",
     "text": [
      "['__class__', '__delattr__', '__dict__', '__dir__', '__doc__', '__eq__', '__format__', '__ge__', '__getattribute__', '__gt__', '__hash__', '__init__', '__init_subclass__', '__le__', '__lt__', '__module__', '__ne__', '__new__', '__reduce__', '__reduce_ex__', '__repr__', '__setattr__', '__sizeof__', '__str__', '__subclasshook__', '__weakref__', 'bethany_houses']\n"
     ]
    }
   ],
   "source": [
    "print(dir(houses))"
   ]
  },
  {
   "cell_type": "code",
   "execution_count": 1,
   "id": "a270d460",
   "metadata": {},
   "outputs": [
    {
     "name": "stdout",
     "output_type": "stream",
     "text": [
      "250\n",
      "<class '__main__.Item'>\n",
      "<__main__.Item object at 0x00000198AD4C9070>\n",
      "Phone\n",
      "50\n",
      "5\n",
      "250\n"
     ]
    }
   ],
   "source": [
    "class Item:\n",
    "    def calculate_total_price(self, x, y):\n",
    "        return x*y\n",
    "item_1=Item()\n",
    "item_1.name=\"Phone\"\n",
    "item_1.price=50\n",
    "item_1.quantity =5\n",
    "print(item_1.calculate_total_price(item_1.price, item_1.quantity))\n",
    "item_2=Item()\n",
    "item_2.name=\"Laptop\"\n",
    "item_2.price=1000\n",
    "item_2.quantity=5\n",
    "\n",
    "print(Item)\n",
    "print(item_1)\n",
    "print(item_1.name)\n",
    "print(item_1.price)\n",
    "print(item_1.quantity)\n",
    "print(item_1.calculate_total_price(item_1.price, item_1.quantity))\n"
   ]
  },
  {
   "cell_type": "code",
   "execution_count": null,
   "id": "f8db11f8",
   "metadata": {},
   "outputs": [],
   "source": []
  },
  {
   "cell_type": "code",
   "execution_count": 20,
   "id": "0c7e8102",
   "metadata": {},
   "outputs": [
    {
     "name": "stdout",
     "output_type": "stream",
     "text": [
      "I am here!\n",
      "I am here!\n"
     ]
    }
   ],
   "source": [
    "class Item:\n",
    "    def __init__(self):\n",
    "        print(\"I am here!\")\n",
    "item_1=Item()\n",
    "item_1.name=\"Phone\"\n",
    "item_1.price=50\n",
    "item_1.quantity =5\n",
    "#print(item_1.calculate_total_price(item_1.price, item_1.quantity))\n",
    "item_2=Item()\n",
    "item_2.name=\"Laptop\"\n",
    "item_2.price=1000\n",
    "item_2.quantity=5\n"
   ]
  },
  {
   "cell_type": "code",
   "execution_count": 54,
   "id": "c092b27d",
   "metadata": {},
   "outputs": [],
   "source": [
    "import csv\n",
    "class Students:\n",
    "    pay_rise=3.5\n",
    "    all=[]\n",
    "    def __init__(self, name, age, subject, tutor):\n",
    "        self.name=name\n",
    "        self.age=age\n",
    "        self.subject=subject\n",
    "        self.tutor=tutor\n",
    "        Students.all.append(self)\n",
    "    def calculate_total_price(self):\n",
    "        return self.age * 3\n",
    "    @classmethod\n",
    "    def instantiate_from_csv(cls):\n",
    "        with open (\"table.csv\", \"r\") as f:\n",
    "            reader=csv.DictReader(f)\n",
    "            table= list(reader)\n",
    "        for item in table:\n",
    "            print(item)\n",
    "    def __repr__(self):\n",
    "        return f\"Students('{self.name}', {self.age}, {self.subject}, {self.tutor})\"\n",
    "\n",
    "student_1=Students(\"Rumbe Manyozo\", 50, \"Shona\", \"Chimudzeka\")\n",
    "student_2=Students(\"Matsva Mupararano\", 40, \"English\", \"Marange\")\n",
    "student_3=Students(\"Mita Kabweya\", 51, \"Maths\", \"Chigunha\")\n",
    "student_4=Students(\"Mukonyo Mukonyo\", 52, \"Shona\", \"Chimudzeka\")\n",
    "student_1=Students(\"Tozivepi Kademajari\", 50, \"Shona\", \"Chimudzeka\")"
   ]
  },
  {
   "cell_type": "code",
   "execution_count": 34,
   "id": "ca08802f",
   "metadata": {},
   "outputs": [
    {
     "name": "stdout",
     "output_type": "stream",
     "text": [
      "Name:Rumbe Manyozo Age:  50 Shona Chimudzeka\n",
      "150\n",
      "3.5\n",
      "3.5\n"
     ]
    }
   ],
   "source": [
    "#print(\"Name:\"+ student_1.name +\" \" +\"Age: \", student_1.age,  student_1.subject, student_1.tutor)\n",
    "#print(student_1.calculate_total_price())\n",
    "#print(Students.pay_rise)\n",
    "#print(student_1.pay_rise)"
   ]
  },
  {
   "cell_type": "code",
   "execution_count": 47,
   "id": "05409539",
   "metadata": {},
   "outputs": [
    {
     "name": "stdout",
     "output_type": "stream",
     "text": [
      "[Students('Rumbe Manyozo', 50, Shona, Chimudzeka), Students('Matsva Mupararano', 40, English, Marange), Students('Mita Kabweya', 51, Maths, Chigunha), Students('Mukonyo Mukonyo', 52, Shona, Chimudzeka), Students('Tozivepi Kademajari', 50, Shona, Chimudzeka)]\n"
     ]
    }
   ],
   "source": [
    "print(Students.all)"
   ]
  },
  {
   "cell_type": "code",
   "execution_count": 45,
   "id": "7047b5f6",
   "metadata": {},
   "outputs": [
    {
     "name": "stdout",
     "output_type": "stream",
     "text": [
      "Rumbe Manyozo 50 Shona Chimudzeka\n",
      "Matsva Mupararano 40 English Marange\n",
      "Mita Kabweya 51 Maths Chigunha\n",
      "Mukonyo Mukonyo 52 Shona Chimudzeka\n",
      "Tozivepi Kademajari 50 Shona Chimudzeka\n"
     ]
    }
   ],
   "source": [
    "for student in Students.all:\n",
    "    print(student.name, student.age, student.subject, student.tutor)\n"
   ]
  },
  {
   "cell_type": "code",
   "execution_count": 55,
   "id": "f8b3657d",
   "metadata": {},
   "outputs": [
    {
     "name": "stdout",
     "output_type": "stream",
     "text": [
      "{'Name': 'Matsva Mupararano', ' Age': ' 40', ' Subject': ' English Marange', ' Tutor': '', 'Rumbe Manyozo': None, ' 50': None, ' Shona': None, ' Chimudzeka': None, '': None}\n",
      "{'Name': 'Mita Kabweya', ' Age': ' 51', ' Subject': ' Maths', ' Tutor': ' Chigunha', 'Rumbe Manyozo': '', ' 50': None, ' Shona': None, ' Chimudzeka': None, '': None}\n",
      "{'Name': 'Mukonyo Mukonyo', ' Age': ' 52', ' Subject': ' Shona', ' Tutor': ' Chimudzeka', 'Rumbe Manyozo': '', ' 50': None, ' Shona': None, ' Chimudzeka': None, '': None}\n",
      "{'Name': 'Tozivepi Kademajari', ' Age': ' 50', ' Subject': ' Shona', ' Tutor': ' Chimudzeka', 'Rumbe Manyozo': None, ' 50': None, ' Shona': None, ' Chimudzeka': None, '': None}\n"
     ]
    }
   ],
   "source": [
    "Students.instantiate_from_csv()"
   ]
  },
  {
   "cell_type": "code",
   "execution_count": null,
   "id": "12224be3",
   "metadata": {},
   "outputs": [],
   "source": []
  },
  {
   "cell_type": "code",
   "execution_count": 56,
   "id": "50a57813",
   "metadata": {},
   "outputs": [
    {
     "ename": "SyntaxError",
     "evalue": "invalid syntax (Temp/ipykernel_4212/1286859447.py, line 1)",
     "output_type": "error",
     "traceback": [
      "\u001b[1;36m  File \u001b[1;32m\"C:\\Users\\1thomas\\AppData\\Local\\Temp/ipykernel_4212/1286859447.py\"\u001b[1;36m, line \u001b[1;32m1\u001b[0m\n\u001b[1;33m    Class Employee:\u001b[0m\n\u001b[1;37m          ^\u001b[0m\n\u001b[1;31mSyntaxError\u001b[0m\u001b[1;31m:\u001b[0m invalid syntax\n"
     ]
    }
   ],
   "source": [
    "Class Employee:\n",
    "    pass\n",
    "\n",
    "e1 = Employee()\n",
    "e2 = Employee()\n",
    "\n",
    "e1.name = “Jill”\n",
    "print(e2.name)"
   ]
  },
  {
   "cell_type": "code",
   "execution_count": null,
   "id": "43636013",
   "metadata": {},
   "outputs": [],
   "source": []
  },
  {
   "cell_type": "code",
   "execution_count": null,
   "id": "b351505a",
   "metadata": {},
   "outputs": [],
   "source": []
  },
  {
   "cell_type": "code",
   "execution_count": null,
   "id": "5290cdb0",
   "metadata": {},
   "outputs": [],
   "source": []
  },
  {
   "cell_type": "code",
   "execution_count": null,
   "id": "f132aaad",
   "metadata": {},
   "outputs": [],
   "source": []
  },
  {
   "cell_type": "code",
   "execution_count": null,
   "id": "52fb28c3",
   "metadata": {},
   "outputs": [],
   "source": []
  },
  {
   "cell_type": "code",
   "execution_count": null,
   "id": "ea122bdd",
   "metadata": {},
   "outputs": [],
   "source": []
  },
  {
   "cell_type": "code",
   "execution_count": null,
   "id": "dd3615ef",
   "metadata": {},
   "outputs": [],
   "source": []
  }
 ],
 "metadata": {
  "kernelspec": {
   "display_name": "Python 3 (ipykernel)",
   "language": "python",
   "name": "python3"
  },
  "language_info": {
   "codemirror_mode": {
    "name": "ipython",
    "version": 3
   },
   "file_extension": ".py",
   "mimetype": "text/x-python",
   "name": "python",
   "nbconvert_exporter": "python",
   "pygments_lexer": "ipython3",
   "version": "3.9.7"
  }
 },
 "nbformat": 4,
 "nbformat_minor": 5
}
