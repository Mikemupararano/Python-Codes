{
 "cells": [
  {
   "cell_type": "code",
   "execution_count": null,
   "id": "cd22e33f",
   "metadata": {},
   "outputs": [],
   "source": [
    "#Check if a patient's name is in a hospital"
   ]
  },
  {
   "cell_type": "code",
   "execution_count": 8,
   "id": "c1923d07",
   "metadata": {},
   "outputs": [
    {
     "name": "stdout",
     "output_type": "stream",
     "text": [
      "Enter your name:Mike Thomas\n",
      "Mike Thomas is  51 years old.\n"
     ]
    }
   ],
   "source": [
    "name=input(\"Enter your name:\" )\n",
    "birth_date= 1971\n",
    "age=2022-int(birth_date)\n",
    "print(name, \"is \", age, \"years old.\")\n"
   ]
  },
  {
   "cell_type": "code",
   "execution_count": null,
   "id": "c1ed0b12",
   "metadata": {},
   "outputs": [],
   "source": [
    "#Adding two numbers"
   ]
  },
  {
   "cell_type": "code",
   "execution_count": 13,
   "id": "aeeb769b",
   "metadata": {},
   "outputs": [
    {
     "name": "stdout",
     "output_type": "stream",
     "text": [
      "Enter the first number: 5\n",
      "Enter the second number: 5\n",
      "10.0\n"
     ]
    }
   ],
   "source": [
    "first_number= input(\"Enter the first number: \")\n",
    "second_number=input(\"Enter the second number: \")\n",
    "sum= float(first_number) + float(second_number)\n",
    "print(sum)"
   ]
  },
  {
   "cell_type": "code",
   "execution_count": 22,
   "id": "400ce609",
   "metadata": {},
   "outputs": [
    {
     "name": "stdout",
     "output_type": "stream",
     "text": [
      "PYTHON FOR BEGINNERS\n",
      "4\n",
      "Python 4 Beginners\n",
      "True\n"
     ]
    }
   ],
   "source": [
    "course= \"Python For Beginners\"\n",
    "print(course.upper())\n",
    "print(course.find(\"o\"))\n",
    "print(course.replace(\"For\", \"4\"))\n",
    "print(\"Python\" in course)"
   ]
  },
  {
   "cell_type": "code",
   "execution_count": 13,
   "id": "6f577fdc",
   "metadata": {},
   "outputs": [
    {
     "name": "stdout",
     "output_type": "stream",
     "text": [
      "Enter k or l: k\n",
      "Enter your weight: 170\n",
      "76.5 kg\n"
     ]
    }
   ],
   "source": [
    "unit = input(\"Enter k or l: \")\n",
    "weight =input(\"Enter your weight: \")\n",
    "if unit.lower()==\"k\":\n",
    "    mass=float(weight)*0.45\n",
    "    print(mass,\"kg\")\n",
    "else:\n",
    "    print(weight, \"lb\")\n",
    "\n"
   ]
  },
  {
   "cell_type": "code",
   "execution_count": 6,
   "id": "1c72f0c8",
   "metadata": {},
   "outputs": [
    {
     "name": "stdout",
     "output_type": "stream",
     "text": [
      "1\n",
      "2\n",
      "3\n",
      "4\n",
      "5\n"
     ]
    }
   ],
   "source": [
    "i=1\n",
    "while i<=5:\n",
    "    print(i)\n",
    "    i=i+1\n",
    "    \n",
    "\n",
    "  \n"
   ]
  },
  {
   "cell_type": "code",
   "execution_count": 12,
   "id": "1e2543e9",
   "metadata": {},
   "outputs": [
    {
     "name": "stdout",
     "output_type": "stream",
     "text": [
      "[1, -2, 2, 3, 4, 5]\n"
     ]
    }
   ],
   "source": [
    "numbers= [1,2,3,4,5]\n",
    "numbers.insert(1,-2)\n",
    "print(numbers)"
   ]
  },
  {
   "cell_type": "code",
   "execution_count": 13,
   "id": "b8d31ef5",
   "metadata": {},
   "outputs": [
    {
     "name": "stdout",
     "output_type": "stream",
     "text": [
      "1\n",
      "-2\n",
      "2\n",
      "3\n",
      "4\n",
      "5\n"
     ]
    }
   ],
   "source": [
    "for item in numbers:\n",
    "    print(item)"
   ]
  },
  {
   "cell_type": "code",
   "execution_count": 14,
   "id": "3e1fdfc8",
   "metadata": {},
   "outputs": [
    {
     "name": "stdout",
     "output_type": "stream",
     "text": [
      "1\n",
      "2\n",
      "3\n",
      "4\n",
      "5\n",
      "6\n",
      "7\n"
     ]
    }
   ],
   "source": [
    "item=0\n",
    "while item<=len(numbers):\n",
    "    item=item+1\n",
    "    print(item)"
   ]
  },
  {
   "cell_type": "code",
   "execution_count": 16,
   "id": "e5d09269",
   "metadata": {},
   "outputs": [
    {
     "name": "stdout",
     "output_type": "stream",
     "text": [
      "range(0, 5)\n",
      "0\n",
      "1\n",
      "2\n",
      "3\n",
      "4\n"
     ]
    }
   ],
   "source": [
    "num=range(5)\n",
    "print(num)\n",
    "for numb in num:\n",
    "    print(numb)"
   ]
  },
  {
   "cell_type": "code",
   "execution_count": 17,
   "id": "0f7d20b0",
   "metadata": {},
   "outputs": [
    {
     "ename": "TypeError",
     "evalue": "'tuple' object does not support item assignment",
     "output_type": "error",
     "traceback": [
      "\u001b[1;31m---------------------------------------------------------------------------\u001b[0m",
      "\u001b[1;31mTypeError\u001b[0m                                 Traceback (most recent call last)",
      "\u001b[1;32m~\\AppData\\Local\\Temp/ipykernel_7580/157567430.py\u001b[0m in \u001b[0;36m<module>\u001b[1;34m\u001b[0m\n\u001b[0;32m      1\u001b[0m \u001b[0mtuples\u001b[0m\u001b[1;33m=\u001b[0m\u001b[1;33m(\u001b[0m\u001b[1;36m1\u001b[0m\u001b[1;33m,\u001b[0m\u001b[1;36m2\u001b[0m\u001b[1;33m,\u001b[0m\u001b[1;36m3\u001b[0m\u001b[1;33m)\u001b[0m\u001b[1;33m\u001b[0m\u001b[1;33m\u001b[0m\u001b[0m\n\u001b[1;32m----> 2\u001b[1;33m \u001b[0mtuples\u001b[0m\u001b[1;33m[\u001b[0m\u001b[1;36m0\u001b[0m\u001b[1;33m]\u001b[0m\u001b[1;33m=\u001b[0m\u001b[1;36m5\u001b[0m\u001b[1;33m\u001b[0m\u001b[1;33m\u001b[0m\u001b[0m\n\u001b[0m",
      "\u001b[1;31mTypeError\u001b[0m: 'tuple' object does not support item assignment"
     ]
    }
   ],
   "source": [
    "tuples=(1,2,3)\n",
    "tuples[0]=5"
   ]
  },
  {
   "cell_type": "code",
   "execution_count": null,
   "id": "fdd9b423",
   "metadata": {},
   "outputs": [],
   "source": []
  },
  {
   "cell_type": "code",
   "execution_count": null,
   "id": "53e80517",
   "metadata": {},
   "outputs": [],
   "source": []
  },
  {
   "cell_type": "code",
   "execution_count": null,
   "id": "4b33dc66",
   "metadata": {},
   "outputs": [],
   "source": []
  }
 ],
 "metadata": {
  "kernelspec": {
   "display_name": "Python 3 (ipykernel)",
   "language": "python",
   "name": "python3"
  },
  "language_info": {
   "codemirror_mode": {
    "name": "ipython",
    "version": 3
   },
   "file_extension": ".py",
   "mimetype": "text/x-python",
   "name": "python",
   "nbconvert_exporter": "python",
   "pygments_lexer": "ipython3",
   "version": "3.9.7"
  }
 },
 "nbformat": 4,
 "nbformat_minor": 5
}
